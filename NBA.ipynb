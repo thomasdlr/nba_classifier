{
 "cells": [
  {
   "cell_type": "markdown",
   "id": "e0c57f3e",
   "metadata": {},
   "source": [
    "# Pretreatment"
   ]
  },
  {
   "cell_type": "markdown",
   "id": "5beb57ce",
   "metadata": {},
   "source": [
    "## Data import"
   ]
  },
  {
   "cell_type": "code",
   "execution_count": 1,
   "id": "a40359b7",
   "metadata": {},
   "outputs": [],
   "source": [
    "import pandas as pd\n",
    "\n",
    "# Load dataset\n",
    "df = pd.read_csv(\".\\\\nba_logreg.csv\")\n",
    "\n",
    "# extract names, labels, features names and values\n",
    "names = df['Name'].values.tolist() # players names\n",
    "labels = df['TARGET_5Yrs'].values # labels\n",
    "paramset = df.drop(['TARGET_5Yrs','Name'],axis=1).columns.values\n",
    "#paramset = df[[\"GP\",\"MIN\",\"PTS\"]].columns.values\n",
    "df_vals = df.drop(['TARGET_5Yrs','Name'],axis=1).values\n",
    "#df_vals = df[[\"GP\",\"MIN\",\"PTS\"]].values"
   ]
  },
  {
   "cell_type": "markdown",
   "id": "cf28d012",
   "metadata": {},
   "source": [
    "## Duplicates"
   ]
  },
  {
   "cell_type": "code",
   "execution_count": 2,
   "id": "05f3e993",
   "metadata": {},
   "outputs": [],
   "source": [
    "initial_size = len(df)"
   ]
  },
  {
   "cell_type": "code",
   "execution_count": 3,
   "id": "aae892c4",
   "metadata": {},
   "outputs": [
    {
     "name": "stdout",
     "output_type": "stream",
     "text": [
      "deletion of 12 duplicates\n"
     ]
    }
   ],
   "source": [
    "df.drop_duplicates(keep='first', inplace=True)\n",
    "print(\"deletion of \" + str(initial_size - len(df)) + \" duplicates\" )"
   ]
  },
  {
   "cell_type": "markdown",
   "id": "0a59d6f8",
   "metadata": {},
   "source": [
    "## Missing values"
   ]
  },
  {
   "cell_type": "code",
   "execution_count": 4,
   "id": "c1310a94",
   "metadata": {},
   "outputs": [
    {
     "data": {
      "text/plain": [
       "Name           False\n",
       "GP             False\n",
       "MIN            False\n",
       "PTS            False\n",
       "FGM            False\n",
       "FGA            False\n",
       "FG%            False\n",
       "3P Made        False\n",
       "3PA            False\n",
       "3P%             True\n",
       "FTM            False\n",
       "FTA            False\n",
       "FT%            False\n",
       "OREB           False\n",
       "DREB           False\n",
       "REB            False\n",
       "AST            False\n",
       "STL            False\n",
       "BLK            False\n",
       "TOV            False\n",
       "TARGET_5Yrs    False\n",
       "dtype: bool"
      ]
     },
     "execution_count": 4,
     "metadata": {},
     "output_type": "execute_result"
    }
   ],
   "source": [
    "df.isna().any()"
   ]
  },
  {
   "cell_type": "code",
   "execution_count": 5,
   "id": "f2b849f1",
   "metadata": {},
   "outputs": [
    {
     "data": {
      "text/plain": [
       "Name            0\n",
       "GP              0\n",
       "MIN             0\n",
       "PTS             0\n",
       "FGM             0\n",
       "FGA             0\n",
       "FG%             0\n",
       "3P Made         0\n",
       "3PA             0\n",
       "3P%            10\n",
       "FTM             0\n",
       "FTA             0\n",
       "FT%             0\n",
       "OREB            0\n",
       "DREB            0\n",
       "REB             0\n",
       "AST             0\n",
       "STL             0\n",
       "BLK             0\n",
       "TOV             0\n",
       "TARGET_5Yrs     0\n",
       "dtype: int64"
      ]
     },
     "execution_count": 5,
     "metadata": {},
     "output_type": "execute_result"
    }
   ],
   "source": [
    "df.isna().sum()"
   ]
  },
  {
   "cell_type": "code",
   "execution_count": 6,
   "id": "4e674d70",
   "metadata": {},
   "outputs": [
    {
     "data": {
      "text/html": [
       "<div>\n",
       "<style scoped>\n",
       "    .dataframe tbody tr th:only-of-type {\n",
       "        vertical-align: middle;\n",
       "    }\n",
       "\n",
       "    .dataframe tbody tr th {\n",
       "        vertical-align: top;\n",
       "    }\n",
       "\n",
       "    .dataframe thead th {\n",
       "        text-align: right;\n",
       "    }\n",
       "</style>\n",
       "<table border=\"1\" class=\"dataframe\">\n",
       "  <thead>\n",
       "    <tr style=\"text-align: right;\">\n",
       "      <th></th>\n",
       "      <th>Name</th>\n",
       "      <th>GP</th>\n",
       "      <th>MIN</th>\n",
       "      <th>PTS</th>\n",
       "      <th>FGM</th>\n",
       "      <th>FGA</th>\n",
       "      <th>FG%</th>\n",
       "      <th>3P Made</th>\n",
       "      <th>3PA</th>\n",
       "      <th>3P%</th>\n",
       "      <th>...</th>\n",
       "      <th>FTA</th>\n",
       "      <th>FT%</th>\n",
       "      <th>OREB</th>\n",
       "      <th>DREB</th>\n",
       "      <th>REB</th>\n",
       "      <th>AST</th>\n",
       "      <th>STL</th>\n",
       "      <th>BLK</th>\n",
       "      <th>TOV</th>\n",
       "      <th>TARGET_5Yrs</th>\n",
       "    </tr>\n",
       "  </thead>\n",
       "  <tbody>\n",
       "    <tr>\n",
       "      <th>338</th>\n",
       "      <td>Ken Johnson</td>\n",
       "      <td>64</td>\n",
       "      <td>12.7</td>\n",
       "      <td>4.1</td>\n",
       "      <td>1.8</td>\n",
       "      <td>3.3</td>\n",
       "      <td>52.8</td>\n",
       "      <td>0.0</td>\n",
       "      <td>0.0</td>\n",
       "      <td>NaN</td>\n",
       "      <td>...</td>\n",
       "      <td>1.3</td>\n",
       "      <td>43.5</td>\n",
       "      <td>1.4</td>\n",
       "      <td>2.4</td>\n",
       "      <td>3.8</td>\n",
       "      <td>0.3</td>\n",
       "      <td>0.2</td>\n",
       "      <td>0.3</td>\n",
       "      <td>0.9</td>\n",
       "      <td>0.0</td>\n",
       "    </tr>\n",
       "    <tr>\n",
       "      <th>340</th>\n",
       "      <td>Pete Williams</td>\n",
       "      <td>53</td>\n",
       "      <td>10.8</td>\n",
       "      <td>2.8</td>\n",
       "      <td>1.3</td>\n",
       "      <td>2.1</td>\n",
       "      <td>60.4</td>\n",
       "      <td>0.0</td>\n",
       "      <td>0.0</td>\n",
       "      <td>NaN</td>\n",
       "      <td>...</td>\n",
       "      <td>0.8</td>\n",
       "      <td>42.5</td>\n",
       "      <td>0.9</td>\n",
       "      <td>1.9</td>\n",
       "      <td>2.8</td>\n",
       "      <td>0.3</td>\n",
       "      <td>0.4</td>\n",
       "      <td>0.4</td>\n",
       "      <td>0.4</td>\n",
       "      <td>0.0</td>\n",
       "    </tr>\n",
       "    <tr>\n",
       "      <th>358</th>\n",
       "      <td>Melvin Turpin</td>\n",
       "      <td>79</td>\n",
       "      <td>24.7</td>\n",
       "      <td>10.6</td>\n",
       "      <td>4.6</td>\n",
       "      <td>9.0</td>\n",
       "      <td>51.1</td>\n",
       "      <td>0.0</td>\n",
       "      <td>0.0</td>\n",
       "      <td>NaN</td>\n",
       "      <td>...</td>\n",
       "      <td>1.8</td>\n",
       "      <td>78.4</td>\n",
       "      <td>2.0</td>\n",
       "      <td>3.8</td>\n",
       "      <td>5.7</td>\n",
       "      <td>0.5</td>\n",
       "      <td>0.5</td>\n",
       "      <td>1.1</td>\n",
       "      <td>1.5</td>\n",
       "      <td>1.0</td>\n",
       "    </tr>\n",
       "    <tr>\n",
       "      <th>386</th>\n",
       "      <td>Jim Petersen</td>\n",
       "      <td>60</td>\n",
       "      <td>11.9</td>\n",
       "      <td>3.2</td>\n",
       "      <td>1.2</td>\n",
       "      <td>2.4</td>\n",
       "      <td>48.6</td>\n",
       "      <td>0.0</td>\n",
       "      <td>0.0</td>\n",
       "      <td>NaN</td>\n",
       "      <td>...</td>\n",
       "      <td>1.1</td>\n",
       "      <td>75.8</td>\n",
       "      <td>0.7</td>\n",
       "      <td>1.7</td>\n",
       "      <td>2.5</td>\n",
       "      <td>0.5</td>\n",
       "      <td>0.2</td>\n",
       "      <td>0.5</td>\n",
       "      <td>1.2</td>\n",
       "      <td>1.0</td>\n",
       "    </tr>\n",
       "    <tr>\n",
       "      <th>397</th>\n",
       "      <td>Tom Scheffler</td>\n",
       "      <td>39</td>\n",
       "      <td>6.9</td>\n",
       "      <td>1.3</td>\n",
       "      <td>0.5</td>\n",
       "      <td>1.3</td>\n",
       "      <td>41.2</td>\n",
       "      <td>0.0</td>\n",
       "      <td>0.0</td>\n",
       "      <td>NaN</td>\n",
       "      <td>...</td>\n",
       "      <td>0.5</td>\n",
       "      <td>50.0</td>\n",
       "      <td>0.5</td>\n",
       "      <td>1.5</td>\n",
       "      <td>1.9</td>\n",
       "      <td>0.3</td>\n",
       "      <td>0.2</td>\n",
       "      <td>0.3</td>\n",
       "      <td>0.4</td>\n",
       "      <td>0.0</td>\n",
       "    </tr>\n",
       "    <tr>\n",
       "      <th>507</th>\n",
       "      <td>Sam Williams</td>\n",
       "      <td>59</td>\n",
       "      <td>18.2</td>\n",
       "      <td>6.1</td>\n",
       "      <td>2.6</td>\n",
       "      <td>4.7</td>\n",
       "      <td>55.6</td>\n",
       "      <td>0.0</td>\n",
       "      <td>0.0</td>\n",
       "      <td>NaN</td>\n",
       "      <td>...</td>\n",
       "      <td>1.5</td>\n",
       "      <td>55.1</td>\n",
       "      <td>1.5</td>\n",
       "      <td>3.7</td>\n",
       "      <td>5.2</td>\n",
       "      <td>0.6</td>\n",
       "      <td>0.8</td>\n",
       "      <td>1.3</td>\n",
       "      <td>1.1</td>\n",
       "      <td>0.0</td>\n",
       "    </tr>\n",
       "    <tr>\n",
       "      <th>509</th>\n",
       "      <td>Kurt Nimphius</td>\n",
       "      <td>63</td>\n",
       "      <td>17.2</td>\n",
       "      <td>5.3</td>\n",
       "      <td>2.2</td>\n",
       "      <td>4.7</td>\n",
       "      <td>46.1</td>\n",
       "      <td>0.0</td>\n",
       "      <td>0.0</td>\n",
       "      <td>NaN</td>\n",
       "      <td>...</td>\n",
       "      <td>1.7</td>\n",
       "      <td>58.3</td>\n",
       "      <td>1.5</td>\n",
       "      <td>3.2</td>\n",
       "      <td>4.7</td>\n",
       "      <td>1.0</td>\n",
       "      <td>0.3</td>\n",
       "      <td>1.3</td>\n",
       "      <td>0.9</td>\n",
       "      <td>1.0</td>\n",
       "    </tr>\n",
       "    <tr>\n",
       "      <th>510</th>\n",
       "      <td>Pete Verhoeven</td>\n",
       "      <td>71</td>\n",
       "      <td>17.0</td>\n",
       "      <td>4.9</td>\n",
       "      <td>2.1</td>\n",
       "      <td>4.2</td>\n",
       "      <td>50.3</td>\n",
       "      <td>0.0</td>\n",
       "      <td>0.0</td>\n",
       "      <td>NaN</td>\n",
       "      <td>...</td>\n",
       "      <td>1.0</td>\n",
       "      <td>70.8</td>\n",
       "      <td>1.5</td>\n",
       "      <td>2.1</td>\n",
       "      <td>3.6</td>\n",
       "      <td>0.7</td>\n",
       "      <td>0.6</td>\n",
       "      <td>0.3</td>\n",
       "      <td>0.8</td>\n",
       "      <td>1.0</td>\n",
       "    </tr>\n",
       "    <tr>\n",
       "      <th>521</th>\n",
       "      <td>Jim Smith</td>\n",
       "      <td>72</td>\n",
       "      <td>11.9</td>\n",
       "      <td>2.9</td>\n",
       "      <td>1.2</td>\n",
       "      <td>2.3</td>\n",
       "      <td>50.9</td>\n",
       "      <td>0.0</td>\n",
       "      <td>0.0</td>\n",
       "      <td>NaN</td>\n",
       "      <td>...</td>\n",
       "      <td>1.2</td>\n",
       "      <td>45.9</td>\n",
       "      <td>1.0</td>\n",
       "      <td>1.5</td>\n",
       "      <td>2.5</td>\n",
       "      <td>0.6</td>\n",
       "      <td>0.3</td>\n",
       "      <td>0.7</td>\n",
       "      <td>0.7</td>\n",
       "      <td>0.0</td>\n",
       "    </tr>\n",
       "    <tr>\n",
       "      <th>559</th>\n",
       "      <td>Jeff Wilkins</td>\n",
       "      <td>56</td>\n",
       "      <td>18.9</td>\n",
       "      <td>4.7</td>\n",
       "      <td>2.1</td>\n",
       "      <td>4.6</td>\n",
       "      <td>45.0</td>\n",
       "      <td>0.0</td>\n",
       "      <td>0.0</td>\n",
       "      <td>NaN</td>\n",
       "      <td>...</td>\n",
       "      <td>0.7</td>\n",
       "      <td>67.5</td>\n",
       "      <td>1.1</td>\n",
       "      <td>3.8</td>\n",
       "      <td>4.9</td>\n",
       "      <td>0.7</td>\n",
       "      <td>0.6</td>\n",
       "      <td>0.8</td>\n",
       "      <td>1.1</td>\n",
       "      <td>1.0</td>\n",
       "    </tr>\n",
       "  </tbody>\n",
       "</table>\n",
       "<p>10 rows × 21 columns</p>\n",
       "</div>"
      ],
      "text/plain": [
       "               Name  GP   MIN   PTS  FGM  FGA   FG%  3P Made  3PA  3P%  ...  \\\n",
       "338     Ken Johnson  64  12.7   4.1  1.8  3.3  52.8      0.0  0.0  NaN  ...   \n",
       "340   Pete Williams  53  10.8   2.8  1.3  2.1  60.4      0.0  0.0  NaN  ...   \n",
       "358   Melvin Turpin  79  24.7  10.6  4.6  9.0  51.1      0.0  0.0  NaN  ...   \n",
       "386    Jim Petersen  60  11.9   3.2  1.2  2.4  48.6      0.0  0.0  NaN  ...   \n",
       "397   Tom Scheffler  39   6.9   1.3  0.5  1.3  41.2      0.0  0.0  NaN  ...   \n",
       "507    Sam Williams  59  18.2   6.1  2.6  4.7  55.6      0.0  0.0  NaN  ...   \n",
       "509   Kurt Nimphius  63  17.2   5.3  2.2  4.7  46.1      0.0  0.0  NaN  ...   \n",
       "510  Pete Verhoeven  71  17.0   4.9  2.1  4.2  50.3      0.0  0.0  NaN  ...   \n",
       "521       Jim Smith  72  11.9   2.9  1.2  2.3  50.9      0.0  0.0  NaN  ...   \n",
       "559    Jeff Wilkins  56  18.9   4.7  2.1  4.6  45.0      0.0  0.0  NaN  ...   \n",
       "\n",
       "     FTA   FT%  OREB  DREB  REB  AST  STL  BLK  TOV  TARGET_5Yrs  \n",
       "338  1.3  43.5   1.4   2.4  3.8  0.3  0.2  0.3  0.9          0.0  \n",
       "340  0.8  42.5   0.9   1.9  2.8  0.3  0.4  0.4  0.4          0.0  \n",
       "358  1.8  78.4   2.0   3.8  5.7  0.5  0.5  1.1  1.5          1.0  \n",
       "386  1.1  75.8   0.7   1.7  2.5  0.5  0.2  0.5  1.2          1.0  \n",
       "397  0.5  50.0   0.5   1.5  1.9  0.3  0.2  0.3  0.4          0.0  \n",
       "507  1.5  55.1   1.5   3.7  5.2  0.6  0.8  1.3  1.1          0.0  \n",
       "509  1.7  58.3   1.5   3.2  4.7  1.0  0.3  1.3  0.9          1.0  \n",
       "510  1.0  70.8   1.5   2.1  3.6  0.7  0.6  0.3  0.8          1.0  \n",
       "521  1.2  45.9   1.0   1.5  2.5  0.6  0.3  0.7  0.7          0.0  \n",
       "559  0.7  67.5   1.1   3.8  4.9  0.7  0.6  0.8  1.1          1.0  \n",
       "\n",
       "[10 rows x 21 columns]"
      ]
     },
     "execution_count": 6,
     "metadata": {},
     "output_type": "execute_result"
    }
   ],
   "source": [
    "df.loc[df['3P%'].isna()]"
   ]
  },
  {
   "cell_type": "code",
   "execution_count": 7,
   "id": "1a9b0483",
   "metadata": {},
   "outputs": [],
   "source": [
    "'''\n",
    "The missing values are caracterized by 3PA=0 so we replace them by 0\n",
    "'''\n",
    "\n",
    "df[\"3P%\"]=df['3P%'].fillna(0) "
   ]
  },
  {
   "cell_type": "markdown",
   "id": "9de78c66",
   "metadata": {},
   "source": [
    "## Outliers"
   ]
  },
  {
   "cell_type": "code",
   "execution_count": 8,
   "id": "58f2615d",
   "metadata": {},
   "outputs": [
    {
     "name": "stdout",
     "output_type": "stream",
     "text": [
      "GP\n"
     ]
    },
    {
     "data": {
      "image/png": "[encoded data removed]",
      "text/plain": [
       "<Figure size 432x288 with 1 Axes>"
      ]
     },
     "metadata": {
      "needs_background": "light"
     },
     "output_type": "display_data"
    },
    {
     "name": "stdout",
     "output_type": "stream",
     "text": [
      "MIN\n"
     ]
    },
    {
     "data": {
      "image/png": "[encoded data removed]",
      "text/plain": [
       "<Figure size 432x288 with 1 Axes>"
      ]
     },
     "metadata": {
      "needs_background": "light"
     },
     "output_type": "display_data"
    },
    {
     "name": "stdout",
     "output_type": "stream",
     "text": [
      "PTS\n"
     ]
    },
    {
     "data": {
      "image/png": "[encoded data removed]",
      "text/plain": [
       "<Figure size 432x288 with 1 Axes>"
      ]
     },
     "metadata": {
      "needs_background": "light"
     },
     "output_type": "display_data"
    },
    {
     "name": "stdout",
     "output_type": "stream",
     "text": [
      "FGM\n"
     ]
    },
    {
     "data": {
      "image/png": "[encoded data removed]",
      "text/plain": [
       "<Figure size 432x288 with 1 Axes>"
      ]
     },
     "metadata": {
      "needs_background": "light"
     },
     "output_type": "display_data"
    },
    {
     "name": "stdout",
     "output_type": "stream",
     "text": [
      "FGA\n"
     ]
    },
    {
     "data": {
      "image/png": "[encoded data removed]",
      "text/plain": [
       "<Figure size 432x288 with 1 Axes>"
      ]
     },
     "metadata": {
      "needs_background": "light"
     },
     "output_type": "display_data"
    },
    {
     "name": "stdout",
     "output_type": "stream",
     "text": [
      "FG%\n"
     ]
    },
    {
     "data": {
      "image/png": "[encoded data removed]",
      "text/plain": [
       "<Figure size 432x288 with 1 Axes>"
      ]
     },
     "metadata": {
      "needs_background": "light"
     },
     "output_type": "display_data"
    },
    {
     "name": "stdout",
     "output_type": "stream",
     "text": [
      "3P Made\n"
     ]
    },
    {
     "data": {
      "image/png": "[encoded data removed]",
      "text/plain": [
       "<Figure size 432x288 with 1 Axes>"
      ]
     },
     "metadata": {
      "needs_background": "light"
     },
     "output_type": "display_data"
    },
    {
     "name": "stdout",
     "output_type": "stream",
     "text": [
      "3PA\n"
     ]
    },
    {
     "data": {
      "image/png": "[encoded data removed]",
      "text/plain": [
       "<Figure size 432x288 with 1 Axes>"
      ]
     },
     "metadata": {
      "needs_background": "light"
     },
     "output_type": "display_data"
    },
    {
     "name": "stdout",
     "output_type": "stream",
     "text": [
      "3P%\n"
     ]
    },
    {
     "data": {
      "image/png": "[encoded data removed]",
      "text/plain": [
       "<Figure size 432x288 with 1 Axes>"
      ]
     },
     "metadata": {
      "needs_background": "light"
     },
     "output_type": "display_data"
    },
    {
     "name": "stdout",
     "output_type": "stream",
     "text": [
      "FTM\n"
     ]
    },
    {
     "data": {
      "image/png": "[encoded data removed]",
      "text/plain": [
       "<Figure size 432x288 with 1 Axes>"
      ]
     },
     "metadata": {
      "needs_background": "light"
     },
     "output_type": "display_data"
    },
    {
     "name": "stdout",
     "output_type": "stream",
     "text": [
      "FTA\n"
     ]
    },
    {
     "data": {
      "image/png": "[encoded data removed]",
      "text/plain": [
       "<Figure size 432x288 with 1 Axes>"
      ]
     },
     "metadata": {
      "needs_background": "light"
     },
     "output_type": "display_data"
    },
    {
     "name": "stdout",
     "output_type": "stream",
     "text": [
      "FT%\n"
     ]
    },
    {
     "data": {
      "image/png": "[encoded data removed]",
      "text/plain": [
       "<Figure size 432x288 with 1 Axes>"
      ]
     },
     "metadata": {
      "needs_background": "light"
     },
     "output_type": "display_data"
    },
    {
     "name": "stdout",
     "output_type": "stream",
     "text": [
      "OREB\n"
     ]
    },
    {
     "data": {
      "image/png": "[encoded data removed]",
      "text/plain": [
       "<Figure size 432x288 with 1 Axes>"
      ]
     },
     "metadata": {
      "needs_background": "light"
     },
     "output_type": "display_data"
    },
    {
     "name": "stdout",
     "output_type": "stream",
     "text": [
      "DREB\n"
     ]
    },
    {
     "data": {
      "image/png": "[encoded data removed]",
      "text/plain": [
       "<Figure size 432x288 with 1 Axes>"
      ]
     },
     "metadata": {
      "needs_background": "light"
     },
     "output_type": "display_data"
    },
    {
     "name": "stdout",
     "output_type": "stream",
     "text": [
      "REB\n"
     ]
    },
    {
     "data": {
      "image/png": "[encoded data removed]",
      "text/plain": [
       "<Figure size 432x288 with 1 Axes>"
      ]
     },
     "metadata": {
      "needs_background": "light"
     },
     "output_type": "display_data"
    },
    {
     "name": "stdout",
     "output_type": "stream",
     "text": [
      "AST\n"
     ]
    },
    {
     "data": {
      "image/png": "[encoded data removed]",
      "text/plain": [
       "<Figure size 432x288 with 1 Axes>"
      ]
     },
     "metadata": {
      "needs_background": "light"
     },
     "output_type": "display_data"
    },
    {
     "name": "stdout",
     "output_type": "stream",
     "text": [
      "STL\n"
     ]
    },
    {
     "data": {
      "image/png": "[encoded data removed]",
      "text/plain": [
       "<Figure size 432x288 with 1 Axes>"
      ]
     },
     "metadata": {
      "needs_background": "light"
     },
     "output_type": "display_data"
    },
    {
     "name": "stdout",
     "output_type": "stream",
     "text": [
      "BLK\n"
     ]
    },
    {
     "data": {
      "image/png": "[encoded data removed]",
      "text/plain": [
       "<Figure size 432x288 with 1 Axes>"
      ]
     },
     "metadata": {
      "needs_background": "light"
     },
     "output_type": "display_data"
    },
    {
     "name": "stdout",
     "output_type": "stream",
     "text": [
      "TOV\n"
     ]
    },
    {
     "data": {
      "image/png": "[encoded data removed]",
      "text/plain": [
       "<Figure size 432x288 with 1 Axes>"
      ]
     },
     "metadata": {
      "needs_background": "light"
     },
     "output_type": "display_data"
    },
    {
     "name": "stdout",
     "output_type": "stream",
     "text": [
      "TARGET_5Yrs\n"
     ]
    },
    {
     "data": {
      "image/png": "[encoded data removed]",
      "text/plain": [
       "<Figure size 432x288 with 1 Axes>"
      ]
     },
     "metadata": {
      "needs_background": "light"
     },
     "output_type": "display_data"
    }
   ],
   "source": [
    "#data viz\n",
    "\n",
    "import matplotlib.pyplot as plt\n",
    "\n",
    "for var in df.columns:\n",
    "    if type(df[var][df.index[0]]) != str:\n",
    "        hist = df[var].hist()\n",
    "        print(var)\n",
    "        plt.show()"
   ]
  },
  {
   "cell_type": "markdown",
   "id": "9a5422c2",
   "metadata": {},
   "source": [
    "An analysis of the histograms seems to show that there are no obvious outliers. We will therefore keep all the values"
   ]
  },
  {
   "cell_type": "markdown",
   "id": "4ee5f382",
   "metadata": {},
   "source": [
    "We can however notice that the dataset is a bit unbalanced :"
   ]
  },
  {
   "cell_type": "code",
   "execution_count": 9,
   "id": "990ce8f3",
   "metadata": {},
   "outputs": [
    {
     "data": {
      "text/plain": [
       "1.0    824\n",
       "0.0    504\n",
       "Name: TARGET_5Yrs, dtype: int64"
      ]
     },
     "execution_count": 9,
     "metadata": {},
     "output_type": "execute_result"
    }
   ],
   "source": [
    "df.TARGET_5Yrs.value_counts()"
   ]
  },
  {
   "cell_type": "markdown",
   "id": "48f46ab8",
   "metadata": {},
   "source": [
    "It might therefore be relevant to perform over/under sampling"
   ]
  },
  {
   "cell_type": "markdown",
   "id": "79e7239d",
   "metadata": {},
   "source": [
    "## Preparing the data for training"
   ]
  },
  {
   "cell_type": "code",
   "execution_count": 10,
   "id": "cd54581a",
   "metadata": {},
   "outputs": [],
   "source": [
    "# extract names, labels, features names and values\n",
    "names = df['Name'].values.tolist() # players names\n",
    "labels = df['TARGET_5Yrs'].values # labels\n",
    "paramset = df.drop(['TARGET_5Yrs','Name'],axis=1).columns.values\n",
    "df_vals = df.drop(['TARGET_5Yrs','Name'],axis=1).values\n"
   ]
  },
  {
   "cell_type": "code",
   "execution_count": 11,
   "id": "fab361d4",
   "metadata": {},
   "outputs": [],
   "source": [
    "#normalize the data\n",
    "from sklearn.preprocessing import MinMaxScaler\n",
    "scaler = MinMaxScaler()\n",
    "X = scaler.fit_transform(df_vals)"
   ]
  },
  {
   "cell_type": "code",
   "execution_count": 12,
   "id": "e8c3f4bc",
   "metadata": {},
   "outputs": [
    {
     "data": {
      "text/plain": [
       "array([[0.35211268, 0.64285714, 0.24363636, ..., 0.16      , 0.1025641 ,\n",
       "        0.27906977],\n",
       "       [0.33802817, 0.62962963, 0.23636364, ..., 0.44      , 0.12820513,\n",
       "        0.34883721],\n",
       "       [0.88732394, 0.32275132, 0.16363636, ..., 0.2       , 0.07692308,\n",
       "        0.20930233],\n",
       "       ...,\n",
       "       [0.45070423, 0.23809524, 0.17090909, ..., 0.12      , 0.1025641 ,\n",
       "        0.18604651],\n",
       "       [0.57746479, 0.23544974, 0.13818182, ..., 0.16      , 0.02564103,\n",
       "        0.1627907 ],\n",
       "       [0.50704225, 0.22751323, 0.13454545, ..., 0.28      , 0.02564103,\n",
       "        0.18604651]])"
      ]
     },
     "execution_count": 12,
     "metadata": {},
     "output_type": "execute_result"
    }
   ],
   "source": [
    "X"
   ]
  },
  {
   "cell_type": "code",
   "execution_count": 13,
   "id": "14c2e1ff",
   "metadata": {},
   "outputs": [
    {
     "data": {
      "text/plain": [
       "['nba.scaler']"
      ]
     },
     "execution_count": 13,
     "metadata": {},
     "output_type": "execute_result"
    }
   ],
   "source": [
    "import joblib\n",
    "joblib.dump(scaler, 'nba.scaler')"
   ]
  },
  {
   "cell_type": "markdown",
   "id": "d97568db",
   "metadata": {},
   "source": [
    "# Training "
   ]
  },
  {
   "cell_type": "code",
   "execution_count": 14,
   "id": "5b167884",
   "metadata": {},
   "outputs": [],
   "source": [
    "from sklearn.metrics import confusion_matrix\n",
    "from sklearn.metrics import recall_score\n",
    "from sklearn.metrics import precision_score\n",
    "from sklearn.model_selection import KFold\n",
    "import numpy as np\n",
    "import sklearn\n",
    "\n",
    "def score_classifier(dataset,classifier,labels):\n",
    "\n",
    "    \"\"\"\n",
    "    performs 3 random trainings/tests to build a confusion matrix and prints results with precision and recall scores\n",
    "    :param dataset: the dataset to work on\n",
    "    :param classifier: the classifier to use\n",
    "    :param labels: the labels used for training and validation\n",
    "    :return classifier: the classifier trained\n",
    "    \"\"\"\n",
    "\n",
    "\n",
    "    kf = KFold(n_splits=3,random_state=50,shuffle=True)\n",
    "    confusion_mat = np.zeros((2,2))\n",
    "    recall = 0\n",
    "    for training_ids,test_ids in kf.split(dataset):\n",
    "        training_set = dataset[training_ids]\n",
    "        training_labels = labels[training_ids]\n",
    "        test_set = dataset[test_ids]\n",
    "        test_labels = labels[test_ids]\n",
    "        classifier.fit(training_set,training_labels)\n",
    "        predicted_labels = classifier.predict(test_set)\n",
    "        confusion_mat+=confusion_matrix(test_labels,predicted_labels)\n",
    "        recall += recall_score(test_labels, predicted_labels)\n",
    "    recall/=3\n",
    "    print(confusion_mat)\n",
    "    print(\"recall :\", recall)"
   ]
  },
  {
   "cell_type": "markdown",
   "id": "cde498f9",
   "metadata": {},
   "source": [
    "## SVC"
   ]
  },
  {
   "cell_type": "code",
   "execution_count": 15,
   "id": "6dd357bd",
   "metadata": {},
   "outputs": [
    {
     "name": "stdout",
     "output_type": "stream",
     "text": [
      "[[270. 234.]\n",
      " [142. 682.]]\n",
      "recall : 0.8274446177323874\n"
     ]
    }
   ],
   "source": [
    "from sklearn.svm import SVC\n",
    "\n",
    "#first test\n",
    "score_classifier(X,SVC(),labels)"
   ]
  },
  {
   "cell_type": "markdown",
   "id": "9069ed2c",
   "metadata": {},
   "source": [
    "Recall of 82.4%.\n",
    "We tune the parameters to improve the recall"
   ]
  },
  {
   "cell_type": "code",
   "execution_count": 16,
   "id": "fe9933f1",
   "metadata": {},
   "outputs": [],
   "source": [
    "from sklearn.model_selection import RandomizedSearchCV"
   ]
  },
  {
   "cell_type": "code",
   "execution_count": null,
   "id": "765092b2",
   "metadata": {},
   "outputs": [],
   "source": []
  },
  {
   "cell_type": "code",
   "execution_count": 17,
   "id": "989a685f",
   "metadata": {},
   "outputs": [],
   "source": [
    "from sklearn.model_selection import GridSearchCV\n",
    "\n",
    "#parameters to test\n",
    "tuned_parameters = [\n",
    "    {\"kernel\": [\"rbf\"], \"gamma\": [1e-3, 1e-4], \"C\": [1, 10, 100, 1000]},\n",
    "    {\"kernel\": [\"linear\"], \"C\": [1, 10, 100, 1000]},\n",
    "]"
   ]
  },
  {
   "cell_type": "code",
   "execution_count": 18,
   "id": "b0bc4672",
   "metadata": {},
   "outputs": [
    {
     "data": {
      "text/plain": [
       "GridSearchCV(cv=<generator object _BaseKFold.split at 0x0000027C531DFEB0>,\n",
       "             estimator=SVC(),\n",
       "             param_grid=[{'C': [1, 10, 100, 1000], 'gamma': [0.001, 0.0001],\n",
       "                          'kernel': ['rbf']},\n",
       "                         {'C': [1, 10, 100, 1000], 'kernel': ['linear']}])"
      ]
     },
     "execution_count": 18,
     "metadata": {},
     "output_type": "execute_result"
    }
   ],
   "source": [
    "#gridsearch with cross validation\n",
    "svc = SVC()\n",
    "kf = KFold(n_splits=3,random_state=50,shuffle=True)\n",
    "clf = GridSearchCV(svc, tuned_parameters, cv=kf.split(X))\n",
    "clf.fit(X, labels)"
   ]
  },
  {
   "cell_type": "code",
   "execution_count": null,
   "id": "98d532e6",
   "metadata": {},
   "outputs": [],
   "source": []
  },
  {
   "cell_type": "code",
   "execution_count": 19,
   "id": "32c0c451",
   "metadata": {},
   "outputs": [],
   "source": [
    "nb_best_params = np.argmin(clf.cv_results_['rank_test_score'])"
   ]
  },
  {
   "cell_type": "code",
   "execution_count": 20,
   "id": "e756c841",
   "metadata": {},
   "outputs": [
    {
     "name": "stdout",
     "output_type": "stream",
     "text": [
      "best params:  {'C': 1000, 'kernel': 'linear'}\n"
     ]
    }
   ],
   "source": [
    "print(\"best params: \", clf.cv_results_[\"params\"][nb_best_params])"
   ]
  },
  {
   "cell_type": "markdown",
   "id": "b278b1a1",
   "metadata": {},
   "source": [
    "The best parameters among the tested parameters are printed above"
   ]
  },
  {
   "cell_type": "markdown",
   "id": "17634ef6",
   "metadata": {},
   "source": [
    "We perform another gridsearch to improve the parameters"
   ]
  },
  {
   "cell_type": "code",
   "execution_count": 21,
   "id": "c77b8371",
   "metadata": {},
   "outputs": [],
   "source": [
    "#parameters_to_test\n",
    "tuned_parameters = [{\"kernel\": [\"linear\"], \"C\": [50, 100, 150, 200, 500]}]"
   ]
  },
  {
   "cell_type": "code",
   "execution_count": 22,
   "id": "1d8b6cf2",
   "metadata": {},
   "outputs": [
    {
     "data": {
      "text/plain": [
       "GridSearchCV(cv=<generator object _BaseKFold.split at 0x0000027C5320E9E0>,\n",
       "             estimator=SVC(),\n",
       "             param_grid=[{'C': [50, 100, 150, 200, 500], 'kernel': ['linear']}])"
      ]
     },
     "execution_count": 22,
     "metadata": {},
     "output_type": "execute_result"
    }
   ],
   "source": [
    "#second gridsearch\n",
    "clf = GridSearchCV(svc, tuned_parameters, cv=kf.split(X))\n",
    "clf.fit(X, labels)"
   ]
  },
  {
   "cell_type": "code",
   "execution_count": 23,
   "id": "75c59325",
   "metadata": {},
   "outputs": [],
   "source": [
    "nb_best_params = np.argmin(clf.cv_results_['rank_test_score'])"
   ]
  },
  {
   "cell_type": "code",
   "execution_count": 24,
   "id": "f9188492",
   "metadata": {},
   "outputs": [
    {
     "name": "stdout",
     "output_type": "stream",
     "text": [
      "best params:  {'C': 500, 'kernel': 'linear'}\n"
     ]
    }
   ],
   "source": [
    "print(\"best params: \", clf.cv_results_[\"params\"][nb_best_params])"
   ]
  },
  {
   "cell_type": "markdown",
   "id": "20477320",
   "metadata": {},
   "source": [
    "Last gridsearch"
   ]
  },
  {
   "cell_type": "code",
   "execution_count": 25,
   "id": "015ee258",
   "metadata": {},
   "outputs": [],
   "source": [
    "#parameters to test\n",
    "tuned_parameters = [{\"kernel\": [\"linear\"], \"C\": [150 - 5*i for i in range(5)] + [150 + 5*i for i in range(5)]}]"
   ]
  },
  {
   "cell_type": "code",
   "execution_count": 26,
   "id": "0a5fcc00",
   "metadata": {},
   "outputs": [
    {
     "data": {
      "text/plain": [
       "GridSearchCV(cv=<generator object _BaseKFold.split at 0x0000027C53236040>,\n",
       "             estimator=SVC(),\n",
       "             param_grid=[{'C': [150, 145, 140, 135, 130, 150, 155, 160, 165,\n",
       "                                170],\n",
       "                          'kernel': ['linear']}])"
      ]
     },
     "execution_count": 26,
     "metadata": {},
     "output_type": "execute_result"
    }
   ],
   "source": [
    "#third gridsearch\n",
    "clf = GridSearchCV(svc, tuned_parameters, cv=kf.split(X))\n",
    "clf.fit(X, labels)"
   ]
  },
  {
   "cell_type": "code",
   "execution_count": 27,
   "id": "2b3ab0a5",
   "metadata": {},
   "outputs": [],
   "source": [
    "nb_best_params = np.argmin(clf.cv_results_['rank_test_score'])"
   ]
  },
  {
   "cell_type": "code",
   "execution_count": 28,
   "id": "33533609",
   "metadata": {},
   "outputs": [
    {
     "name": "stdout",
     "output_type": "stream",
     "text": [
      "best params:  {'C': 150, 'kernel': 'linear'}\n"
     ]
    }
   ],
   "source": [
    "print(\"best params: \", clf.cv_results_[\"params\"][nb_best_params])"
   ]
  },
  {
   "cell_type": "code",
   "execution_count": null,
   "id": "bcaf9c34",
   "metadata": {},
   "outputs": [],
   "source": []
  },
  {
   "cell_type": "code",
   "execution_count": 29,
   "id": "7e879cf8",
   "metadata": {},
   "outputs": [],
   "source": [
    "#best estimator\n",
    "clf_be = clf.best_estimator_"
   ]
  },
  {
   "cell_type": "code",
   "execution_count": 30,
   "id": "1a342291",
   "metadata": {},
   "outputs": [
    {
     "name": "stdout",
     "output_type": "stream",
     "text": [
      "[[266. 238.]\n",
      " [144. 680.]]\n",
      "recall : 0.8249316630611595\n"
     ]
    }
   ],
   "source": [
    "#score of the best estimator\n",
    "score_classifier(X,clf_be,labels)"
   ]
  },
  {
   "cell_type": "markdown",
   "id": "19c1694e",
   "metadata": {},
   "source": [
    "With SVC, we manage to get a recall of 82.8%, which is an improvement of almost 0.4%"
   ]
  },
  {
   "cell_type": "markdown",
   "id": "1382eca6",
   "metadata": {},
   "source": [
    "We try an other approch to perform this classification : random forest classifier"
   ]
  },
  {
   "cell_type": "markdown",
   "id": "664c2e30",
   "metadata": {},
   "source": [
    "## Random Forest Classifier"
   ]
  },
  {
   "cell_type": "code",
   "execution_count": 31,
   "id": "46f77adc",
   "metadata": {},
   "outputs": [],
   "source": [
    "from sklearn.ensemble import RandomForestClassifier"
   ]
  },
  {
   "cell_type": "code",
   "execution_count": 32,
   "id": "b64140ed",
   "metadata": {},
   "outputs": [
    {
     "name": "stdout",
     "output_type": "stream",
     "text": [
      "[[269. 235.]\n",
      " [173. 651.]]\n",
      "recall : 0.7901469034562559\n"
     ]
    }
   ],
   "source": [
    "#first test\n",
    "score_classifier(X,RandomForestClassifier(),labels)"
   ]
  },
  {
   "cell_type": "markdown",
   "id": "0ff92769",
   "metadata": {},
   "source": [
    "We perform a gridsearch to improve the score"
   ]
  },
  {
   "cell_type": "code",
   "execution_count": 33,
   "id": "c9b386ca",
   "metadata": {},
   "outputs": [],
   "source": [
    "#parameters to test\n",
    "\n",
    "param_grid = {\n",
    "    'bootstrap': [True],\n",
    "    'max_depth': [5, 10, 50, 100],\n",
    "    'max_features': [2, 3, 5, 10, 'sqrt','auto'],\n",
    "    'min_samples_leaf': [1, 2, 4],\n",
    "    'min_samples_split': [2, 5, 10],\n",
    "    'n_estimators': [10, 50, 100, 200, 500], \n",
    "}\n",
    "\n"
   ]
  },
  {
   "cell_type": "code",
   "execution_count": 34,
   "id": "697c72ea",
   "metadata": {},
   "outputs": [
    {
     "name": "stdout",
     "output_type": "stream",
     "text": [
      "Fitting 3 folds for each of 1080 candidates, totalling 3240 fits\n"
     ]
    },
    {
     "data": {
      "text/plain": [
       "GridSearchCV(cv=<generator object _BaseKFold.split at 0x0000027C544A7B30>,\n",
       "             estimator=RandomForestClassifier(), n_jobs=-1,\n",
       "             param_grid={'bootstrap': [True], 'max_depth': [5, 10, 50, 100],\n",
       "                         'max_features': [2, 3, 5, 10, 'sqrt', 'auto'],\n",
       "                         'min_samples_leaf': [1, 2, 4],\n",
       "                         'min_samples_split': [2, 5, 10],\n",
       "                         'n_estimators': [10, 50, 100, 200, 500]},\n",
       "             verbose=2)"
      ]
     },
     "execution_count": 34,
     "metadata": {},
     "output_type": "execute_result"
    }
   ],
   "source": [
    "#grid search\n",
    "rf = RandomForestClassifier()\n",
    "grid_search = GridSearchCV(estimator = rf, param_grid = param_grid, cv = kf.split(X), n_jobs = -1, verbose = 2)\n",
    "grid_search.fit(X, labels)"
   ]
  },
  {
   "cell_type": "code",
   "execution_count": null,
   "id": "9a94d7f0",
   "metadata": {},
   "outputs": [],
   "source": []
  },
  {
   "cell_type": "code",
   "execution_count": 35,
   "id": "5f4ee057",
   "metadata": {
    "scrolled": true
   },
   "outputs": [
    {
     "data": {
      "text/plain": [
       "{'bootstrap': True,\n",
       " 'max_depth': 5,\n",
       " 'max_features': 10,\n",
       " 'min_samples_leaf': 1,\n",
       " 'min_samples_split': 2,\n",
       " 'n_estimators': 200}"
      ]
     },
     "execution_count": 35,
     "metadata": {},
     "output_type": "execute_result"
    }
   ],
   "source": [
    "grid_search.best_params_"
   ]
  },
  {
   "cell_type": "code",
   "execution_count": null,
   "id": "9a12ba2a",
   "metadata": {},
   "outputs": [],
   "source": []
  },
  {
   "cell_type": "code",
   "execution_count": 36,
   "id": "aadcc291",
   "metadata": {},
   "outputs": [],
   "source": [
    "#parameters to test\n",
    "\n",
    "param_grid = {\n",
    "    'max_depth': [2, 3, 5, 7, 8],\n",
    "    'max_features': [7, 10, 15],\n",
    "    'min_samples_leaf': [4, 7, 10, 20],\n",
    "    'min_samples_split': [10, 15, 20],\n",
    "    'n_estimators': [200], \n",
    "}\n",
    "\n"
   ]
  },
  {
   "cell_type": "code",
   "execution_count": 37,
   "id": "fefd2e2c",
   "metadata": {},
   "outputs": [
    {
     "name": "stdout",
     "output_type": "stream",
     "text": [
      "Fitting 3 folds for each of 180 candidates, totalling 540 fits\n"
     ]
    },
    {
     "data": {
      "text/plain": [
       "GridSearchCV(cv=<generator object _BaseKFold.split at 0x0000027C54551890>,\n",
       "             estimator=RandomForestClassifier(), n_jobs=-1,\n",
       "             param_grid={'max_depth': [2, 3, 5, 7, 8],\n",
       "                         'max_features': [7, 10, 15],\n",
       "                         'min_samples_leaf': [4, 7, 10, 20],\n",
       "                         'min_samples_split': [10, 15, 20],\n",
       "                         'n_estimators': [200]},\n",
       "             verbose=2)"
      ]
     },
     "execution_count": 37,
     "metadata": {},
     "output_type": "execute_result"
    }
   ],
   "source": [
    "#grid search\n",
    "rf = RandomForestClassifier()\n",
    "grid_search = GridSearchCV(estimator = rf, param_grid = param_grid, cv = kf.split(X), n_jobs = -1, verbose = 2)\n",
    "grid_search.fit(X, labels)"
   ]
  },
  {
   "cell_type": "code",
   "execution_count": 38,
   "id": "69577a7d",
   "metadata": {},
   "outputs": [
    {
     "data": {
      "text/plain": [
       "{'max_depth': 5,\n",
       " 'max_features': 7,\n",
       " 'min_samples_leaf': 7,\n",
       " 'min_samples_split': 15,\n",
       " 'n_estimators': 200}"
      ]
     },
     "execution_count": 38,
     "metadata": {},
     "output_type": "execute_result"
    }
   ],
   "source": [
    "grid_search.best_params_"
   ]
  },
  {
   "cell_type": "code",
   "execution_count": null,
   "id": "715bff35",
   "metadata": {},
   "outputs": [],
   "source": []
  },
  {
   "cell_type": "code",
   "execution_count": 39,
   "id": "78f7fc12",
   "metadata": {},
   "outputs": [],
   "source": [
    "mdl_be = grid_search.best_estimator_\n"
   ]
  },
  {
   "cell_type": "code",
   "execution_count": 40,
   "id": "609e2744",
   "metadata": {},
   "outputs": [
    {
     "name": "stdout",
     "output_type": "stream",
     "text": [
      "[[291. 213.]\n",
      " [160. 664.]]\n",
      "recall : 0.8057151481611914\n"
     ]
    }
   ],
   "source": [
    "score_classifier(X,mdl_be,labels)"
   ]
  },
  {
   "cell_type": "markdown",
   "id": "0c794531",
   "metadata": {},
   "source": [
    "The gridsearch resulted in an increase of the average recall of about 2%, but this model is not as performant as the csv model"
   ]
  },
  {
   "cell_type": "markdown",
   "id": "79dcb194",
   "metadata": {},
   "source": [
    "We try a last approach to perform the classification : the use of a neural network"
   ]
  },
  {
   "cell_type": "markdown",
   "id": "b00c92c1",
   "metadata": {},
   "source": [
    "## Neural network "
   ]
  },
  {
   "cell_type": "code",
   "execution_count": 41,
   "id": "20b5db76",
   "metadata": {},
   "outputs": [],
   "source": [
    "from tensorflow.keras.models import Sequential\n",
    "from tensorflow.keras.layers import Dense\n",
    "from tensorflow.keras.layers import Dropout\n",
    "from tensorflow.keras import regularizers"
   ]
  },
  {
   "cell_type": "code",
   "execution_count": 42,
   "id": "83a131ca",
   "metadata": {},
   "outputs": [],
   "source": [
    "\"\"\"\n",
    "Initialize a neural network for binary classification\n",
    ":return model: the model \n",
    "\"\"\"\n",
    "\n",
    "def get_model():\n",
    "    model = Sequential()\n",
    "    model.add(Dropout(0.2))\n",
    "    model.add(Dense(12, activation = \"relu\",bias_regularizer=regularizers.l2(1e-4),))\n",
    "    model.add(Dropout(0.2))\n",
    "    model.add(Dense(1, activation = \"sigmoid\"))\n",
    "    return model\n"
   ]
  },
  {
   "cell_type": "code",
   "execution_count": 43,
   "id": "ef9a391c",
   "metadata": {},
   "outputs": [],
   "source": [
    "mod = get_model()"
   ]
  },
  {
   "cell_type": "code",
   "execution_count": 44,
   "id": "99cc3b0d",
   "metadata": {},
   "outputs": [],
   "source": [
    "\"\"\"\n",
    "We define a scoring function that is specific to neural nets for two reasons:\n",
    "- If we fit several times on a model, it does not forget the previous fits\n",
    "- the NN returns probabilities between 0 and 1, not integers \n",
    "The scoring function works as previously : we split the dataset into 3 folds (the same) and we average the recalls obtained\n",
    "\n",
    ":param model_func: function that calls an initialized model\n",
    ":param epoch: number of epochs\n",
    ":return l_hist: list of the history of the three trainings\n",
    "\n",
    "\"\"\"\n",
    "\n",
    "def score_classifier_nn(model_func=get_model,epochs=100):\n",
    "    kf = KFold(n_splits=3,random_state=50,shuffle=True)\n",
    "    recall = 0\n",
    "    l_hist=[]\n",
    "    for training_ids, test_ids in kf.split(X):\n",
    "        mod = model_func()\n",
    "        mod.compile(optimizer = 'adam',loss='binary_crossentropy',metrics =\"Recall\")\n",
    "        hist = mod.fit(X[training_ids], labels[training_ids], epochs=epochs, validation_data = (X[test_ids], labels[test_ids]))\n",
    "        score = mod.evaluate(X[test_ids], labels[test_ids])\n",
    "        recall += score[1]\n",
    "        l_hist.append(hist)\n",
    "    recall/=3\n",
    "    print()\n",
    "    print(\"Average recall : \",recall)\n",
    "    return l_hist\n"
   ]
  },
  {
   "cell_type": "code",
   "execution_count": 45,
   "id": "e0cd8a8d",
   "metadata": {},
   "outputs": [
    {
     "name": "stdout",
     "output_type": "stream",
     "text": [
      "Epoch 1/100\n",
      "28/28 [==============================] - 1s 8ms/step - loss: 0.6814 - recall: 0.8388 - val_loss: 0.6676 - val_recall: 0.9928\n",
      "Epoch 2/100\n",
      "28/28 [==============================] - 0s 1ms/step - loss: 0.6623 - recall: 0.9579 - val_loss: 0.6522 - val_recall: 1.0000\n",
      "Epoch 3/100\n",
      "28/28 [==============================] - 0s 1ms/step - loss: 0.6577 - recall: 0.9780 - val_loss: 0.6414 - val_recall: 1.0000\n",
      "Epoch 4/100\n",
      "28/28 [==============================] - 0s 1ms/step - loss: 0.6474 - recall: 0.9945 - val_loss: 0.6340 - val_recall: 1.0000\n",
      "Epoch 5/100\n",
      "28/28 [==============================] - 0s 1ms/step - loss: 0.6442 - recall: 0.9982 - val_loss: 0.6295 - val_recall: 1.0000\n",
      "Epoch 6/100\n",
      "28/28 [==============================] - 0s 1ms/step - loss: 0.6304 - recall: 0.9927 - val_loss: 0.6237 - val_recall: 1.0000\n",
      "Epoch 7/100\n",
      "28/28 [==============================] - 0s 1ms/step - loss: 0.6354 - recall: 1.0000 - val_loss: 0.6184 - val_recall: 1.0000\n",
      "Epoch 8/100\n",
      "28/28 [==============================] - 0s 1ms/step - loss: 0.6274 - recall: 1.0000 - val_loss: 0.6137 - val_recall: 1.0000\n",
      "Epoch 9/100\n",
      "28/28 [==============================] - 0s 1ms/step - loss: 0.6270 - recall: 0.9963 - val_loss: 0.6093 - val_recall: 1.0000\n",
      "Epoch 10/100\n",
      "28/28 [==============================] - 0s 1ms/step - loss: 0.6229 - recall: 0.9872 - val_loss: 0.6068 - val_recall: 1.0000\n",
      "Epoch 11/100\n",
      "28/28 [==============================] - 0s 1ms/step - loss: 0.6234 - recall: 0.9689 - val_loss: 0.6043 - val_recall: 1.0000\n",
      "Epoch 12/100\n",
      "28/28 [==============================] - 0s 1ms/step - loss: 0.6207 - recall: 0.9524 - val_loss: 0.6029 - val_recall: 0.9928\n",
      "Epoch 13/100\n",
      "28/28 [==============================] - 0s 1ms/step - loss: 0.6135 - recall: 0.9542 - val_loss: 0.5999 - val_recall: 0.9928\n",
      "Epoch 14/100\n",
      "28/28 [==============================] - 0s 2ms/step - loss: 0.6150 - recall: 0.9524 - val_loss: 0.5980 - val_recall: 0.9856\n",
      "Epoch 15/100\n",
      "28/28 [==============================] - 0s 1ms/step - loss: 0.6152 - recall: 0.9249 - val_loss: 0.5966 - val_recall: 0.9856\n",
      "Epoch 16/100\n",
      "28/28 [==============================] - 0s 2ms/step - loss: 0.6124 - recall: 0.9451 - val_loss: 0.5955 - val_recall: 0.9784\n",
      "Epoch 17/100\n",
      "28/28 [==============================] - 0s 1ms/step - loss: 0.6120 - recall: 0.9048 - val_loss: 0.5947 - val_recall: 0.9496\n",
      "Epoch 18/100\n",
      "28/28 [==============================] - 0s 1ms/step - loss: 0.6172 - recall: 0.8956 - val_loss: 0.5928 - val_recall: 0.9532\n",
      "Epoch 19/100\n",
      "28/28 [==============================] - 0s 1ms/step - loss: 0.6158 - recall: 0.8883 - val_loss: 0.5910 - val_recall: 0.9460\n",
      "Epoch 20/100\n",
      "28/28 [==============================] - 0s 1ms/step - loss: 0.6119 - recall: 0.8901 - val_loss: 0.5902 - val_recall: 0.9137\n",
      "Epoch 21/100\n",
      "28/28 [==============================] - 0s 1ms/step - loss: 0.6105 - recall: 0.8810 - val_loss: 0.5901 - val_recall: 0.9065\n",
      "Epoch 22/100\n",
      "28/28 [==============================] - 0s 1ms/step - loss: 0.6015 - recall: 0.8828 - val_loss: 0.5888 - val_recall: 0.9101\n",
      "Epoch 23/100\n",
      "28/28 [==============================] - 0s 1ms/step - loss: 0.6050 - recall: 0.8700 - val_loss: 0.5880 - val_recall: 0.8921\n",
      "Epoch 24/100\n",
      "28/28 [==============================] - 0s 1ms/step - loss: 0.6080 - recall: 0.8480 - val_loss: 0.5879 - val_recall: 0.8777\n",
      "Epoch 25/100\n",
      "28/28 [==============================] - 0s 2ms/step - loss: 0.6059 - recall: 0.8516 - val_loss: 0.5865 - val_recall: 0.8885\n",
      "Epoch 26/100\n",
      "28/28 [==============================] - 0s 2ms/step - loss: 0.6049 - recall: 0.8278 - val_loss: 0.5862 - val_recall: 0.8741\n",
      "Epoch 27/100\n",
      "28/28 [==============================] - 0s 2ms/step - loss: 0.6123 - recall: 0.8645 - val_loss: 0.5860 - val_recall: 0.8741\n",
      "Epoch 28/100\n",
      "28/28 [==============================] - 0s 1ms/step - loss: 0.5975 - recall: 0.8626 - val_loss: 0.5853 - val_recall: 0.8741\n",
      "Epoch 29/100\n",
      "28/28 [==============================] - 0s 1ms/step - loss: 0.6112 - recall: 0.8553 - val_loss: 0.5849 - val_recall: 0.8741\n",
      "Epoch 30/100\n",
      "28/28 [==============================] - 0s 1ms/step - loss: 0.6112 - recall: 0.8388 - val_loss: 0.5850 - val_recall: 0.8849\n",
      "Epoch 31/100\n",
      "28/28 [==============================] - 0s 1ms/step - loss: 0.6073 - recall: 0.8278 - val_loss: 0.5853 - val_recall: 0.8561\n",
      "Epoch 32/100\n",
      "28/28 [==============================] - 0s 1ms/step - loss: 0.6053 - recall: 0.8352 - val_loss: 0.5840 - val_recall: 0.8777\n",
      "Epoch 33/100\n",
      "28/28 [==============================] - 0s 1ms/step - loss: 0.6009 - recall: 0.8242 - val_loss: 0.5835 - val_recall: 0.8705\n",
      "Epoch 34/100\n",
      "28/28 [==============================] - 0s 1ms/step - loss: 0.6082 - recall: 0.8040 - val_loss: 0.5833 - val_recall: 0.8921\n",
      "Epoch 35/100\n",
      "28/28 [==============================] - 0s 1ms/step - loss: 0.6067 - recall: 0.8315 - val_loss: 0.5831 - val_recall: 0.8705\n",
      "Epoch 36/100\n",
      "28/28 [==============================] - 0s 1ms/step - loss: 0.6034 - recall: 0.8168 - val_loss: 0.5828 - val_recall: 0.8705\n",
      "Epoch 37/100\n",
      "28/28 [==============================] - 0s 1ms/step - loss: 0.6004 - recall: 0.8516 - val_loss: 0.5824 - val_recall: 0.8705\n",
      "Epoch 38/100\n",
      "28/28 [==============================] - 0s 1ms/step - loss: 0.5971 - recall: 0.8626 - val_loss: 0.5818 - val_recall: 0.8669\n",
      "Epoch 39/100\n",
      "28/28 [==============================] - 0s 1ms/step - loss: 0.6135 - recall: 0.8242 - val_loss: 0.5827 - val_recall: 0.8525\n",
      "Epoch 40/100\n",
      "28/28 [==============================] - 0s 1ms/step - loss: 0.5882 - recall: 0.8425 - val_loss: 0.5818 - val_recall: 0.8705\n",
      "Epoch 41/100\n",
      "28/28 [==============================] - 0s 1ms/step - loss: 0.5996 - recall: 0.8352 - val_loss: 0.5818 - val_recall: 0.8669\n",
      "Epoch 42/100\n",
      "28/28 [==============================] - 0s 1ms/step - loss: 0.5975 - recall: 0.8278 - val_loss: 0.5813 - val_recall: 0.8597\n",
      "Epoch 43/100\n",
      "28/28 [==============================] - 0s 1ms/step - loss: 0.6032 - recall: 0.8114 - val_loss: 0.5814 - val_recall: 0.8597\n",
      "Epoch 44/100\n",
      "28/28 [==============================] - 0s 1ms/step - loss: 0.6120 - recall: 0.8114 - val_loss: 0.5820 - val_recall: 0.8489\n",
      "Epoch 45/100\n",
      "28/28 [==============================] - 0s 1ms/step - loss: 0.5972 - recall: 0.8388 - val_loss: 0.5817 - val_recall: 0.8561\n",
      "Epoch 46/100\n",
      "28/28 [==============================] - 0s 1ms/step - loss: 0.5929 - recall: 0.8443 - val_loss: 0.5808 - val_recall: 0.8633\n",
      "Epoch 47/100\n",
      "28/28 [==============================] - 0s 1ms/step - loss: 0.5950 - recall: 0.8132 - val_loss: 0.5808 - val_recall: 0.8489\n",
      "Epoch 48/100\n",
      "28/28 [==============================] - 0s 1ms/step - loss: 0.5886 - recall: 0.7967 - val_loss: 0.5802 - val_recall: 0.8489\n",
      "Epoch 49/100\n",
      "28/28 [==============================] - 0s 2ms/step - loss: 0.5966 - recall: 0.8095 - val_loss: 0.5799 - val_recall: 0.8561\n",
      "Epoch 50/100\n",
      "28/28 [==============================] - 0s 2ms/step - loss: 0.5877 - recall: 0.8260 - val_loss: 0.5797 - val_recall: 0.8561\n",
      "Epoch 51/100\n",
      "28/28 [==============================] - 0s 2ms/step - loss: 0.6026 - recall: 0.8223 - val_loss: 0.5799 - val_recall: 0.8561\n",
      "Epoch 52/100\n",
      "28/28 [==============================] - 0s 1ms/step - loss: 0.5925 - recall: 0.8132 - val_loss: 0.5799 - val_recall: 0.8561\n",
      "Epoch 53/100\n",
      "28/28 [==============================] - 0s 1ms/step - loss: 0.5957 - recall: 0.8352 - val_loss: 0.5798 - val_recall: 0.8561\n",
      "Epoch 54/100\n",
      "28/28 [==============================] - 0s 1ms/step - loss: 0.5975 - recall: 0.8205 - val_loss: 0.5804 - val_recall: 0.8525\n",
      "Epoch 55/100\n",
      "28/28 [==============================] - 0s 1ms/step - loss: 0.5935 - recall: 0.8223 - val_loss: 0.5800 - val_recall: 0.8561\n",
      "Epoch 56/100\n",
      "28/28 [==============================] - 0s 1ms/step - loss: 0.6025 - recall: 0.8168 - val_loss: 0.5801 - val_recall: 0.8561\n",
      "Epoch 57/100\n",
      "28/28 [==============================] - 0s 1ms/step - loss: 0.5919 - recall: 0.8187 - val_loss: 0.5805 - val_recall: 0.8237\n",
      "Epoch 58/100\n",
      "28/28 [==============================] - 0s 1ms/step - loss: 0.6104 - recall: 0.7875 - val_loss: 0.5816 - val_recall: 0.8201\n",
      "Epoch 59/100\n",
      "28/28 [==============================] - 0s 1ms/step - loss: 0.5943 - recall: 0.8278 - val_loss: 0.5810 - val_recall: 0.8345\n",
      "Epoch 60/100\n"
     ]
    },
    {
     "name": "stdout",
     "output_type": "stream",
     "text": [
      "28/28 [==============================] - 0s 1ms/step - loss: 0.6085 - recall: 0.8114 - val_loss: 0.5806 - val_recall: 0.8309\n",
      "Epoch 61/100\n",
      "28/28 [==============================] - 0s 1ms/step - loss: 0.5973 - recall: 0.8260 - val_loss: 0.5802 - val_recall: 0.8417\n",
      "Epoch 62/100\n",
      "28/28 [==============================] - 0s 2ms/step - loss: 0.5965 - recall: 0.8242 - val_loss: 0.5795 - val_recall: 0.8309\n",
      "Epoch 63/100\n",
      "28/28 [==============================] - 0s 2ms/step - loss: 0.5955 - recall: 0.7839 - val_loss: 0.5799 - val_recall: 0.8094\n",
      "Epoch 64/100\n",
      "28/28 [==============================] - 0s 2ms/step - loss: 0.5924 - recall: 0.8004 - val_loss: 0.5789 - val_recall: 0.8525\n",
      "Epoch 65/100\n",
      "28/28 [==============================] - 0s 2ms/step - loss: 0.5931 - recall: 0.8095 - val_loss: 0.5791 - val_recall: 0.8165\n",
      "Epoch 66/100\n",
      "28/28 [==============================] - 0s 3ms/step - loss: 0.5973 - recall: 0.8132 - val_loss: 0.5791 - val_recall: 0.8309\n",
      "Epoch 67/100\n",
      "28/28 [==============================] - 0s 2ms/step - loss: 0.5955 - recall: 0.8187 - val_loss: 0.5790 - val_recall: 0.8201\n",
      "Epoch 68/100\n",
      "28/28 [==============================] - 0s 2ms/step - loss: 0.5941 - recall: 0.8168 - val_loss: 0.5791 - val_recall: 0.8309\n",
      "Epoch 69/100\n",
      "28/28 [==============================] - 0s 2ms/step - loss: 0.5899 - recall: 0.7912 - val_loss: 0.5787 - val_recall: 0.8345\n",
      "Epoch 70/100\n",
      "28/28 [==============================] - 0s 2ms/step - loss: 0.5855 - recall: 0.8059 - val_loss: 0.5786 - val_recall: 0.8129\n",
      "Epoch 71/100\n",
      "28/28 [==============================] - 0s 2ms/step - loss: 0.5937 - recall: 0.8205 - val_loss: 0.5786 - val_recall: 0.8201\n",
      "Epoch 72/100\n",
      "28/28 [==============================] - 0s 2ms/step - loss: 0.5983 - recall: 0.8205 - val_loss: 0.5783 - val_recall: 0.8309\n",
      "Epoch 73/100\n",
      "28/28 [==============================] - 0s 2ms/step - loss: 0.6018 - recall: 0.8004 - val_loss: 0.5783 - val_recall: 0.8453\n",
      "Epoch 74/100\n",
      "28/28 [==============================] - 0s 2ms/step - loss: 0.5916 - recall: 0.8040 - val_loss: 0.5789 - val_recall: 0.8417\n",
      "Epoch 75/100\n",
      "28/28 [==============================] - 0s 2ms/step - loss: 0.6071 - recall: 0.8150 - val_loss: 0.5792 - val_recall: 0.8165\n",
      "Epoch 76/100\n",
      "28/28 [==============================] - 0s 2ms/step - loss: 0.5957 - recall: 0.8114 - val_loss: 0.5798 - val_recall: 0.8165\n",
      "Epoch 77/100\n",
      "28/28 [==============================] - 0s 2ms/step - loss: 0.6017 - recall: 0.8059 - val_loss: 0.5798 - val_recall: 0.8165\n",
      "Epoch 78/100\n",
      "28/28 [==============================] - 0s 2ms/step - loss: 0.5936 - recall: 0.8150 - val_loss: 0.5791 - val_recall: 0.8094\n",
      "Epoch 79/100\n",
      "28/28 [==============================] - 0s 2ms/step - loss: 0.5836 - recall: 0.8150 - val_loss: 0.5779 - val_recall: 0.8273\n",
      "Epoch 80/100\n",
      "28/28 [==============================] - 0s 2ms/step - loss: 0.5863 - recall: 0.8059 - val_loss: 0.5778 - val_recall: 0.8165\n",
      "Epoch 81/100\n",
      "28/28 [==============================] - 0s 2ms/step - loss: 0.6045 - recall: 0.8132 - val_loss: 0.5773 - val_recall: 0.8525\n",
      "Epoch 82/100\n",
      "28/28 [==============================] - 0s 2ms/step - loss: 0.5930 - recall: 0.8077 - val_loss: 0.5779 - val_recall: 0.8165\n",
      "Epoch 83/100\n",
      "28/28 [==============================] - 0s 2ms/step - loss: 0.6021 - recall: 0.7930 - val_loss: 0.5775 - val_recall: 0.8129\n",
      "Epoch 84/100\n",
      "28/28 [==============================] - 0s 2ms/step - loss: 0.5939 - recall: 0.7967 - val_loss: 0.5780 - val_recall: 0.8022\n",
      "Epoch 85/100\n",
      "28/28 [==============================] - 0s 2ms/step - loss: 0.5886 - recall: 0.8059 - val_loss: 0.5769 - val_recall: 0.8165\n",
      "Epoch 86/100\n",
      "28/28 [==============================] - 0s 2ms/step - loss: 0.5911 - recall: 0.8132 - val_loss: 0.5766 - val_recall: 0.8129\n",
      "Epoch 87/100\n",
      "28/28 [==============================] - 0s 3ms/step - loss: 0.5975 - recall: 0.7875 - val_loss: 0.5771 - val_recall: 0.8022\n",
      "Epoch 88/100\n",
      "28/28 [==============================] - 0s 2ms/step - loss: 0.5973 - recall: 0.7985 - val_loss: 0.5768 - val_recall: 0.8129\n",
      "Epoch 89/100\n",
      "28/28 [==============================] - 0s 2ms/step - loss: 0.6031 - recall: 0.7894 - val_loss: 0.5767 - val_recall: 0.8165\n",
      "Epoch 90/100\n",
      "28/28 [==============================] - 0s 2ms/step - loss: 0.5934 - recall: 0.8077 - val_loss: 0.5770 - val_recall: 0.8273\n",
      "Epoch 91/100\n",
      "28/28 [==============================] - 0s 2ms/step - loss: 0.6011 - recall: 0.7967 - val_loss: 0.5778 - val_recall: 0.8201\n",
      "Epoch 92/100\n",
      "28/28 [==============================] - 0s 1ms/step - loss: 0.5959 - recall: 0.7912 - val_loss: 0.5774 - val_recall: 0.8201\n",
      "Epoch 93/100\n",
      "28/28 [==============================] - 0s 1ms/step - loss: 0.5882 - recall: 0.8260 - val_loss: 0.5774 - val_recall: 0.8273\n",
      "Epoch 94/100\n",
      "28/28 [==============================] - 0s 1ms/step - loss: 0.5938 - recall: 0.8022 - val_loss: 0.5774 - val_recall: 0.8201\n",
      "Epoch 95/100\n",
      "28/28 [==============================] - 0s 1ms/step - loss: 0.5930 - recall: 0.7949 - val_loss: 0.5768 - val_recall: 0.8417\n",
      "Epoch 96/100\n",
      "28/28 [==============================] - 0s 2ms/step - loss: 0.5970 - recall: 0.8040 - val_loss: 0.5770 - val_recall: 0.8237\n",
      "Epoch 97/100\n",
      "28/28 [==============================] - 0s 2ms/step - loss: 0.5933 - recall: 0.8095 - val_loss: 0.5767 - val_recall: 0.8309\n",
      "Epoch 98/100\n",
      "28/28 [==============================] - 0s 1ms/step - loss: 0.6015 - recall: 0.8168 - val_loss: 0.5776 - val_recall: 0.8165\n",
      "Epoch 99/100\n",
      "28/28 [==============================] - 0s 1ms/step - loss: 0.5919 - recall: 0.8040 - val_loss: 0.5779 - val_recall: 0.8165\n",
      "Epoch 100/100\n",
      "28/28 [==============================] - 0s 1ms/step - loss: 0.5799 - recall: 0.8242 - val_loss: 0.5772 - val_recall: 0.8165\n",
      "14/14 [==============================] - 0s 615us/step - loss: 0.5772 - recall: 0.8165\n",
      "Epoch 1/100\n",
      "28/28 [==============================] - 1s 7ms/step - loss: 0.7297 - recall: 0.1710 - val_loss: 0.7050 - val_recall: 0.0944\n",
      "Epoch 2/100\n",
      "28/28 [==============================] - 0s 1ms/step - loss: 0.6989 - recall: 0.4851 - val_loss: 0.6788 - val_recall: 0.8427\n",
      "Epoch 3/100\n",
      "28/28 [==============================] - 0s 1ms/step - loss: 0.6776 - recall: 0.7807 - val_loss: 0.6552 - val_recall: 1.0000\n",
      "Epoch 4/100\n",
      "28/28 [==============================] - 0s 1ms/step - loss: 0.6644 - recall: 0.9461 - val_loss: 0.6366 - val_recall: 1.0000\n",
      "Epoch 5/100\n",
      "28/28 [==============================] - 0s 1ms/step - loss: 0.6457 - recall: 0.9777 - val_loss: 0.6258 - val_recall: 1.0000\n",
      "Epoch 6/100\n",
      "28/28 [==============================] - 0s 1ms/step - loss: 0.6457 - recall: 0.9981 - val_loss: 0.6187 - val_recall: 1.0000\n",
      "Epoch 7/100\n",
      "28/28 [==============================] - 0s 1ms/step - loss: 0.6387 - recall: 0.9907 - val_loss: 0.6147 - val_recall: 1.0000\n",
      "Epoch 8/100\n",
      "28/28 [==============================] - 0s 1ms/step - loss: 0.6360 - recall: 0.9963 - val_loss: 0.6109 - val_recall: 1.0000\n",
      "Epoch 9/100\n",
      "28/28 [==============================] - 0s 1ms/step - loss: 0.6323 - recall: 0.9944 - val_loss: 0.6074 - val_recall: 1.0000\n",
      "Epoch 10/100\n",
      "28/28 [==============================] - 0s 1ms/step - loss: 0.6367 - recall: 0.9740 - val_loss: 0.6052 - val_recall: 0.9965\n",
      "Epoch 11/100\n",
      "28/28 [==============================] - 0s 2ms/step - loss: 0.6256 - recall: 0.9833 - val_loss: 0.6013 - val_recall: 0.9965\n",
      "Epoch 12/100\n",
      "28/28 [==============================] - 0s 1ms/step - loss: 0.6318 - recall: 0.9814 - val_loss: 0.6002 - val_recall: 0.9965\n",
      "Epoch 13/100\n",
      "28/28 [==============================] - 0s 1ms/step - loss: 0.6264 - recall: 0.9610 - val_loss: 0.5979 - val_recall: 0.9965\n",
      "Epoch 14/100\n",
      "28/28 [==============================] - 0s 1ms/step - loss: 0.6241 - recall: 0.9387 - val_loss: 0.5953 - val_recall: 0.9965\n",
      "Epoch 15/100\n",
      "28/28 [==============================] - 0s 1ms/step - loss: 0.6271 - recall: 0.9535 - val_loss: 0.5936 - val_recall: 0.9965\n",
      "Epoch 16/100\n",
      "28/28 [==============================] - 0s 1ms/step - loss: 0.6214 - recall: 0.9219 - val_loss: 0.5935 - val_recall: 0.9650\n",
      "Epoch 17/100\n",
      "28/28 [==============================] - 0s 1ms/step - loss: 0.6141 - recall: 0.9052 - val_loss: 0.5905 - val_recall: 0.9615\n",
      "Epoch 18/100\n",
      "28/28 [==============================] - 0s 1ms/step - loss: 0.6159 - recall: 0.9126 - val_loss: 0.5886 - val_recall: 0.9545\n"
     ]
    },
    {
     "name": "stdout",
     "output_type": "stream",
     "text": [
      "Epoch 19/100\n",
      "28/28 [==============================] - 0s 1ms/step - loss: 0.6136 - recall: 0.8829 - val_loss: 0.5865 - val_recall: 0.9301\n",
      "Epoch 20/100\n",
      "28/28 [==============================] - 0s 1ms/step - loss: 0.6134 - recall: 0.8625 - val_loss: 0.5854 - val_recall: 0.8986\n",
      "Epoch 21/100\n",
      "28/28 [==============================] - 0s 1ms/step - loss: 0.6126 - recall: 0.8662 - val_loss: 0.5843 - val_recall: 0.9266\n",
      "Epoch 22/100\n",
      "28/28 [==============================] - 0s 1ms/step - loss: 0.6148 - recall: 0.8755 - val_loss: 0.5842 - val_recall: 0.8951\n",
      "Epoch 23/100\n",
      "28/28 [==============================] - 0s 2ms/step - loss: 0.6030 - recall: 0.8680 - val_loss: 0.5830 - val_recall: 0.8986\n",
      "Epoch 24/100\n",
      "28/28 [==============================] - 0s 2ms/step - loss: 0.6106 - recall: 0.8680 - val_loss: 0.5824 - val_recall: 0.8846\n",
      "Epoch 25/100\n",
      "28/28 [==============================] - 0s 1ms/step - loss: 0.6077 - recall: 0.8569 - val_loss: 0.5819 - val_recall: 0.8846\n",
      "Epoch 26/100\n",
      "28/28 [==============================] - 0s 1ms/step - loss: 0.6030 - recall: 0.8309 - val_loss: 0.5816 - val_recall: 0.8951\n",
      "Epoch 27/100\n",
      "28/28 [==============================] - 0s 1ms/step - loss: 0.6142 - recall: 0.8662 - val_loss: 0.5808 - val_recall: 0.8811\n",
      "Epoch 28/100\n",
      "28/28 [==============================] - 0s 1ms/step - loss: 0.6047 - recall: 0.8401 - val_loss: 0.5809 - val_recall: 0.8706\n",
      "Epoch 29/100\n",
      "28/28 [==============================] - 0s 1ms/step - loss: 0.6031 - recall: 0.8513 - val_loss: 0.5801 - val_recall: 0.8706\n",
      "Epoch 30/100\n",
      "28/28 [==============================] - 0s 1ms/step - loss: 0.6009 - recall: 0.8346 - val_loss: 0.5802 - val_recall: 0.8706\n",
      "Epoch 31/100\n",
      "28/28 [==============================] - 0s 1ms/step - loss: 0.6146 - recall: 0.8346 - val_loss: 0.5808 - val_recall: 0.8636\n",
      "Epoch 32/100\n",
      "28/28 [==============================] - 0s 1ms/step - loss: 0.6163 - recall: 0.8253 - val_loss: 0.5807 - val_recall: 0.8636\n",
      "Epoch 33/100\n",
      "28/28 [==============================] - 0s 1ms/step - loss: 0.6044 - recall: 0.8346 - val_loss: 0.5803 - val_recall: 0.8636\n",
      "Epoch 34/100\n",
      "28/28 [==============================] - 0s 1ms/step - loss: 0.6067 - recall: 0.8309 - val_loss: 0.5797 - val_recall: 0.8671\n",
      "Epoch 35/100\n",
      "28/28 [==============================] - 0s 1ms/step - loss: 0.6114 - recall: 0.8178 - val_loss: 0.5797 - val_recall: 0.8636\n",
      "Epoch 36/100\n",
      "28/28 [==============================] - 0s 2ms/step - loss: 0.6143 - recall: 0.8234 - val_loss: 0.5796 - val_recall: 0.8706\n",
      "Epoch 37/100\n",
      "28/28 [==============================] - 0s 1ms/step - loss: 0.6080 - recall: 0.8271 - val_loss: 0.5800 - val_recall: 0.8671\n",
      "Epoch 38/100\n",
      "28/28 [==============================] - 0s 1ms/step - loss: 0.6016 - recall: 0.8123 - val_loss: 0.5801 - val_recall: 0.8671\n",
      "Epoch 39/100\n",
      "28/28 [==============================] - 0s 2ms/step - loss: 0.6191 - recall: 0.8216 - val_loss: 0.5804 - val_recall: 0.8671\n",
      "Epoch 40/100\n",
      "28/28 [==============================] - 0s 2ms/step - loss: 0.6064 - recall: 0.8439 - val_loss: 0.5804 - val_recall: 0.8671\n",
      "Epoch 41/100\n",
      "28/28 [==============================] - 0s 1ms/step - loss: 0.5984 - recall: 0.8048 - val_loss: 0.5799 - val_recall: 0.8671\n",
      "Epoch 42/100\n",
      "28/28 [==============================] - 0s 1ms/step - loss: 0.6062 - recall: 0.8327 - val_loss: 0.5793 - val_recall: 0.8636\n",
      "Epoch 43/100\n",
      "28/28 [==============================] - 0s 1ms/step - loss: 0.5965 - recall: 0.8401 - val_loss: 0.5788 - val_recall: 0.8671\n",
      "Epoch 44/100\n",
      "28/28 [==============================] - 0s 1ms/step - loss: 0.6024 - recall: 0.8216 - val_loss: 0.5788 - val_recall: 0.8671\n",
      "Epoch 45/100\n",
      "28/28 [==============================] - 0s 1ms/step - loss: 0.5988 - recall: 0.8160 - val_loss: 0.5786 - val_recall: 0.8566\n",
      "Epoch 46/100\n",
      "28/28 [==============================] - 0s 2ms/step - loss: 0.6004 - recall: 0.8383 - val_loss: 0.5787 - val_recall: 0.8566\n",
      "Epoch 47/100\n",
      "28/28 [==============================] - 0s 2ms/step - loss: 0.5944 - recall: 0.8123 - val_loss: 0.5785 - val_recall: 0.8392\n",
      "Epoch 48/100\n",
      "28/28 [==============================] - 0s 2ms/step - loss: 0.6050 - recall: 0.8253 - val_loss: 0.5783 - val_recall: 0.8392\n",
      "Epoch 49/100\n",
      "28/28 [==============================] - 0s 2ms/step - loss: 0.6032 - recall: 0.8234 - val_loss: 0.5783 - val_recall: 0.8531\n",
      "Epoch 50/100\n",
      "28/28 [==============================] - 0s 2ms/step - loss: 0.5993 - recall: 0.8420 - val_loss: 0.5788 - val_recall: 0.8531\n",
      "Epoch 51/100\n",
      "28/28 [==============================] - 0s 2ms/step - loss: 0.6048 - recall: 0.8271 - val_loss: 0.5783 - val_recall: 0.8531\n",
      "Epoch 52/100\n",
      "28/28 [==============================] - 0s 1ms/step - loss: 0.6034 - recall: 0.8011 - val_loss: 0.5795 - val_recall: 0.8392\n",
      "Epoch 53/100\n",
      "28/28 [==============================] - 0s 1ms/step - loss: 0.6002 - recall: 0.8086 - val_loss: 0.5786 - val_recall: 0.8427\n",
      "Epoch 54/100\n",
      "28/28 [==============================] - 0s 1ms/step - loss: 0.5935 - recall: 0.8030 - val_loss: 0.5785 - val_recall: 0.8427\n",
      "Epoch 55/100\n",
      "28/28 [==============================] - 0s 1ms/step - loss: 0.5979 - recall: 0.8123 - val_loss: 0.5779 - val_recall: 0.8322\n",
      "Epoch 56/100\n",
      "28/28 [==============================] - 0s 1ms/step - loss: 0.6001 - recall: 0.7918 - val_loss: 0.5772 - val_recall: 0.8462\n",
      "Epoch 57/100\n",
      "28/28 [==============================] - 0s 1ms/step - loss: 0.5998 - recall: 0.8123 - val_loss: 0.5773 - val_recall: 0.8566\n",
      "Epoch 58/100\n",
      "28/28 [==============================] - 0s 1ms/step - loss: 0.5892 - recall: 0.8067 - val_loss: 0.5777 - val_recall: 0.8357\n",
      "Epoch 59/100\n",
      "28/28 [==============================] - 0s 1ms/step - loss: 0.6034 - recall: 0.8234 - val_loss: 0.5771 - val_recall: 0.8531\n",
      "Epoch 60/100\n",
      "28/28 [==============================] - 0s 1ms/step - loss: 0.5884 - recall: 0.8011 - val_loss: 0.5768 - val_recall: 0.8531\n",
      "Epoch 61/100\n",
      "28/28 [==============================] - 0s 1ms/step - loss: 0.5979 - recall: 0.8309 - val_loss: 0.5776 - val_recall: 0.8287\n",
      "Epoch 62/100\n",
      "28/28 [==============================] - 0s 1ms/step - loss: 0.6014 - recall: 0.8104 - val_loss: 0.5773 - val_recall: 0.8217\n",
      "Epoch 63/100\n",
      "28/28 [==============================] - 0s 1ms/step - loss: 0.5953 - recall: 0.7844 - val_loss: 0.5774 - val_recall: 0.8147\n",
      "Epoch 64/100\n",
      "28/28 [==============================] - 0s 1ms/step - loss: 0.5936 - recall: 0.8197 - val_loss: 0.5772 - val_recall: 0.8252\n",
      "Epoch 65/100\n",
      "28/28 [==============================] - 0s 1ms/step - loss: 0.6081 - recall: 0.7844 - val_loss: 0.5776 - val_recall: 0.8252\n",
      "Epoch 66/100\n",
      "28/28 [==============================] - 0s 1ms/step - loss: 0.5968 - recall: 0.8086 - val_loss: 0.5777 - val_recall: 0.8252\n",
      "Epoch 67/100\n",
      "28/28 [==============================] - 0s 1ms/step - loss: 0.6036 - recall: 0.8067 - val_loss: 0.5783 - val_recall: 0.8182\n",
      "Epoch 68/100\n",
      "28/28 [==============================] - 0s 1ms/step - loss: 0.5889 - recall: 0.7918 - val_loss: 0.5781 - val_recall: 0.8147\n",
      "Epoch 69/100\n",
      "28/28 [==============================] - 0s 1ms/step - loss: 0.5982 - recall: 0.7955 - val_loss: 0.5766 - val_recall: 0.8322\n",
      "Epoch 70/100\n",
      "28/28 [==============================] - 0s 1ms/step - loss: 0.5980 - recall: 0.8048 - val_loss: 0.5767 - val_recall: 0.8357\n",
      "Epoch 71/100\n",
      "28/28 [==============================] - 0s 1ms/step - loss: 0.6000 - recall: 0.7844 - val_loss: 0.5776 - val_recall: 0.8252\n",
      "Epoch 72/100\n",
      "28/28 [==============================] - 0s 1ms/step - loss: 0.5966 - recall: 0.8011 - val_loss: 0.5766 - val_recall: 0.8427\n",
      "Epoch 73/100\n",
      "28/28 [==============================] - 0s 1ms/step - loss: 0.5996 - recall: 0.8086 - val_loss: 0.5768 - val_recall: 0.8357\n",
      "Epoch 74/100\n",
      "28/28 [==============================] - 0s 1ms/step - loss: 0.5912 - recall: 0.8030 - val_loss: 0.5759 - val_recall: 0.8497\n",
      "Epoch 75/100\n",
      "28/28 [==============================] - 0s 2ms/step - loss: 0.5913 - recall: 0.7974 - val_loss: 0.5766 - val_recall: 0.8357\n",
      "Epoch 76/100\n",
      "28/28 [==============================] - 0s 2ms/step - loss: 0.5831 - recall: 0.8030 - val_loss: 0.5766 - val_recall: 0.8287\n",
      "Epoch 77/100\n",
      "28/28 [==============================] - 0s 1ms/step - loss: 0.6007 - recall: 0.7807 - val_loss: 0.5771 - val_recall: 0.8147\n",
      "Epoch 78/100\n"
     ]
    },
    {
     "name": "stdout",
     "output_type": "stream",
     "text": [
      "28/28 [==============================] - 0s 1ms/step - loss: 0.5859 - recall: 0.8104 - val_loss: 0.5764 - val_recall: 0.8462\n",
      "Epoch 79/100\n",
      "28/28 [==============================] - 0s 1ms/step - loss: 0.5961 - recall: 0.8086 - val_loss: 0.5778 - val_recall: 0.8217\n",
      "Epoch 80/100\n",
      "28/28 [==============================] - 0s 1ms/step - loss: 0.5969 - recall: 0.7955 - val_loss: 0.5779 - val_recall: 0.8077\n",
      "Epoch 81/100\n",
      "28/28 [==============================] - 0s 1ms/step - loss: 0.5997 - recall: 0.7732 - val_loss: 0.5777 - val_recall: 0.8077\n",
      "Epoch 82/100\n",
      "28/28 [==============================] - 0s 1ms/step - loss: 0.5976 - recall: 0.7900 - val_loss: 0.5771 - val_recall: 0.8182\n",
      "Epoch 83/100\n",
      "28/28 [==============================] - 0s 1ms/step - loss: 0.5861 - recall: 0.8160 - val_loss: 0.5758 - val_recall: 0.8427\n",
      "Epoch 84/100\n",
      "28/28 [==============================] - 0s 2ms/step - loss: 0.5867 - recall: 0.8141 - val_loss: 0.5765 - val_recall: 0.8182\n",
      "Epoch 85/100\n",
      "28/28 [==============================] - 0s 2ms/step - loss: 0.5942 - recall: 0.7937 - val_loss: 0.5760 - val_recall: 0.8462\n",
      "Epoch 86/100\n",
      "28/28 [==============================] - 0s 1ms/step - loss: 0.5896 - recall: 0.7862 - val_loss: 0.5771 - val_recall: 0.8357\n",
      "Epoch 87/100\n",
      "28/28 [==============================] - 0s 1ms/step - loss: 0.5965 - recall: 0.8104 - val_loss: 0.5770 - val_recall: 0.8462\n",
      "Epoch 88/100\n",
      "28/28 [==============================] - 0s 2ms/step - loss: 0.5900 - recall: 0.8086 - val_loss: 0.5772 - val_recall: 0.8252\n",
      "Epoch 89/100\n",
      "28/28 [==============================] - 0s 2ms/step - loss: 0.5840 - recall: 0.8011 - val_loss: 0.5758 - val_recall: 0.8462\n",
      "Epoch 90/100\n",
      "28/28 [==============================] - 0s 1ms/step - loss: 0.5884 - recall: 0.8048 - val_loss: 0.5760 - val_recall: 0.8357\n",
      "Epoch 91/100\n",
      "28/28 [==============================] - 0s 1ms/step - loss: 0.5853 - recall: 0.7900 - val_loss: 0.5764 - val_recall: 0.8042\n",
      "Epoch 92/100\n",
      "28/28 [==============================] - 0s 1ms/step - loss: 0.5915 - recall: 0.8030 - val_loss: 0.5751 - val_recall: 0.8392\n",
      "Epoch 93/100\n",
      "28/28 [==============================] - 0s 1ms/step - loss: 0.5968 - recall: 0.7955 - val_loss: 0.5758 - val_recall: 0.8287\n",
      "Epoch 94/100\n",
      "28/28 [==============================] - 0s 2ms/step - loss: 0.5933 - recall: 0.8030 - val_loss: 0.5758 - val_recall: 0.8357\n",
      "Epoch 95/100\n",
      "28/28 [==============================] - 0s 1ms/step - loss: 0.6016 - recall: 0.7732 - val_loss: 0.5776 - val_recall: 0.7937\n",
      "Epoch 96/100\n",
      "28/28 [==============================] - 0s 1ms/step - loss: 0.5921 - recall: 0.7974 - val_loss: 0.5758 - val_recall: 0.8182\n",
      "Epoch 97/100\n",
      "28/28 [==============================] - 0s 2ms/step - loss: 0.5895 - recall: 0.8030 - val_loss: 0.5758 - val_recall: 0.8112\n",
      "Epoch 98/100\n",
      "28/28 [==============================] - 0s 2ms/step - loss: 0.5948 - recall: 0.8011 - val_loss: 0.5766 - val_recall: 0.8007\n",
      "Epoch 99/100\n",
      "28/28 [==============================] - 0s 2ms/step - loss: 0.5922 - recall: 0.7993 - val_loss: 0.5764 - val_recall: 0.8042\n",
      "Epoch 100/100\n",
      "28/28 [==============================] - 0s 2ms/step - loss: 0.5906 - recall: 0.8030 - val_loss: 0.5768 - val_recall: 0.8042\n",
      "14/14 [==============================] - 0s 539us/step - loss: 0.5768 - recall: 0.8042\n",
      "Epoch 1/100\n",
      "28/28 [==============================] - 1s 6ms/step - loss: 0.7143 - recall: 0.2819 - val_loss: 0.6910 - val_recall: 0.4615\n",
      "Epoch 2/100\n",
      "28/28 [==============================] - 0s 1ms/step - loss: 0.6668 - recall: 0.7270 - val_loss: 0.6589 - val_recall: 0.9808\n",
      "Epoch 3/100\n",
      "28/28 [==============================] - 0s 1ms/step - loss: 0.6479 - recall: 0.9379 - val_loss: 0.6477 - val_recall: 1.0000\n",
      "Epoch 4/100\n",
      "28/28 [==============================] - 0s 2ms/step - loss: 0.6304 - recall: 0.9929 - val_loss: 0.6451 - val_recall: 1.0000\n",
      "Epoch 5/100\n",
      "28/28 [==============================] - 0s 1ms/step - loss: 0.6258 - recall: 0.9965 - val_loss: 0.6434 - val_recall: 1.0000\n",
      "Epoch 6/100\n",
      "28/28 [==============================] - 0s 1ms/step - loss: 0.6213 - recall: 0.9894 - val_loss: 0.6411 - val_recall: 1.0000\n",
      "Epoch 7/100\n",
      "28/28 [==============================] - 0s 1ms/step - loss: 0.6215 - recall: 0.9982 - val_loss: 0.6387 - val_recall: 1.0000\n",
      "Epoch 8/100\n",
      "28/28 [==============================] - 0s 1ms/step - loss: 0.6249 - recall: 0.9947 - val_loss: 0.6370 - val_recall: 1.0000\n",
      "Epoch 9/100\n",
      "28/28 [==============================] - 0s 1ms/step - loss: 0.6164 - recall: 0.9965 - val_loss: 0.6348 - val_recall: 1.0000\n",
      "Epoch 10/100\n",
      "28/28 [==============================] - 0s 2ms/step - loss: 0.6183 - recall: 0.9982 - val_loss: 0.6329 - val_recall: 1.0000\n",
      "Epoch 11/100\n",
      "28/28 [==============================] - 0s 2ms/step - loss: 0.6124 - recall: 0.9947 - val_loss: 0.6317 - val_recall: 1.0000\n",
      "Epoch 12/100\n",
      "28/28 [==============================] - 0s 1ms/step - loss: 0.6220 - recall: 0.9911 - val_loss: 0.6310 - val_recall: 1.0000\n",
      "Epoch 13/100\n",
      "28/28 [==============================] - 0s 1ms/step - loss: 0.6135 - recall: 0.9858 - val_loss: 0.6286 - val_recall: 1.0000\n",
      "Epoch 14/100\n",
      "28/28 [==============================] - 0s 2ms/step - loss: 0.6120 - recall: 0.9823 - val_loss: 0.6263 - val_recall: 1.0000\n",
      "Epoch 15/100\n",
      "28/28 [==============================] - 0s 1ms/step - loss: 0.6045 - recall: 0.9752 - val_loss: 0.6249 - val_recall: 1.0000\n",
      "Epoch 16/100\n",
      "28/28 [==============================] - 0s 1ms/step - loss: 0.6107 - recall: 0.9716 - val_loss: 0.6227 - val_recall: 0.9923\n",
      "Epoch 17/100\n",
      "28/28 [==============================] - 0s 1ms/step - loss: 0.6105 - recall: 0.9681 - val_loss: 0.6216 - val_recall: 0.9923\n",
      "Epoch 18/100\n",
      "28/28 [==============================] - 0s 1ms/step - loss: 0.6090 - recall: 0.9486 - val_loss: 0.6190 - val_recall: 0.9769\n",
      "Epoch 19/100\n",
      "28/28 [==============================] - 0s 1ms/step - loss: 0.6087 - recall: 0.9450 - val_loss: 0.6173 - val_recall: 0.9615\n",
      "Epoch 20/100\n",
      "28/28 [==============================] - 0s 1ms/step - loss: 0.6075 - recall: 0.9415 - val_loss: 0.6163 - val_recall: 0.9577\n",
      "Epoch 21/100\n",
      "28/28 [==============================] - 0s 1ms/step - loss: 0.6018 - recall: 0.9309 - val_loss: 0.6163 - val_recall: 0.9615\n",
      "Epoch 22/100\n",
      "28/28 [==============================] - 0s 1ms/step - loss: 0.6179 - recall: 0.9344 - val_loss: 0.6151 - val_recall: 0.9500\n",
      "Epoch 23/100\n",
      "28/28 [==============================] - 0s 1ms/step - loss: 0.6029 - recall: 0.9220 - val_loss: 0.6140 - val_recall: 0.9423\n",
      "Epoch 24/100\n",
      "28/28 [==============================] - 0s 1ms/step - loss: 0.6008 - recall: 0.9113 - val_loss: 0.6134 - val_recall: 0.9423\n",
      "Epoch 25/100\n",
      "28/28 [==============================] - 0s 1ms/step - loss: 0.6111 - recall: 0.9007 - val_loss: 0.6113 - val_recall: 0.9192\n",
      "Epoch 26/100\n",
      "28/28 [==============================] - 0s 1ms/step - loss: 0.6010 - recall: 0.9184 - val_loss: 0.6113 - val_recall: 0.9269\n",
      "Epoch 27/100\n",
      "28/28 [==============================] - 0s 1ms/step - loss: 0.6087 - recall: 0.8954 - val_loss: 0.6107 - val_recall: 0.9269\n",
      "Epoch 28/100\n",
      "28/28 [==============================] - 0s 1ms/step - loss: 0.6098 - recall: 0.8812 - val_loss: 0.6111 - val_recall: 0.9269\n",
      "Epoch 29/100\n",
      "28/28 [==============================] - 0s 1ms/step - loss: 0.6069 - recall: 0.8936 - val_loss: 0.6106 - val_recall: 0.9154\n",
      "Epoch 30/100\n",
      "28/28 [==============================] - 0s 1ms/step - loss: 0.6036 - recall: 0.9043 - val_loss: 0.6104 - val_recall: 0.9115\n",
      "Epoch 31/100\n",
      "28/28 [==============================] - 0s 1ms/step - loss: 0.5974 - recall: 0.9202 - val_loss: 0.6091 - val_recall: 0.9077\n",
      "Epoch 32/100\n",
      "28/28 [==============================] - 0s 1ms/step - loss: 0.6006 - recall: 0.9043 - val_loss: 0.6085 - val_recall: 0.9000\n",
      "Epoch 33/100\n",
      "28/28 [==============================] - 0s 1ms/step - loss: 0.5970 - recall: 0.8652 - val_loss: 0.6081 - val_recall: 0.8962\n",
      "Epoch 34/100\n",
      "28/28 [==============================] - 0s 1ms/step - loss: 0.5944 - recall: 0.8972 - val_loss: 0.6080 - val_recall: 0.9000\n",
      "Epoch 35/100\n",
      "28/28 [==============================] - 0s 1ms/step - loss: 0.5988 - recall: 0.9025 - val_loss: 0.6076 - val_recall: 0.8962\n",
      "Epoch 36/100\n",
      "28/28 [==============================] - 0s 1ms/step - loss: 0.5970 - recall: 0.8741 - val_loss: 0.6062 - val_recall: 0.8923\n"
     ]
    },
    {
     "name": "stdout",
     "output_type": "stream",
     "text": [
      "Epoch 37/100\n",
      "28/28 [==============================] - 0s 1ms/step - loss: 0.5965 - recall: 0.8688 - val_loss: 0.6054 - val_recall: 0.8885\n",
      "Epoch 38/100\n",
      "28/28 [==============================] - 0s 1ms/step - loss: 0.5917 - recall: 0.8901 - val_loss: 0.6052 - val_recall: 0.8885\n",
      "Epoch 39/100\n",
      "28/28 [==============================] - 0s 1ms/step - loss: 0.6049 - recall: 0.8723 - val_loss: 0.6046 - val_recall: 0.8846\n",
      "Epoch 40/100\n",
      "28/28 [==============================] - 0s 1ms/step - loss: 0.5900 - recall: 0.8564 - val_loss: 0.6038 - val_recall: 0.8808\n",
      "Epoch 41/100\n",
      "28/28 [==============================] - 0s 1ms/step - loss: 0.5938 - recall: 0.8599 - val_loss: 0.6040 - val_recall: 0.8846\n",
      "Epoch 42/100\n",
      "28/28 [==============================] - 0s 1ms/step - loss: 0.6048 - recall: 0.8582 - val_loss: 0.6026 - val_recall: 0.8731\n",
      "Epoch 43/100\n",
      "28/28 [==============================] - 0s 1ms/step - loss: 0.5964 - recall: 0.8830 - val_loss: 0.6017 - val_recall: 0.8654\n",
      "Epoch 44/100\n",
      "28/28 [==============================] - 0s 1ms/step - loss: 0.5950 - recall: 0.8404 - val_loss: 0.6010 - val_recall: 0.8654\n",
      "Epoch 45/100\n",
      "28/28 [==============================] - 0s 1ms/step - loss: 0.5840 - recall: 0.8528 - val_loss: 0.6007 - val_recall: 0.8654\n",
      "Epoch 46/100\n",
      "28/28 [==============================] - 0s 1ms/step - loss: 0.6011 - recall: 0.8316 - val_loss: 0.6016 - val_recall: 0.8808\n",
      "Epoch 47/100\n",
      "28/28 [==============================] - 0s 1ms/step - loss: 0.5936 - recall: 0.8528 - val_loss: 0.6006 - val_recall: 0.8731\n",
      "Epoch 48/100\n",
      "28/28 [==============================] - 0s 1ms/step - loss: 0.5936 - recall: 0.8528 - val_loss: 0.5993 - val_recall: 0.8654\n",
      "Epoch 49/100\n",
      "28/28 [==============================] - 0s 1ms/step - loss: 0.5895 - recall: 0.8351 - val_loss: 0.5990 - val_recall: 0.8654\n",
      "Epoch 50/100\n",
      "28/28 [==============================] - 0s 1ms/step - loss: 0.5966 - recall: 0.8387 - val_loss: 0.5984 - val_recall: 0.8654\n",
      "Epoch 51/100\n",
      "28/28 [==============================] - 0s 1ms/step - loss: 0.5995 - recall: 0.8387 - val_loss: 0.5983 - val_recall: 0.8654\n",
      "Epoch 52/100\n",
      "28/28 [==============================] - 0s 1ms/step - loss: 0.5917 - recall: 0.8404 - val_loss: 0.5987 - val_recall: 0.8692\n",
      "Epoch 53/100\n",
      "28/28 [==============================] - 0s 1ms/step - loss: 0.5970 - recall: 0.8351 - val_loss: 0.5985 - val_recall: 0.8692\n",
      "Epoch 54/100\n",
      "28/28 [==============================] - 0s 1ms/step - loss: 0.5950 - recall: 0.8333 - val_loss: 0.5976 - val_recall: 0.8577\n",
      "Epoch 55/100\n",
      "28/28 [==============================] - 0s 1ms/step - loss: 0.6061 - recall: 0.8528 - val_loss: 0.5974 - val_recall: 0.8462\n",
      "Epoch 56/100\n",
      "28/28 [==============================] - 0s 1ms/step - loss: 0.5998 - recall: 0.8174 - val_loss: 0.5974 - val_recall: 0.8538\n",
      "Epoch 57/100\n",
      "28/28 [==============================] - 0s 1ms/step - loss: 0.5933 - recall: 0.8209 - val_loss: 0.5983 - val_recall: 0.8692\n",
      "Epoch 58/100\n",
      "28/28 [==============================] - 0s 1ms/step - loss: 0.5987 - recall: 0.8280 - val_loss: 0.5976 - val_recall: 0.8577\n",
      "Epoch 59/100\n",
      "28/28 [==============================] - 0s 1ms/step - loss: 0.5942 - recall: 0.8351 - val_loss: 0.5979 - val_recall: 0.8577\n",
      "Epoch 60/100\n",
      "28/28 [==============================] - 0s 1ms/step - loss: 0.6019 - recall: 0.8369 - val_loss: 0.5976 - val_recall: 0.8577\n",
      "Epoch 61/100\n",
      "28/28 [==============================] - 0s 1ms/step - loss: 0.5882 - recall: 0.8404 - val_loss: 0.5971 - val_recall: 0.8577\n",
      "Epoch 62/100\n",
      "28/28 [==============================] - 0s 1ms/step - loss: 0.5929 - recall: 0.8422 - val_loss: 0.5965 - val_recall: 0.8577\n",
      "Epoch 63/100\n",
      "28/28 [==============================] - 0s 1ms/step - loss: 0.6000 - recall: 0.8351 - val_loss: 0.5961 - val_recall: 0.8538\n",
      "Epoch 64/100\n",
      "28/28 [==============================] - 0s 1ms/step - loss: 0.5999 - recall: 0.8067 - val_loss: 0.5957 - val_recall: 0.8500\n",
      "Epoch 65/100\n",
      "28/28 [==============================] - 0s 1ms/step - loss: 0.6051 - recall: 0.8528 - val_loss: 0.5972 - val_recall: 0.8615\n",
      "Epoch 66/100\n",
      "28/28 [==============================] - 0s 1ms/step - loss: 0.5999 - recall: 0.8227 - val_loss: 0.5965 - val_recall: 0.8500\n",
      "Epoch 67/100\n",
      "28/28 [==============================] - 0s 1ms/step - loss: 0.5937 - recall: 0.8369 - val_loss: 0.5969 - val_recall: 0.8538\n",
      "Epoch 68/100\n",
      "28/28 [==============================] - 0s 1ms/step - loss: 0.5931 - recall: 0.8298 - val_loss: 0.5958 - val_recall: 0.8385\n",
      "Epoch 69/100\n",
      "28/28 [==============================] - 0s 1ms/step - loss: 0.5931 - recall: 0.8333 - val_loss: 0.5964 - val_recall: 0.8538\n",
      "Epoch 70/100\n",
      "28/28 [==============================] - 0s 1ms/step - loss: 0.5936 - recall: 0.8298 - val_loss: 0.5969 - val_recall: 0.8577\n",
      "Epoch 71/100\n",
      "28/28 [==============================] - 0s 1ms/step - loss: 0.5926 - recall: 0.8493 - val_loss: 0.5971 - val_recall: 0.8577\n",
      "Epoch 72/100\n",
      "28/28 [==============================] - 0s 1ms/step - loss: 0.5863 - recall: 0.8457 - val_loss: 0.5966 - val_recall: 0.8577\n",
      "Epoch 73/100\n",
      "28/28 [==============================] - 0s 1ms/step - loss: 0.5993 - recall: 0.8511 - val_loss: 0.5958 - val_recall: 0.8462\n",
      "Epoch 74/100\n",
      "28/28 [==============================] - 0s 1ms/step - loss: 0.5898 - recall: 0.8404 - val_loss: 0.5959 - val_recall: 0.8538\n",
      "Epoch 75/100\n",
      "28/28 [==============================] - 0s 1ms/step - loss: 0.5936 - recall: 0.8404 - val_loss: 0.5962 - val_recall: 0.8538\n",
      "Epoch 76/100\n",
      "28/28 [==============================] - 0s 1ms/step - loss: 0.5929 - recall: 0.8280 - val_loss: 0.5960 - val_recall: 0.8423\n",
      "Epoch 77/100\n",
      "28/28 [==============================] - 0s 1ms/step - loss: 0.5914 - recall: 0.8333 - val_loss: 0.5960 - val_recall: 0.8538\n",
      "Epoch 78/100\n",
      "28/28 [==============================] - 0s 1ms/step - loss: 0.6007 - recall: 0.8227 - val_loss: 0.5959 - val_recall: 0.8423\n",
      "Epoch 79/100\n",
      "28/28 [==============================] - 0s 1ms/step - loss: 0.5876 - recall: 0.8262 - val_loss: 0.5954 - val_recall: 0.8538\n",
      "Epoch 80/100\n",
      "28/28 [==============================] - 0s 1ms/step - loss: 0.5923 - recall: 0.8351 - val_loss: 0.5958 - val_recall: 0.8577\n",
      "Epoch 81/100\n",
      "28/28 [==============================] - 0s 1ms/step - loss: 0.5932 - recall: 0.8457 - val_loss: 0.5957 - val_recall: 0.8462\n",
      "Epoch 82/100\n",
      "28/28 [==============================] - 0s 1ms/step - loss: 0.5945 - recall: 0.8209 - val_loss: 0.5957 - val_recall: 0.8577\n",
      "Epoch 83/100\n",
      "28/28 [==============================] - 0s 1ms/step - loss: 0.5881 - recall: 0.8422 - val_loss: 0.5960 - val_recall: 0.8654\n",
      "Epoch 84/100\n",
      "28/28 [==============================] - 0s 1ms/step - loss: 0.5938 - recall: 0.8333 - val_loss: 0.5957 - val_recall: 0.8462\n",
      "Epoch 85/100\n",
      "28/28 [==============================] - 0s 1ms/step - loss: 0.5925 - recall: 0.8156 - val_loss: 0.5955 - val_recall: 0.8346\n",
      "Epoch 86/100\n",
      "28/28 [==============================] - 0s 2ms/step - loss: 0.5926 - recall: 0.8156 - val_loss: 0.5958 - val_recall: 0.8538\n",
      "Epoch 87/100\n",
      "28/28 [==============================] - 0s 2ms/step - loss: 0.5964 - recall: 0.8298 - val_loss: 0.5962 - val_recall: 0.8615\n",
      "Epoch 88/100\n",
      "28/28 [==============================] - 0s 1ms/step - loss: 0.5884 - recall: 0.8511 - val_loss: 0.5960 - val_recall: 0.8654\n",
      "Epoch 89/100\n",
      "28/28 [==============================] - 0s 1ms/step - loss: 0.5871 - recall: 0.8440 - val_loss: 0.5947 - val_recall: 0.8385\n",
      "Epoch 90/100\n",
      "28/28 [==============================] - 0s 1ms/step - loss: 0.5954 - recall: 0.8227 - val_loss: 0.5946 - val_recall: 0.8538\n",
      "Epoch 91/100\n",
      "28/28 [==============================] - 0s 1ms/step - loss: 0.5858 - recall: 0.8245 - val_loss: 0.5944 - val_recall: 0.8462\n",
      "Epoch 92/100\n",
      "28/28 [==============================] - 0s 2ms/step - loss: 0.5958 - recall: 0.8156 - val_loss: 0.5939 - val_recall: 0.8385\n",
      "Epoch 93/100\n",
      "28/28 [==============================] - 0s 1ms/step - loss: 0.5897 - recall: 0.8156 - val_loss: 0.5940 - val_recall: 0.8462\n",
      "Epoch 94/100\n",
      "28/28 [==============================] - 0s 1ms/step - loss: 0.5889 - recall: 0.8280 - val_loss: 0.5934 - val_recall: 0.8385\n",
      "Epoch 95/100\n",
      "28/28 [==============================] - 0s 1ms/step - loss: 0.5913 - recall: 0.8245 - val_loss: 0.5942 - val_recall: 0.8577\n",
      "Epoch 96/100\n"
     ]
    },
    {
     "name": "stdout",
     "output_type": "stream",
     "text": [
      "28/28 [==============================] - 0s 1ms/step - loss: 0.5887 - recall: 0.8351 - val_loss: 0.5934 - val_recall: 0.8500\n",
      "Epoch 97/100\n",
      "28/28 [==============================] - 0s 1ms/step - loss: 0.5970 - recall: 0.8298 - val_loss: 0.5941 - val_recall: 0.8462\n",
      "Epoch 98/100\n",
      "28/28 [==============================] - 0s 1ms/step - loss: 0.5880 - recall: 0.8245 - val_loss: 0.5935 - val_recall: 0.8385\n",
      "Epoch 99/100\n",
      "28/28 [==============================] - 0s 1ms/step - loss: 0.5935 - recall: 0.8351 - val_loss: 0.5939 - val_recall: 0.8500\n",
      "Epoch 100/100\n",
      "28/28 [==============================] - 0s 1ms/step - loss: 0.5845 - recall: 0.8404 - val_loss: 0.5932 - val_recall: 0.8423\n",
      "14/14 [==============================] - 0s 616us/step - loss: 0.5932 - recall: 0.8423\n",
      "\n",
      "Average recall :  0.8210167487462362\n"
     ]
    }
   ],
   "source": [
    "#test of the model with 100 epochs\n",
    "l_hist = score_classifier_nn(epochs=100)"
   ]
  },
  {
   "cell_type": "markdown",
   "id": "a7b3493d",
   "metadata": {},
   "source": [
    "Choice of the optimal number of epochs"
   ]
  },
  {
   "cell_type": "code",
   "execution_count": 46,
   "id": "3dc572e7",
   "metadata": {},
   "outputs": [],
   "source": [
    "hist1, hist2, hist3 = l_hist"
   ]
  },
  {
   "cell_type": "code",
   "execution_count": 47,
   "id": "a7bba371",
   "metadata": {},
   "outputs": [
    {
     "data": {
      "text/plain": [
       "dict_keys(['loss', 'recall', 'val_loss', 'val_recall'])"
      ]
     },
     "execution_count": 47,
     "metadata": {},
     "output_type": "execute_result"
    }
   ],
   "source": [
    "hist1.history.keys()"
   ]
  },
  {
   "cell_type": "code",
   "execution_count": 48,
   "id": "65d13ef7",
   "metadata": {},
   "outputs": [
    {
     "data": {
      "image/png": "[encoded data removed]",
      "text/plain": [
       "<Figure size 432x288 with 1 Axes>"
      ]
     },
     "metadata": {
      "needs_background": "light"
     },
     "output_type": "display_data"
    },
    {
     "data": {
      "image/png": "[encoded data removed]",
      "text/plain": [
       "<Figure size 432x288 with 1 Axes>"
      ]
     },
     "metadata": {
      "needs_background": "light"
     },
     "output_type": "display_data"
    },
    {
     "data": {
      "image/png": "[encoded data removed]",
      "text/plain": [
       "<Figure size 432x288 with 1 Axes>"
      ]
     },
     "metadata": {
      "needs_background": "light"
     },
     "output_type": "display_data"
    }
   ],
   "source": [
    "import matplotlib.pyplot as plt\n",
    "\n",
    "for i in range(len(l_hist)):\n",
    "    fig = plt.figure()\n",
    "    ax = fig.add_subplot(111)\n",
    "    plt.plot(hist1.history[\"loss\"], c=\"blue\", label = \"training_loss_\"+str(i))\n",
    "    plt.plot(hist1.history[\"val_loss\"], c=\"green\", label = \"test_loss_\"+str(i))\n",
    "    ax.set_title(\"Evolution of the training and test loss with the number of epoch, for the training n°{}\".format(i+1))\n",
    "    plt.show(fig)\n"
   ]
  },
  {
   "cell_type": "markdown",
   "id": "15bf2198",
   "metadata": {},
   "source": [
    "In every case, the test_loss stops decreasing from the 20th epoch.\n",
    "Thus, we start another training with only 20 epochs in order not to overfit."
   ]
  },
  {
   "cell_type": "code",
   "execution_count": 49,
   "id": "b20dc052",
   "metadata": {},
   "outputs": [
    {
     "name": "stdout",
     "output_type": "stream",
     "text": [
      "Epoch 1/20\n",
      "28/28 [==============================] - 0s 6ms/step - loss: 0.7966 - recall: 0.1044 - val_loss: 0.7414 - val_recall: 0.0216\n",
      "Epoch 2/20\n",
      "28/28 [==============================] - 0s 1ms/step - loss: 0.7156 - recall: 0.4176 - val_loss: 0.6812 - val_recall: 0.7878\n",
      "Epoch 3/20\n",
      "28/28 [==============================] - 0s 1ms/step - loss: 0.6696 - recall: 0.8370 - val_loss: 0.6404 - val_recall: 1.0000\n",
      "Epoch 4/20\n",
      "28/28 [==============================] - 0s 1ms/step - loss: 0.6462 - recall: 0.9560 - val_loss: 0.6297 - val_recall: 1.0000\n",
      "Epoch 5/20\n",
      "28/28 [==============================] - 0s 1ms/step - loss: 0.6456 - recall: 0.9872 - val_loss: 0.6243 - val_recall: 1.0000\n",
      "Epoch 6/20\n",
      "28/28 [==============================] - 0s 1ms/step - loss: 0.6356 - recall: 0.9817 - val_loss: 0.6214 - val_recall: 1.0000\n",
      "Epoch 7/20\n",
      "28/28 [==============================] - 0s 1ms/step - loss: 0.6286 - recall: 0.9872 - val_loss: 0.6183 - val_recall: 1.0000\n",
      "Epoch 8/20\n",
      "28/28 [==============================] - 0s 2ms/step - loss: 0.6354 - recall: 0.9799 - val_loss: 0.6161 - val_recall: 1.0000\n",
      "Epoch 9/20\n",
      "28/28 [==============================] - 0s 2ms/step - loss: 0.6300 - recall: 0.9597 - val_loss: 0.6140 - val_recall: 1.0000\n",
      "Epoch 10/20\n",
      "28/28 [==============================] - 0s 1ms/step - loss: 0.6215 - recall: 0.9799 - val_loss: 0.6115 - val_recall: 1.0000\n",
      "Epoch 11/20\n",
      "28/28 [==============================] - 0s 1ms/step - loss: 0.6272 - recall: 0.9872 - val_loss: 0.6100 - val_recall: 1.0000\n",
      "Epoch 12/20\n",
      "28/28 [==============================] - 0s 1ms/step - loss: 0.6184 - recall: 0.9744 - val_loss: 0.6080 - val_recall: 1.0000\n",
      "Epoch 13/20\n",
      "28/28 [==============================] - 0s 1ms/step - loss: 0.6163 - recall: 0.9707 - val_loss: 0.6058 - val_recall: 0.9928\n",
      "Epoch 14/20\n",
      "28/28 [==============================] - 0s 1ms/step - loss: 0.6222 - recall: 0.9707 - val_loss: 0.6050 - val_recall: 0.9892\n",
      "Epoch 15/20\n",
      "28/28 [==============================] - 0s 1ms/step - loss: 0.6133 - recall: 0.9597 - val_loss: 0.6037 - val_recall: 0.9820\n",
      "Epoch 16/20\n",
      "28/28 [==============================] - 0s 1ms/step - loss: 0.6187 - recall: 0.9505 - val_loss: 0.6026 - val_recall: 0.9820\n",
      "Epoch 17/20\n",
      "28/28 [==============================] - 0s 1ms/step - loss: 0.6176 - recall: 0.9579 - val_loss: 0.6010 - val_recall: 0.9856\n",
      "Epoch 18/20\n",
      "28/28 [==============================] - 0s 1ms/step - loss: 0.6171 - recall: 0.9487 - val_loss: 0.6008 - val_recall: 0.9640\n",
      "Epoch 19/20\n",
      "28/28 [==============================] - 0s 1ms/step - loss: 0.6182 - recall: 0.9286 - val_loss: 0.6001 - val_recall: 0.9640\n",
      "Epoch 20/20\n",
      "28/28 [==============================] - 0s 1ms/step - loss: 0.6128 - recall: 0.9176 - val_loss: 0.5984 - val_recall: 0.9676\n",
      "14/14 [==============================] - 0s 693us/step - loss: 0.5984 - recall: 0.9676\n",
      "Epoch 1/20\n",
      "28/28 [==============================] - 1s 6ms/step - loss: 0.7037 - recall: 0.3216 - val_loss: 0.6635 - val_recall: 0.8811\n",
      "Epoch 2/20\n",
      "28/28 [==============================] - 0s 1ms/step - loss: 0.6661 - recall: 0.7472 - val_loss: 0.6404 - val_recall: 0.9685\n",
      "Epoch 3/20\n",
      "28/28 [==============================] - 0s 1ms/step - loss: 0.6508 - recall: 0.8643 - val_loss: 0.6247 - val_recall: 0.9930\n",
      "Epoch 4/20\n",
      "28/28 [==============================] - 0s 1ms/step - loss: 0.6374 - recall: 0.9219 - val_loss: 0.6167 - val_recall: 0.9965\n",
      "Epoch 5/20\n",
      "28/28 [==============================] - 0s 1ms/step - loss: 0.6370 - recall: 0.9480 - val_loss: 0.6123 - val_recall: 0.9965\n",
      "Epoch 6/20\n",
      "28/28 [==============================] - 0s 1ms/step - loss: 0.6359 - recall: 0.9442 - val_loss: 0.6094 - val_recall: 0.9965\n",
      "Epoch 7/20\n",
      "28/28 [==============================] - 0s 1ms/step - loss: 0.6316 - recall: 0.9219 - val_loss: 0.6072 - val_recall: 0.9930\n",
      "Epoch 8/20\n",
      "28/28 [==============================] - 0s 1ms/step - loss: 0.6321 - recall: 0.9219 - val_loss: 0.6050 - val_recall: 0.9895\n",
      "Epoch 9/20\n",
      "28/28 [==============================] - 0s 1ms/step - loss: 0.6378 - recall: 0.8941 - val_loss: 0.6039 - val_recall: 0.9720\n",
      "Epoch 10/20\n",
      "28/28 [==============================] - 0s 1ms/step - loss: 0.6309 - recall: 0.9219 - val_loss: 0.6015 - val_recall: 0.9720\n",
      "Epoch 11/20\n",
      "28/28 [==============================] - 0s 1ms/step - loss: 0.6285 - recall: 0.8903 - val_loss: 0.5991 - val_recall: 0.9650\n",
      "Epoch 12/20\n",
      "28/28 [==============================] - 0s 1ms/step - loss: 0.6197 - recall: 0.8792 - val_loss: 0.5977 - val_recall: 0.9580\n",
      "Epoch 13/20\n",
      "28/28 [==============================] - 0s 1ms/step - loss: 0.6206 - recall: 0.8848 - val_loss: 0.5965 - val_recall: 0.9476\n",
      "Epoch 14/20\n",
      "28/28 [==============================] - 0s 1ms/step - loss: 0.6288 - recall: 0.8717 - val_loss: 0.5961 - val_recall: 0.9406\n",
      "Epoch 15/20\n",
      "28/28 [==============================] - 0s 2ms/step - loss: 0.6333 - recall: 0.8662 - val_loss: 0.5960 - val_recall: 0.9371\n",
      "Epoch 16/20\n",
      "28/28 [==============================] - 0s 1ms/step - loss: 0.6195 - recall: 0.8662 - val_loss: 0.5951 - val_recall: 0.9301\n",
      "Epoch 17/20\n",
      "28/28 [==============================] - 0s 1ms/step - loss: 0.6198 - recall: 0.8736 - val_loss: 0.5931 - val_recall: 0.9301\n",
      "Epoch 18/20\n",
      "28/28 [==============================] - 0s 1ms/step - loss: 0.6272 - recall: 0.8587 - val_loss: 0.5931 - val_recall: 0.9266\n",
      "Epoch 19/20\n",
      "28/28 [==============================] - 0s 1ms/step - loss: 0.6284 - recall: 0.8160 - val_loss: 0.5928 - val_recall: 0.9091\n",
      "Epoch 20/20\n",
      "28/28 [==============================] - 0s 1ms/step - loss: 0.6221 - recall: 0.8532 - val_loss: 0.5922 - val_recall: 0.9091\n",
      "14/14 [==============================] - 0s 539us/step - loss: 0.5922 - recall: 0.9091\n",
      "Epoch 1/20\n",
      "28/28 [==============================] - 1s 7ms/step - loss: 0.7229 - recall: 0.4681 - val_loss: 0.6838 - val_recall: 0.9808\n",
      "Epoch 2/20\n",
      "28/28 [==============================] - 0s 1ms/step - loss: 0.6586 - recall: 0.8440 - val_loss: 0.6586 - val_recall: 1.0000\n",
      "Epoch 3/20\n",
      "28/28 [==============================] - 0s 1ms/step - loss: 0.6509 - recall: 0.9113 - val_loss: 0.6501 - val_recall: 1.0000\n",
      "Epoch 4/20\n",
      "28/28 [==============================] - 0s 1ms/step - loss: 0.6351 - recall: 0.9770 - val_loss: 0.6471 - val_recall: 1.0000\n",
      "Epoch 5/20\n",
      "28/28 [==============================] - 0s 1ms/step - loss: 0.6297 - recall: 0.9805 - val_loss: 0.6449 - val_recall: 1.0000\n",
      "Epoch 6/20\n",
      "28/28 [==============================] - 0s 1ms/step - loss: 0.6256 - recall: 0.9858 - val_loss: 0.6424 - val_recall: 1.0000\n",
      "Epoch 7/20\n",
      "28/28 [==============================] - 0s 2ms/step - loss: 0.6281 - recall: 0.9823 - val_loss: 0.6401 - val_recall: 1.0000\n",
      "Epoch 8/20\n",
      "28/28 [==============================] - 0s 1ms/step - loss: 0.6266 - recall: 0.9894 - val_loss: 0.6377 - val_recall: 1.0000\n",
      "Epoch 9/20\n",
      "28/28 [==============================] - 0s 1ms/step - loss: 0.6195 - recall: 0.9823 - val_loss: 0.6340 - val_recall: 1.0000\n",
      "Epoch 10/20\n",
      "28/28 [==============================] - 0s 1ms/step - loss: 0.6159 - recall: 0.9840 - val_loss: 0.6296 - val_recall: 1.0000\n",
      "Epoch 11/20\n",
      "28/28 [==============================] - 0s 1ms/step - loss: 0.6243 - recall: 0.9734 - val_loss: 0.6271 - val_recall: 1.0000\n",
      "Epoch 12/20\n",
      "28/28 [==============================] - 0s 1ms/step - loss: 0.6147 - recall: 0.9681 - val_loss: 0.6258 - val_recall: 1.0000\n",
      "Epoch 13/20\n",
      "28/28 [==============================] - 0s 1ms/step - loss: 0.6116 - recall: 0.9628 - val_loss: 0.6239 - val_recall: 1.0000\n",
      "Epoch 14/20\n",
      "28/28 [==============================] - 0s 1ms/step - loss: 0.6074 - recall: 0.9610 - val_loss: 0.6216 - val_recall: 1.0000\n",
      "Epoch 15/20\n",
      "28/28 [==============================] - 0s 2ms/step - loss: 0.6117 - recall: 0.9574 - val_loss: 0.6197 - val_recall: 1.0000\n",
      "Epoch 16/20\n",
      "28/28 [==============================] - 0s 1ms/step - loss: 0.6089 - recall: 0.9450 - val_loss: 0.6167 - val_recall: 0.9846\n",
      "Epoch 17/20\n",
      "28/28 [==============================] - 0s 1ms/step - loss: 0.6137 - recall: 0.9433 - val_loss: 0.6181 - val_recall: 0.9962\n",
      "Epoch 18/20\n",
      "28/28 [==============================] - 0s 1ms/step - loss: 0.5974 - recall: 0.9557 - val_loss: 0.6160 - val_recall: 0.9808\n",
      "Epoch 19/20\n",
      "28/28 [==============================] - 0s 1ms/step - loss: 0.6137 - recall: 0.9309 - val_loss: 0.6150 - val_recall: 0.9769\n"
     ]
    },
    {
     "name": "stdout",
     "output_type": "stream",
     "text": [
      "Epoch 20/20\n",
      "28/28 [==============================] - 0s 1ms/step - loss: 0.6106 - recall: 0.9238 - val_loss: 0.6135 - val_recall: 0.9692\n",
      "14/14 [==============================] - 0s 615us/step - loss: 0.6135 - recall: 0.9692\n",
      "\n",
      "Average recall :  0.9486492077509562\n"
     ]
    }
   ],
   "source": [
    "l_hist = score_classifier_nn(epochs=20)"
   ]
  },
  {
   "cell_type": "markdown",
   "id": "133b4318",
   "metadata": {},
   "source": [
    "The recall is about 92%.\n",
    "We will thus retain this model"
   ]
  },
  {
   "cell_type": "code",
   "execution_count": 50,
   "id": "d9850364",
   "metadata": {},
   "outputs": [
    {
     "name": "stdout",
     "output_type": "stream",
     "text": [
      "Epoch 1/20\n",
      "42/42 [==============================] - 0s 634us/step - loss: 0.6817 - recall: 0.6299\n",
      "Epoch 2/20\n",
      "42/42 [==============================] - 0s 586us/step - loss: 0.6626 - recall: 0.8483\n",
      "Epoch 3/20\n",
      "42/42 [==============================] - 0s 610us/step - loss: 0.6488 - recall: 0.9430\n",
      "Epoch 4/20\n",
      "42/42 [==============================] - 0s 610us/step - loss: 0.6459 - recall: 0.9527\n",
      "Epoch 5/20\n",
      "42/42 [==============================] - 0s 610us/step - loss: 0.6402 - recall: 0.9672\n",
      "Epoch 6/20\n",
      "42/42 [==============================] - 0s 585us/step - loss: 0.6394 - recall: 0.9721\n",
      "Epoch 7/20\n",
      "42/42 [==============================] - 0s 610us/step - loss: 0.6312 - recall: 0.9684\n",
      "Epoch 8/20\n",
      "42/42 [==============================] - 0s 634us/step - loss: 0.6240 - recall: 0.9539\n",
      "Epoch 9/20\n",
      "42/42 [==============================] - 0s 707us/step - loss: 0.6280 - recall: 0.9527\n",
      "Epoch 10/20\n",
      "42/42 [==============================] - 0s 659us/step - loss: 0.6234 - recall: 0.9466\n",
      "Epoch 11/20\n",
      "42/42 [==============================] - 0s 610us/step - loss: 0.6238 - recall: 0.9345\n",
      "Epoch 12/20\n",
      "42/42 [==============================] - 0s 634us/step - loss: 0.6212 - recall: 0.9078\n",
      "Epoch 13/20\n",
      "42/42 [==============================] - 0s 634us/step - loss: 0.6176 - recall: 0.9090\n",
      "Epoch 14/20\n",
      "42/42 [==============================] - 0s 585us/step - loss: 0.6091 - recall: 0.9053\n",
      "Epoch 15/20\n",
      "42/42 [==============================] - 0s 829us/step - loss: 0.6076 - recall: 0.9029\n",
      "Epoch 16/20\n",
      "42/42 [==============================] - 0s 683us/step - loss: 0.6089 - recall: 0.8896\n",
      "Epoch 17/20\n",
      "42/42 [==============================] - 0s 732us/step - loss: 0.6075 - recall: 0.8738\n",
      "Epoch 18/20\n",
      "42/42 [==============================] - 0s 707us/step - loss: 0.6065 - recall: 0.8701\n",
      "Epoch 19/20\n",
      "42/42 [==============================] - 0s 707us/step - loss: 0.6171 - recall: 0.8665\n",
      "Epoch 20/20\n",
      "42/42 [==============================] - 0s 732us/step - loss: 0.6117 - recall: 0.8507\n",
      "INFO:tensorflow:Assets written to: ./nba_nn.mdl\\assets\n"
     ]
    }
   ],
   "source": [
    "#we train the model on all the data and export it\n",
    "\n",
    "mdl = get_model()\n",
    "mdl.compile(optimizer = 'adam',loss='binary_crossentropy',metrics =\"Recall\")\n",
    "mdl.fit(X, labels, epochs=20)\n",
    "mdl.save(\"./nba_nn.mdl\")"
   ]
  },
  {
   "cell_type": "code",
   "execution_count": 51,
   "id": "956e8339",
   "metadata": {},
   "outputs": [],
   "source": [
    "from keras.models import load_model\n",
    "NBA_MODEL = load_model('./nba_nn.mdl')\n"
   ]
  },
  {
   "cell_type": "code",
   "execution_count": 52,
   "id": "ba1b5f50",
   "metadata": {},
   "outputs": [
    {
     "name": "stdout",
     "output_type": "stream",
     "text": [
      "Collecting pipreqs\n",
      "  Downloading pipreqs-0.4.11-py2.py3-none-any.whl (32 kB)\n",
      "Collecting yarg\n",
      "  Downloading yarg-0.1.9-py2.py3-none-any.whl (19 kB)\n",
      "Collecting docopt\n",
      "  Using cached docopt-0.6.2.tar.gz (25 kB)\n",
      "Requirement already satisfied: requests in c:\\users\\thoma\\anaconda3\\envs\\data_science\\lib\\site-packages (from yarg->pipreqs) (2.26.0)\n",
      "Requirement already satisfied: charset-normalizer~=2.0.0 in c:\\users\\thoma\\anaconda3\\envs\\data_science\\lib\\site-packages (from requests->yarg->pipreqs) (2.0.4)\n",
      "Requirement already satisfied: certifi>=2017.4.17 in c:\\users\\thoma\\anaconda3\\envs\\data_science\\lib\\site-packages (from requests->yarg->pipreqs) (2021.10.8)\n",
      "Requirement already satisfied: idna<4,>=2.5 in c:\\users\\thoma\\anaconda3\\envs\\data_science\\lib\\site-packages (from requests->yarg->pipreqs) (3.2)\n",
      "Requirement already satisfied: urllib3<1.27,>=1.21.1 in c:\\users\\thoma\\anaconda3\\envs\\data_science\\lib\\site-packages (from requests->yarg->pipreqs) (1.26.7)\n",
      "Building wheels for collected packages: docopt\n",
      "  Building wheel for docopt (setup.py): started\n",
      "  Building wheel for docopt (setup.py): finished with status 'done'\n",
      "  Created wheel for docopt: filename=docopt-0.6.2-py2.py3-none-any.whl size=13724 sha256=fb6e1efa71039fb0ee1ec20ada719c8f679fbf58075d0d64ef940fadec2f6f1d\n",
      "  Stored in directory: c:\\users\\thoma\\appdata\\local\\pip\\cache\\wheels\\56\\ea\\58\\ead137b087d9e326852a851351d1debf4ada529b6ac0ec4e8c\n",
      "Successfully built docopt\n",
      "Installing collected packages: yarg, docopt, pipreqs\n",
      "Successfully installed docopt-0.6.2 pipreqs-0.4.11 yarg-0.1.9\n"
     ]
    }
   ],
   "source": [
    "!pip install pipreqs"
   ]
  },
  {
   "cell_type": "code",
   "execution_count": 53,
   "id": "0a408a6e",
   "metadata": {},
   "outputs": [
    {
     "data": {
      "text/plain": [
       "'C:\\\\Users\\\\thoma\\\\OneDrive\\\\Documents\\\\recherche_emploi\\\\tests_techniques\\\\test_mpdata'"
      ]
     },
     "execution_count": 53,
     "metadata": {},
     "output_type": "execute_result"
    }
   ],
   "source": [
    "pwd"
   ]
  },
  {
   "cell_type": "code",
   "execution_count": 62,
   "id": "b81e1403",
   "metadata": {},
   "outputs": [
    {
     "name": "stdout",
     "output_type": "stream",
     "text": [
      "C:\\Users\\thoma\\OneDrive\\Documents\\recherche_emploi\\tests_techniques\\test_mpdata\n"
     ]
    }
   ],
   "source": [
    "cd .."
   ]
  },
  {
   "cell_type": "code",
   "execution_count": 65,
   "id": "11ffc67b",
   "metadata": {},
   "outputs": [
    {
     "name": "stderr",
     "output_type": "stream",
     "text": [
      "INFO: Successfully saved requirements file in C:/Users/thoma/OneDrive/Documents/recherche_emploi/tests_techniques/test_mpdata\\requirements.txt\n"
     ]
    }
   ],
   "source": [
    "!pipreqs C:/Users/thoma/OneDrive/Documents/recherche_emploi/tests_techniques/test_mpdata"
   ]
  },
  {
   "cell_type": "code",
   "execution_count": 56,
   "id": "8d8001fa",
   "metadata": {},
   "outputs": [
    {
     "name": "stderr",
     "output_type": "stream",
     "text": [
      "'ls' n’est pas reconnu en tant que commande interne\n",
      "ou externe, un programme exécutable ou un fichier de commandes.\n"
     ]
    }
   ],
   "source": [
    "!ls"
   ]
  },
  {
   "cell_type": "code",
   "execution_count": 57,
   "id": "09124258",
   "metadata": {},
   "outputs": [
    {
     "name": "stdout",
     "output_type": "stream",
     "text": [
      " Le volume dans le lecteur C s’appelle Windows-SSD\n",
      " Le numéro de série du volume est 3207-6D09\n",
      "\n",
      " Répertoire de C:\\Users\\thoma\\OneDrive\\Documents\\recherche_emploi\\tests_techniques\\test_mpdata\n",
      "\n",
      "16/12/2021  09:26    <DIR>          .\n",
      "17/11/2021  09:13    <DIR>          ..\n",
      "14/11/2021  09:20    <DIR>          .ipynb_checkpoints\n",
      "13/11/2021  11:05    <DIR>          __pycache__\n",
      "17/11/2021  11:07             1 639 app.py\n",
      "16/12/2021  09:26           333 240 NBA.ipynb\n",
      "16/12/2021  09:19             1 326 nba.scaler\n",
      "15/03/2018  08:19           129 360 nba_logreg.csv\n",
      "16/12/2021  09:23    <DIR>          nba_nn.mdl\n",
      "17/11/2021  11:07               617 readme.txt.txt\n",
      "17/11/2021  11:08           141 567 test_technique_ThomasDELARD.zip\n",
      "17/11/2021  10:52             1 361 user_interface.py\n",
      "               7 fichier(s)          609 110 octets\n",
      "               5 Rép(s)  842 782 736 384 octets libres\n"
     ]
    }
   ],
   "source": [
    "ls"
   ]
  },
  {
   "cell_type": "code",
   "execution_count": 58,
   "id": "6ad2e4a0",
   "metadata": {},
   "outputs": [
    {
     "name": "stdout",
     "output_type": "stream",
     "text": [
      " Le volume dans le lecteur C s’appelle Windows-SSD\n",
      " Le numéro de série du volume est 3207-6D09\n",
      "\n",
      " Répertoire de C:\\Users\\thoma\\OneDrive\\Documents\\recherche_emploi\\tests_techniques\\test_mpdata\n",
      "\n",
      "16/12/2021  09:29    <DIR>          .\n",
      "17/11/2021  09:13    <DIR>          ..\n",
      "14/11/2021  09:20    <DIR>          .ipynb_checkpoints\n",
      "13/11/2021  11:05    <DIR>          __pycache__\n",
      "17/11/2021  11:07             1 639 app.py\n",
      "16/12/2021  09:19             1 326 nba.scaler\n",
      "15/03/2018  08:19           129 360 nba_logreg.csv\n",
      "16/12/2021  09:23    <DIR>          nba_nn.mdl\n",
      "17/11/2021  11:07               617 readme.txt.txt\n",
      "16/12/2021  09:29    <DIR>          test\n",
      "17/11/2021  11:08           141 567 test_technique_ThomasDELARD.zip\n",
      "17/11/2021  10:52             1 361 user_interface.py\n",
      "               6 fichier(s)          275 870 octets\n",
      "               6 Rép(s)  842 780 938 240 octets libres\n"
     ]
    }
   ],
   "source": [
    "ls"
   ]
  },
  {
   "cell_type": "code",
   "execution_count": 59,
   "id": "e1d49448",
   "metadata": {},
   "outputs": [
    {
     "ename": "NameError",
     "evalue": "name 'pwd' is not defined",
     "output_type": "error",
     "traceback": [
      "\u001b[1;31m---------------------------------------------------------------------------\u001b[0m",
      "\u001b[1;31mNameError\u001b[0m                                 Traceback (most recent call last)",
      "\u001b[1;32m~\\AppData\\Local\\Temp/ipykernel_25756/1523412579.py\u001b[0m in \u001b[0;36m<module>\u001b[1;34m\u001b[0m\n\u001b[1;32m----> 1\u001b[1;33m \u001b[0mprint\u001b[0m\u001b[1;33m(\u001b[0m\u001b[0mpwd\u001b[0m\u001b[1;33m/\u001b[0m\u001b[1;34m\"test\"\u001b[0m\u001b[1;33m)\u001b[0m\u001b[1;33m\u001b[0m\u001b[1;33m\u001b[0m\u001b[0m\n\u001b[0m",
      "\u001b[1;31mNameError\u001b[0m: name 'pwd' is not defined"
     ]
    }
   ],
   "source": [
    "print(pwd/\"test\")"
   ]
  },
  {
   "cell_type": "code",
   "execution_count": null,
   "id": "805c297c",
   "metadata": {},
   "outputs": [],
   "source": []
  }
 ],
 "metadata": {
  "kernelspec": {
   "display_name": "Python 3 (ipykernel)",
   "language": "python",
   "name": "python3"
  },
  "language_info": {
   "codemirror_mode": {
    "name": "ipython",
    "version": 3
   },
   "file_extension": ".py",
   "mimetype": "text/x-python",
   "name": "python",
   "nbconvert_exporter": "python",
   "pygments_lexer": "ipython3",
   "version": "3.8.12"
  }
 },
 "nbformat": 4,
 "nbformat_minor": 5
}
