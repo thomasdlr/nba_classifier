{
 "cells": [
  {
   "cell_type": "markdown",
   "id": "e0c57f3e",
   "metadata": {},
   "source": [
    "# Pretreatment"
   ]
  },
  {
   "cell_type": "markdown",
   "id": "5beb57ce",
   "metadata": {},
   "source": [
    "## Data import"
   ]
  },
  {
   "cell_type": "code",
   "execution_count": 1,
   "id": "a40359b7",
   "metadata": {},
   "outputs": [],
   "source": [
    "import pandas as pd\n",
    "\n",
    "# Load dataset\n",
    "df = pd.read_csv(\".\\\\nba_logreg.csv\")\n",
    "\n",
    "# extract names, labels, features names and values\n",
    "names = df['Name'].values.tolist() # players names\n",
    "labels = df['TARGET_5Yrs'].values # labels\n",
    "paramset = df.drop(['TARGET_5Yrs','Name'],axis=1).columns.values\n",
    "#paramset = df[[\"GP\",\"MIN\",\"PTS\"]].columns.values\n",
    "df_vals = df.drop(['TARGET_5Yrs','Name'],axis=1).values\n",
    "#df_vals = df[[\"GP\",\"MIN\",\"PTS\"]].values"
   ]
  },
  {
   "cell_type": "markdown",
   "id": "0a59d6f8",
   "metadata": {},
   "source": [
    "## Missing values"
   ]
  },
  {
   "cell_type": "code",
   "execution_count": 2,
   "id": "c1310a94",
   "metadata": {},
   "outputs": [
    {
     "data": {
      "text/plain": [
       "Name           False\n",
       "GP             False\n",
       "MIN            False\n",
       "PTS            False\n",
       "FGM            False\n",
       "FGA            False\n",
       "FG%            False\n",
       "3P Made        False\n",
       "3PA            False\n",
       "3P%             True\n",
       "FTM            False\n",
       "FTA            False\n",
       "FT%            False\n",
       "OREB           False\n",
       "DREB           False\n",
       "REB            False\n",
       "AST            False\n",
       "STL            False\n",
       "BLK            False\n",
       "TOV            False\n",
       "TARGET_5Yrs    False\n",
       "dtype: bool"
      ]
     },
     "execution_count": 2,
     "metadata": {},
     "output_type": "execute_result"
    }
   ],
   "source": [
    "df.isna().any()"
   ]
  },
  {
   "cell_type": "code",
   "execution_count": 3,
   "id": "f2b849f1",
   "metadata": {},
   "outputs": [
    {
     "data": {
      "text/plain": [
       "Name            0\n",
       "GP              0\n",
       "MIN             0\n",
       "PTS             0\n",
       "FGM             0\n",
       "FGA             0\n",
       "FG%             0\n",
       "3P Made         0\n",
       "3PA             0\n",
       "3P%            11\n",
       "FTM             0\n",
       "FTA             0\n",
       "FT%             0\n",
       "OREB            0\n",
       "DREB            0\n",
       "REB             0\n",
       "AST             0\n",
       "STL             0\n",
       "BLK             0\n",
       "TOV             0\n",
       "TARGET_5Yrs     0\n",
       "dtype: int64"
      ]
     },
     "execution_count": 3,
     "metadata": {},
     "output_type": "execute_result"
    }
   ],
   "source": [
    "df.isna().sum()"
   ]
  },
  {
   "cell_type": "code",
   "execution_count": 4,
   "id": "4e674d70",
   "metadata": {},
   "outputs": [
    {
     "data": {
      "text/html": [
       "<div>\n",
       "<style scoped>\n",
       "    .dataframe tbody tr th:only-of-type {\n",
       "        vertical-align: middle;\n",
       "    }\n",
       "\n",
       "    .dataframe tbody tr th {\n",
       "        vertical-align: top;\n",
       "    }\n",
       "\n",
       "    .dataframe thead th {\n",
       "        text-align: right;\n",
       "    }\n",
       "</style>\n",
       "<table border=\"1\" class=\"dataframe\">\n",
       "  <thead>\n",
       "    <tr style=\"text-align: right;\">\n",
       "      <th></th>\n",
       "      <th>Name</th>\n",
       "      <th>GP</th>\n",
       "      <th>MIN</th>\n",
       "      <th>PTS</th>\n",
       "      <th>FGM</th>\n",
       "      <th>FGA</th>\n",
       "      <th>FG%</th>\n",
       "      <th>3P Made</th>\n",
       "      <th>3PA</th>\n",
       "      <th>3P%</th>\n",
       "      <th>...</th>\n",
       "      <th>FTA</th>\n",
       "      <th>FT%</th>\n",
       "      <th>OREB</th>\n",
       "      <th>DREB</th>\n",
       "      <th>REB</th>\n",
       "      <th>AST</th>\n",
       "      <th>STL</th>\n",
       "      <th>BLK</th>\n",
       "      <th>TOV</th>\n",
       "      <th>TARGET_5Yrs</th>\n",
       "    </tr>\n",
       "  </thead>\n",
       "  <tbody>\n",
       "    <tr>\n",
       "      <th>338</th>\n",
       "      <td>Ken Johnson</td>\n",
       "      <td>64</td>\n",
       "      <td>12.7</td>\n",
       "      <td>4.1</td>\n",
       "      <td>1.8</td>\n",
       "      <td>3.3</td>\n",
       "      <td>52.8</td>\n",
       "      <td>0.0</td>\n",
       "      <td>0.0</td>\n",
       "      <td>NaN</td>\n",
       "      <td>...</td>\n",
       "      <td>1.3</td>\n",
       "      <td>43.5</td>\n",
       "      <td>1.4</td>\n",
       "      <td>2.4</td>\n",
       "      <td>3.8</td>\n",
       "      <td>0.3</td>\n",
       "      <td>0.2</td>\n",
       "      <td>0.3</td>\n",
       "      <td>0.9</td>\n",
       "      <td>0.0</td>\n",
       "    </tr>\n",
       "    <tr>\n",
       "      <th>339</th>\n",
       "      <td>Ken Johnson</td>\n",
       "      <td>64</td>\n",
       "      <td>12.7</td>\n",
       "      <td>4.1</td>\n",
       "      <td>1.8</td>\n",
       "      <td>3.3</td>\n",
       "      <td>52.8</td>\n",
       "      <td>0.0</td>\n",
       "      <td>0.0</td>\n",
       "      <td>NaN</td>\n",
       "      <td>...</td>\n",
       "      <td>1.3</td>\n",
       "      <td>43.5</td>\n",
       "      <td>1.4</td>\n",
       "      <td>2.4</td>\n",
       "      <td>3.8</td>\n",
       "      <td>0.3</td>\n",
       "      <td>0.2</td>\n",
       "      <td>0.3</td>\n",
       "      <td>0.9</td>\n",
       "      <td>0.0</td>\n",
       "    </tr>\n",
       "    <tr>\n",
       "      <th>340</th>\n",
       "      <td>Pete Williams</td>\n",
       "      <td>53</td>\n",
       "      <td>10.8</td>\n",
       "      <td>2.8</td>\n",
       "      <td>1.3</td>\n",
       "      <td>2.1</td>\n",
       "      <td>60.4</td>\n",
       "      <td>0.0</td>\n",
       "      <td>0.0</td>\n",
       "      <td>NaN</td>\n",
       "      <td>...</td>\n",
       "      <td>0.8</td>\n",
       "      <td>42.5</td>\n",
       "      <td>0.9</td>\n",
       "      <td>1.9</td>\n",
       "      <td>2.8</td>\n",
       "      <td>0.3</td>\n",
       "      <td>0.4</td>\n",
       "      <td>0.4</td>\n",
       "      <td>0.4</td>\n",
       "      <td>0.0</td>\n",
       "    </tr>\n",
       "    <tr>\n",
       "      <th>358</th>\n",
       "      <td>Melvin Turpin</td>\n",
       "      <td>79</td>\n",
       "      <td>24.7</td>\n",
       "      <td>10.6</td>\n",
       "      <td>4.6</td>\n",
       "      <td>9.0</td>\n",
       "      <td>51.1</td>\n",
       "      <td>0.0</td>\n",
       "      <td>0.0</td>\n",
       "      <td>NaN</td>\n",
       "      <td>...</td>\n",
       "      <td>1.8</td>\n",
       "      <td>78.4</td>\n",
       "      <td>2.0</td>\n",
       "      <td>3.8</td>\n",
       "      <td>5.7</td>\n",
       "      <td>0.5</td>\n",
       "      <td>0.5</td>\n",
       "      <td>1.1</td>\n",
       "      <td>1.5</td>\n",
       "      <td>1.0</td>\n",
       "    </tr>\n",
       "    <tr>\n",
       "      <th>386</th>\n",
       "      <td>Jim Petersen</td>\n",
       "      <td>60</td>\n",
       "      <td>11.9</td>\n",
       "      <td>3.2</td>\n",
       "      <td>1.2</td>\n",
       "      <td>2.4</td>\n",
       "      <td>48.6</td>\n",
       "      <td>0.0</td>\n",
       "      <td>0.0</td>\n",
       "      <td>NaN</td>\n",
       "      <td>...</td>\n",
       "      <td>1.1</td>\n",
       "      <td>75.8</td>\n",
       "      <td>0.7</td>\n",
       "      <td>1.7</td>\n",
       "      <td>2.5</td>\n",
       "      <td>0.5</td>\n",
       "      <td>0.2</td>\n",
       "      <td>0.5</td>\n",
       "      <td>1.2</td>\n",
       "      <td>1.0</td>\n",
       "    </tr>\n",
       "    <tr>\n",
       "      <th>397</th>\n",
       "      <td>Tom Scheffler</td>\n",
       "      <td>39</td>\n",
       "      <td>6.9</td>\n",
       "      <td>1.3</td>\n",
       "      <td>0.5</td>\n",
       "      <td>1.3</td>\n",
       "      <td>41.2</td>\n",
       "      <td>0.0</td>\n",
       "      <td>0.0</td>\n",
       "      <td>NaN</td>\n",
       "      <td>...</td>\n",
       "      <td>0.5</td>\n",
       "      <td>50.0</td>\n",
       "      <td>0.5</td>\n",
       "      <td>1.5</td>\n",
       "      <td>1.9</td>\n",
       "      <td>0.3</td>\n",
       "      <td>0.2</td>\n",
       "      <td>0.3</td>\n",
       "      <td>0.4</td>\n",
       "      <td>0.0</td>\n",
       "    </tr>\n",
       "    <tr>\n",
       "      <th>507</th>\n",
       "      <td>Sam Williams</td>\n",
       "      <td>59</td>\n",
       "      <td>18.2</td>\n",
       "      <td>6.1</td>\n",
       "      <td>2.6</td>\n",
       "      <td>4.7</td>\n",
       "      <td>55.6</td>\n",
       "      <td>0.0</td>\n",
       "      <td>0.0</td>\n",
       "      <td>NaN</td>\n",
       "      <td>...</td>\n",
       "      <td>1.5</td>\n",
       "      <td>55.1</td>\n",
       "      <td>1.5</td>\n",
       "      <td>3.7</td>\n",
       "      <td>5.2</td>\n",
       "      <td>0.6</td>\n",
       "      <td>0.8</td>\n",
       "      <td>1.3</td>\n",
       "      <td>1.1</td>\n",
       "      <td>0.0</td>\n",
       "    </tr>\n",
       "    <tr>\n",
       "      <th>509</th>\n",
       "      <td>Kurt Nimphius</td>\n",
       "      <td>63</td>\n",
       "      <td>17.2</td>\n",
       "      <td>5.3</td>\n",
       "      <td>2.2</td>\n",
       "      <td>4.7</td>\n",
       "      <td>46.1</td>\n",
       "      <td>0.0</td>\n",
       "      <td>0.0</td>\n",
       "      <td>NaN</td>\n",
       "      <td>...</td>\n",
       "      <td>1.7</td>\n",
       "      <td>58.3</td>\n",
       "      <td>1.5</td>\n",
       "      <td>3.2</td>\n",
       "      <td>4.7</td>\n",
       "      <td>1.0</td>\n",
       "      <td>0.3</td>\n",
       "      <td>1.3</td>\n",
       "      <td>0.9</td>\n",
       "      <td>1.0</td>\n",
       "    </tr>\n",
       "    <tr>\n",
       "      <th>510</th>\n",
       "      <td>Pete Verhoeven</td>\n",
       "      <td>71</td>\n",
       "      <td>17.0</td>\n",
       "      <td>4.9</td>\n",
       "      <td>2.1</td>\n",
       "      <td>4.2</td>\n",
       "      <td>50.3</td>\n",
       "      <td>0.0</td>\n",
       "      <td>0.0</td>\n",
       "      <td>NaN</td>\n",
       "      <td>...</td>\n",
       "      <td>1.0</td>\n",
       "      <td>70.8</td>\n",
       "      <td>1.5</td>\n",
       "      <td>2.1</td>\n",
       "      <td>3.6</td>\n",
       "      <td>0.7</td>\n",
       "      <td>0.6</td>\n",
       "      <td>0.3</td>\n",
       "      <td>0.8</td>\n",
       "      <td>1.0</td>\n",
       "    </tr>\n",
       "    <tr>\n",
       "      <th>521</th>\n",
       "      <td>Jim Smith</td>\n",
       "      <td>72</td>\n",
       "      <td>11.9</td>\n",
       "      <td>2.9</td>\n",
       "      <td>1.2</td>\n",
       "      <td>2.3</td>\n",
       "      <td>50.9</td>\n",
       "      <td>0.0</td>\n",
       "      <td>0.0</td>\n",
       "      <td>NaN</td>\n",
       "      <td>...</td>\n",
       "      <td>1.2</td>\n",
       "      <td>45.9</td>\n",
       "      <td>1.0</td>\n",
       "      <td>1.5</td>\n",
       "      <td>2.5</td>\n",
       "      <td>0.6</td>\n",
       "      <td>0.3</td>\n",
       "      <td>0.7</td>\n",
       "      <td>0.7</td>\n",
       "      <td>0.0</td>\n",
       "    </tr>\n",
       "    <tr>\n",
       "      <th>559</th>\n",
       "      <td>Jeff Wilkins</td>\n",
       "      <td>56</td>\n",
       "      <td>18.9</td>\n",
       "      <td>4.7</td>\n",
       "      <td>2.1</td>\n",
       "      <td>4.6</td>\n",
       "      <td>45.0</td>\n",
       "      <td>0.0</td>\n",
       "      <td>0.0</td>\n",
       "      <td>NaN</td>\n",
       "      <td>...</td>\n",
       "      <td>0.7</td>\n",
       "      <td>67.5</td>\n",
       "      <td>1.1</td>\n",
       "      <td>3.8</td>\n",
       "      <td>4.9</td>\n",
       "      <td>0.7</td>\n",
       "      <td>0.6</td>\n",
       "      <td>0.8</td>\n",
       "      <td>1.1</td>\n",
       "      <td>1.0</td>\n",
       "    </tr>\n",
       "  </tbody>\n",
       "</table>\n",
       "<p>11 rows × 21 columns</p>\n",
       "</div>"
      ],
      "text/plain": [
       "               Name  GP   MIN   PTS  FGM  FGA   FG%  3P Made  3PA  3P%  ...  \\\n",
       "338     Ken Johnson  64  12.7   4.1  1.8  3.3  52.8      0.0  0.0  NaN  ...   \n",
       "339     Ken Johnson  64  12.7   4.1  1.8  3.3  52.8      0.0  0.0  NaN  ...   \n",
       "340   Pete Williams  53  10.8   2.8  1.3  2.1  60.4      0.0  0.0  NaN  ...   \n",
       "358   Melvin Turpin  79  24.7  10.6  4.6  9.0  51.1      0.0  0.0  NaN  ...   \n",
       "386    Jim Petersen  60  11.9   3.2  1.2  2.4  48.6      0.0  0.0  NaN  ...   \n",
       "397   Tom Scheffler  39   6.9   1.3  0.5  1.3  41.2      0.0  0.0  NaN  ...   \n",
       "507    Sam Williams  59  18.2   6.1  2.6  4.7  55.6      0.0  0.0  NaN  ...   \n",
       "509   Kurt Nimphius  63  17.2   5.3  2.2  4.7  46.1      0.0  0.0  NaN  ...   \n",
       "510  Pete Verhoeven  71  17.0   4.9  2.1  4.2  50.3      0.0  0.0  NaN  ...   \n",
       "521       Jim Smith  72  11.9   2.9  1.2  2.3  50.9      0.0  0.0  NaN  ...   \n",
       "559    Jeff Wilkins  56  18.9   4.7  2.1  4.6  45.0      0.0  0.0  NaN  ...   \n",
       "\n",
       "     FTA   FT%  OREB  DREB  REB  AST  STL  BLK  TOV  TARGET_5Yrs  \n",
       "338  1.3  43.5   1.4   2.4  3.8  0.3  0.2  0.3  0.9          0.0  \n",
       "339  1.3  43.5   1.4   2.4  3.8  0.3  0.2  0.3  0.9          0.0  \n",
       "340  0.8  42.5   0.9   1.9  2.8  0.3  0.4  0.4  0.4          0.0  \n",
       "358  1.8  78.4   2.0   3.8  5.7  0.5  0.5  1.1  1.5          1.0  \n",
       "386  1.1  75.8   0.7   1.7  2.5  0.5  0.2  0.5  1.2          1.0  \n",
       "397  0.5  50.0   0.5   1.5  1.9  0.3  0.2  0.3  0.4          0.0  \n",
       "507  1.5  55.1   1.5   3.7  5.2  0.6  0.8  1.3  1.1          0.0  \n",
       "509  1.7  58.3   1.5   3.2  4.7  1.0  0.3  1.3  0.9          1.0  \n",
       "510  1.0  70.8   1.5   2.1  3.6  0.7  0.6  0.3  0.8          1.0  \n",
       "521  1.2  45.9   1.0   1.5  2.5  0.6  0.3  0.7  0.7          0.0  \n",
       "559  0.7  67.5   1.1   3.8  4.9  0.7  0.6  0.8  1.1          1.0  \n",
       "\n",
       "[11 rows x 21 columns]"
      ]
     },
     "execution_count": 4,
     "metadata": {},
     "output_type": "execute_result"
    }
   ],
   "source": [
    "df.loc[df['3P%'].isna()]"
   ]
  },
  {
   "cell_type": "code",
   "execution_count": 5,
   "id": "cbde9fee",
   "metadata": {},
   "outputs": [],
   "source": [
    "'''\n",
    "The missing values are caracterized by 3PA=0 so we replace them by 0\n",
    "'''\n",
    "\n",
    "df[\"3P%\"]=df['3P%'].fillna(0) "
   ]
  },
  {
   "cell_type": "markdown",
   "id": "79e7239d",
   "metadata": {},
   "source": [
    "## Preparing the data for training"
   ]
  },
  {
   "cell_type": "code",
   "execution_count": 6,
   "id": "cd54581a",
   "metadata": {},
   "outputs": [],
   "source": [
    "# extract names, labels, features names and values\n",
    "names = df['Name'].values.tolist() # players names\n",
    "labels = df['TARGET_5Yrs'].values # labels\n",
    "paramset = df.drop(['TARGET_5Yrs','Name'],axis=1).columns.values\n",
    "df_vals = df.drop(['TARGET_5Yrs','Name'],axis=1).values\n"
   ]
  },
  {
   "cell_type": "code",
   "execution_count": 7,
   "id": "fab361d4",
   "metadata": {},
   "outputs": [],
   "source": [
    "#normalize the data\n",
    "from sklearn.preprocessing import MinMaxScaler\n",
    "scaler = MinMaxScaler()\n",
    "X = scaler.fit_transform(df_vals)"
   ]
  },
  {
   "cell_type": "code",
   "execution_count": 8,
   "id": "e8c3f4bc",
   "metadata": {},
   "outputs": [
    {
     "data": {
      "text/plain": [
       "array([[0.35211268, 0.64285714, 0.24363636, ..., 0.16      , 0.1025641 ,\n",
       "        0.27906977],\n",
       "       [0.33802817, 0.62962963, 0.23636364, ..., 0.44      , 0.12820513,\n",
       "        0.34883721],\n",
       "       [0.88732394, 0.32275132, 0.16363636, ..., 0.2       , 0.07692308,\n",
       "        0.20930233],\n",
       "       ...,\n",
       "       [0.45070423, 0.23809524, 0.17090909, ..., 0.12      , 0.1025641 ,\n",
       "        0.18604651],\n",
       "       [0.57746479, 0.23544974, 0.13818182, ..., 0.16      , 0.02564103,\n",
       "        0.1627907 ],\n",
       "       [0.50704225, 0.22751323, 0.13454545, ..., 0.28      , 0.02564103,\n",
       "        0.18604651]])"
      ]
     },
     "execution_count": 8,
     "metadata": {},
     "output_type": "execute_result"
    }
   ],
   "source": [
    "X"
   ]
  },
  {
   "cell_type": "code",
   "execution_count": 9,
   "id": "14c2e1ff",
   "metadata": {},
   "outputs": [
    {
     "data": {
      "text/plain": [
       "['nba.scaler']"
      ]
     },
     "execution_count": 9,
     "metadata": {},
     "output_type": "execute_result"
    }
   ],
   "source": [
    "import joblib\n",
    "joblib.dump(scaler, 'nba.scaler')"
   ]
  },
  {
   "cell_type": "markdown",
   "id": "d97568db",
   "metadata": {},
   "source": [
    "# Training "
   ]
  },
  {
   "cell_type": "code",
   "execution_count": 10,
   "id": "5b167884",
   "metadata": {},
   "outputs": [],
   "source": [
    "from sklearn.metrics import confusion_matrix\n",
    "from sklearn.metrics import recall_score\n",
    "from sklearn.metrics import precision_score\n",
    "from sklearn.model_selection import KFold\n",
    "import numpy as np\n",
    "import sklearn\n",
    "\n",
    "def score_classifier(dataset,classifier,labels):\n",
    "\n",
    "    \"\"\"\n",
    "    performs 3 random trainings/tests to build a confusion matrix and prints results with precision and recall scores\n",
    "    :param dataset: the dataset to work on\n",
    "    :param classifier: the classifier to use\n",
    "    :param labels: the labels used for training and validation\n",
    "    :return classifier: the classifier trained\n",
    "    \"\"\"\n",
    "\n",
    "\n",
    "    kf = KFold(n_splits=3,random_state=50,shuffle=True)\n",
    "    confusion_mat = np.zeros((2,2))\n",
    "    recall = 0\n",
    "    for training_ids,test_ids in kf.split(dataset):\n",
    "        training_set = dataset[training_ids]\n",
    "        training_labels = labels[training_ids]\n",
    "        test_set = dataset[test_ids]\n",
    "        test_labels = labels[test_ids]\n",
    "        classifier.fit(training_set,training_labels)\n",
    "        predicted_labels = classifier.predict(test_set)\n",
    "        confusion_mat+=confusion_matrix(test_labels,predicted_labels)\n",
    "        recall += recall_score(test_labels, predicted_labels)\n",
    "    recall/=3\n",
    "    print(confusion_mat)\n",
    "    print(\"recall :\", recall)"
   ]
  },
  {
   "cell_type": "markdown",
   "id": "cde498f9",
   "metadata": {},
   "source": [
    "## SVC"
   ]
  },
  {
   "cell_type": "code",
   "execution_count": 11,
   "id": "6dd357bd",
   "metadata": {},
   "outputs": [
    {
     "name": "stdout",
     "output_type": "stream",
     "text": [
      "[[269. 240.]\n",
      " [146. 685.]]\n",
      "recall : 0.8243162205866037\n"
     ]
    }
   ],
   "source": [
    "from sklearn.svm import SVC\n",
    "\n",
    "#first test\n",
    "score_classifier(X,SVC(),labels)"
   ]
  },
  {
   "cell_type": "markdown",
   "id": "9069ed2c",
   "metadata": {},
   "source": [
    "Recall of 82.4%.\n",
    "We tune the parameters to improve the recall"
   ]
  },
  {
   "cell_type": "code",
   "execution_count": 12,
   "id": "fe9933f1",
   "metadata": {},
   "outputs": [],
   "source": [
    "from sklearn.model_selection import RandomizedSearchCV"
   ]
  },
  {
   "cell_type": "code",
   "execution_count": null,
   "id": "765092b2",
   "metadata": {},
   "outputs": [],
   "source": []
  },
  {
   "cell_type": "code",
   "execution_count": 13,
   "id": "989a685f",
   "metadata": {},
   "outputs": [],
   "source": [
    "from sklearn.model_selection import GridSearchCV\n",
    "\n",
    "#parameters to test\n",
    "tuned_parameters = [\n",
    "    {\"kernel\": [\"rbf\"], \"gamma\": [1e-3, 1e-4], \"C\": [1, 10, 100, 1000]},\n",
    "    {\"kernel\": [\"linear\"], \"C\": [1, 10, 100, 1000]},\n",
    "]"
   ]
  },
  {
   "cell_type": "code",
   "execution_count": 14,
   "id": "b0bc4672",
   "metadata": {},
   "outputs": [
    {
     "data": {
      "text/plain": [
       "GridSearchCV(cv=<generator object _BaseKFold.split at 0x000001F6590F3EB0>,\n",
       "             estimator=SVC(),\n",
       "             param_grid=[{'C': [1, 10, 100, 1000], 'gamma': [0.001, 0.0001],\n",
       "                          'kernel': ['rbf']},\n",
       "                         {'C': [1, 10, 100, 1000], 'kernel': ['linear']}])"
      ]
     },
     "execution_count": 14,
     "metadata": {},
     "output_type": "execute_result"
    }
   ],
   "source": [
    "#gridsearch with cross validation\n",
    "svc = SVC()\n",
    "kf = KFold(n_splits=3,random_state=50,shuffle=True)\n",
    "clf = GridSearchCV(svc, tuned_parameters, cv=kf.split(X))\n",
    "clf.fit(X, labels)"
   ]
  },
  {
   "cell_type": "code",
   "execution_count": null,
   "id": "98d532e6",
   "metadata": {},
   "outputs": [],
   "source": []
  },
  {
   "cell_type": "code",
   "execution_count": 15,
   "id": "32c0c451",
   "metadata": {},
   "outputs": [],
   "source": [
    "nb_best_params = np.argmin(clf.cv_results_['rank_test_score'])"
   ]
  },
  {
   "cell_type": "code",
   "execution_count": 16,
   "id": "e756c841",
   "metadata": {},
   "outputs": [
    {
     "name": "stdout",
     "output_type": "stream",
     "text": [
      "best params:  {'C': 100, 'kernel': 'linear'}\n"
     ]
    }
   ],
   "source": [
    "print(\"best params: \", clf.cv_results_[\"params\"][nb_best_params])"
   ]
  },
  {
   "cell_type": "markdown",
   "id": "b278b1a1",
   "metadata": {},
   "source": [
    "The best parameters among the tested parameters are printed above"
   ]
  },
  {
   "cell_type": "markdown",
   "id": "17634ef6",
   "metadata": {},
   "source": [
    "We perform another gridsearch to improve the parameters"
   ]
  },
  {
   "cell_type": "code",
   "execution_count": 17,
   "id": "c77b8371",
   "metadata": {},
   "outputs": [],
   "source": [
    "#parameters_to_test\n",
    "tuned_parameters = [{\"kernel\": [\"linear\"], \"C\": [50, 100, 150, 200, 500]}]"
   ]
  },
  {
   "cell_type": "code",
   "execution_count": 18,
   "id": "1d8b6cf2",
   "metadata": {},
   "outputs": [
    {
     "data": {
      "text/plain": [
       "GridSearchCV(cv=<generator object _BaseKFold.split at 0x000001F65912A9E0>,\n",
       "             estimator=SVC(),\n",
       "             param_grid=[{'C': [50, 100, 150, 200, 500], 'kernel': ['linear']}])"
      ]
     },
     "execution_count": 18,
     "metadata": {},
     "output_type": "execute_result"
    }
   ],
   "source": [
    "#second gridsearch\n",
    "clf = GridSearchCV(svc, tuned_parameters, cv=kf.split(X))\n",
    "clf.fit(X, labels)"
   ]
  },
  {
   "cell_type": "code",
   "execution_count": 19,
   "id": "75c59325",
   "metadata": {},
   "outputs": [],
   "source": [
    "nb_best_params = np.argmin(clf.cv_results_['rank_test_score'])"
   ]
  },
  {
   "cell_type": "code",
   "execution_count": 20,
   "id": "f9188492",
   "metadata": {},
   "outputs": [
    {
     "name": "stdout",
     "output_type": "stream",
     "text": [
      "best params:  {'C': 150, 'kernel': 'linear'}\n"
     ]
    }
   ],
   "source": [
    "print(\"best params: \", clf.cv_results_[\"params\"][nb_best_params])"
   ]
  },
  {
   "cell_type": "markdown",
   "id": "20477320",
   "metadata": {},
   "source": [
    "Last gridsearch"
   ]
  },
  {
   "cell_type": "code",
   "execution_count": 21,
   "id": "015ee258",
   "metadata": {},
   "outputs": [],
   "source": [
    "#parameters to test\n",
    "tuned_parameters = [{\"kernel\": [\"linear\"], \"C\": [150 - 5*i for i in range(5)] + [150 + 5*i for i in range(5)]}]"
   ]
  },
  {
   "cell_type": "code",
   "execution_count": 22,
   "id": "0a5fcc00",
   "metadata": {},
   "outputs": [
    {
     "data": {
      "text/plain": [
       "GridSearchCV(cv=<generator object _BaseKFold.split at 0x000001F65914E040>,\n",
       "             estimator=SVC(),\n",
       "             param_grid=[{'C': [150, 145, 140, 135, 130, 150, 155, 160, 165,\n",
       "                                170],\n",
       "                          'kernel': ['linear']}])"
      ]
     },
     "execution_count": 22,
     "metadata": {},
     "output_type": "execute_result"
    }
   ],
   "source": [
    "#third gridsearch\n",
    "clf = GridSearchCV(svc, tuned_parameters, cv=kf.split(X))\n",
    "clf.fit(X, labels)"
   ]
  },
  {
   "cell_type": "code",
   "execution_count": 23,
   "id": "2b3ab0a5",
   "metadata": {},
   "outputs": [],
   "source": [
    "nb_best_params = np.argmin(clf.cv_results_['rank_test_score'])"
   ]
  },
  {
   "cell_type": "code",
   "execution_count": 24,
   "id": "33533609",
   "metadata": {},
   "outputs": [
    {
     "name": "stdout",
     "output_type": "stream",
     "text": [
      "best params:  {'C': 150, 'kernel': 'linear'}\n"
     ]
    }
   ],
   "source": [
    "print(\"best params: \", clf.cv_results_[\"params\"][nb_best_params])"
   ]
  },
  {
   "cell_type": "code",
   "execution_count": null,
   "id": "bcaf9c34",
   "metadata": {},
   "outputs": [],
   "source": []
  },
  {
   "cell_type": "code",
   "execution_count": 25,
   "id": "7e879cf8",
   "metadata": {},
   "outputs": [],
   "source": [
    "#best estimator\n",
    "clf_be = clf.best_estimator_"
   ]
  },
  {
   "cell_type": "code",
   "execution_count": 26,
   "id": "1a342291",
   "metadata": {},
   "outputs": [
    {
     "name": "stdout",
     "output_type": "stream",
     "text": [
      "[[266. 243.]\n",
      " [143. 688.]]\n",
      "recall : 0.8278417679640665\n"
     ]
    }
   ],
   "source": [
    "#score of the best estimator\n",
    "score_classifier(X,clf_be,labels)"
   ]
  },
  {
   "cell_type": "markdown",
   "id": "19c1694e",
   "metadata": {},
   "source": [
    "With SVC, we manage to get a recall of 82.8%, which is an improvement of almost 0.4%"
   ]
  },
  {
   "cell_type": "markdown",
   "id": "1382eca6",
   "metadata": {},
   "source": [
    "We try an other approch to perform this classification : random forest classifier"
   ]
  },
  {
   "cell_type": "markdown",
   "id": "664c2e30",
   "metadata": {},
   "source": [
    "## Random Forest Classifier"
   ]
  },
  {
   "cell_type": "code",
   "execution_count": 27,
   "id": "46f77adc",
   "metadata": {},
   "outputs": [],
   "source": [
    "from sklearn.ensemble import RandomForestClassifier"
   ]
  },
  {
   "cell_type": "code",
   "execution_count": 28,
   "id": "b64140ed",
   "metadata": {},
   "outputs": [
    {
     "name": "stdout",
     "output_type": "stream",
     "text": [
      "[[281. 228.]\n",
      " [177. 654.]]\n",
      "recall : 0.7865669996139378\n"
     ]
    }
   ],
   "source": [
    "#first test\n",
    "score_classifier(X,RandomForestClassifier(),labels)"
   ]
  },
  {
   "cell_type": "markdown",
   "id": "0ff92769",
   "metadata": {},
   "source": [
    "We perform a gridsearch to improve the score"
   ]
  },
  {
   "cell_type": "code",
   "execution_count": 29,
   "id": "c9b386ca",
   "metadata": {},
   "outputs": [],
   "source": [
    "#parameters to test\n",
    "\n",
    "param_grid = {\n",
    "    'bootstrap': [True],\n",
    "    'max_depth': [5, 10, 50, 100],\n",
    "    'max_features': [2, 3, 5, 10, 'sqrt','auto'],\n",
    "    'min_samples_leaf': [1, 2, 4],\n",
    "    'min_samples_split': [2, 5, 10],\n",
    "    'n_estimators': [10, 50, 100, 200, 500], \n",
    "}\n",
    "\n"
   ]
  },
  {
   "cell_type": "code",
   "execution_count": 30,
   "id": "697c72ea",
   "metadata": {},
   "outputs": [
    {
     "name": "stdout",
     "output_type": "stream",
     "text": [
      "Fitting 3 folds for each of 1080 candidates, totalling 3240 fits\n"
     ]
    },
    {
     "data": {
      "text/plain": [
       "GridSearchCV(cv=<generator object _BaseKFold.split at 0x000001F6593D5B30>,\n",
       "             estimator=RandomForestClassifier(), n_jobs=-1,\n",
       "             param_grid={'bootstrap': [True], 'max_depth': [5, 10, 50, 100],\n",
       "                         'max_features': [2, 3, 5, 10, 'sqrt', 'auto'],\n",
       "                         'min_samples_leaf': [1, 2, 4],\n",
       "                         'min_samples_split': [2, 5, 10],\n",
       "                         'n_estimators': [10, 50, 100, 200, 500]},\n",
       "             verbose=2)"
      ]
     },
     "execution_count": 30,
     "metadata": {},
     "output_type": "execute_result"
    }
   ],
   "source": [
    "#grid search\n",
    "rf = RandomForestClassifier()\n",
    "grid_search = GridSearchCV(estimator = rf, param_grid = param_grid, cv = kf.split(X), n_jobs = -1, verbose = 2)\n",
    "grid_search.fit(X, labels)"
   ]
  },
  {
   "cell_type": "code",
   "execution_count": null,
   "id": "9a94d7f0",
   "metadata": {},
   "outputs": [],
   "source": []
  },
  {
   "cell_type": "code",
   "execution_count": 31,
   "id": "5f4ee057",
   "metadata": {
    "scrolled": true
   },
   "outputs": [
    {
     "data": {
      "text/plain": [
       "{'bootstrap': True,\n",
       " 'max_depth': 50,\n",
       " 'max_features': 'sqrt',\n",
       " 'min_samples_leaf': 4,\n",
       " 'min_samples_split': 5,\n",
       " 'n_estimators': 200}"
      ]
     },
     "execution_count": 31,
     "metadata": {},
     "output_type": "execute_result"
    }
   ],
   "source": [
    "grid_search.best_params_"
   ]
  },
  {
   "cell_type": "code",
   "execution_count": null,
   "id": "cc98fffc",
   "metadata": {},
   "outputs": [],
   "source": []
  },
  {
   "cell_type": "code",
   "execution_count": 32,
   "id": "21547a65",
   "metadata": {},
   "outputs": [],
   "source": [
    "#parameters to test\n",
    "\n",
    "param_grid = {\n",
    "    'max_depth': [2, 3, 5, 7, 8],\n",
    "    'max_features': [7, 10, 15],\n",
    "    'min_samples_leaf': [4, 7, 10, 20],\n",
    "    'min_samples_split': [10, 15, 20],\n",
    "    'n_estimators': [200], \n",
    "}\n",
    "\n"
   ]
  },
  {
   "cell_type": "code",
   "execution_count": 33,
   "id": "c76405c7",
   "metadata": {},
   "outputs": [
    {
     "name": "stdout",
     "output_type": "stream",
     "text": [
      "Fitting 3 folds for each of 180 candidates, totalling 540 fits\n"
     ]
    },
    {
     "data": {
      "text/plain": [
       "GridSearchCV(cv=<generator object _BaseKFold.split at 0x000001F659867970>,\n",
       "             estimator=RandomForestClassifier(), n_jobs=-1,\n",
       "             param_grid={'max_depth': [2, 3, 5, 7, 8],\n",
       "                         'max_features': [7, 10, 15],\n",
       "                         'min_samples_leaf': [4, 7, 10, 20],\n",
       "                         'min_samples_split': [10, 15, 20],\n",
       "                         'n_estimators': [200]},\n",
       "             verbose=2)"
      ]
     },
     "execution_count": 33,
     "metadata": {},
     "output_type": "execute_result"
    }
   ],
   "source": [
    "#grid search\n",
    "rf = RandomForestClassifier()\n",
    "grid_search = GridSearchCV(estimator = rf, param_grid = param_grid, cv = kf.split(X), n_jobs = -1, verbose = 2)\n",
    "grid_search.fit(X, labels)"
   ]
  },
  {
   "cell_type": "code",
   "execution_count": 34,
   "id": "04c941c0",
   "metadata": {},
   "outputs": [
    {
     "data": {
      "text/plain": [
       "{'max_depth': 5,\n",
       " 'max_features': 7,\n",
       " 'min_samples_leaf': 10,\n",
       " 'min_samples_split': 20,\n",
       " 'n_estimators': 200}"
      ]
     },
     "execution_count": 34,
     "metadata": {},
     "output_type": "execute_result"
    }
   ],
   "source": [
    "grid_search.best_params_"
   ]
  },
  {
   "cell_type": "code",
   "execution_count": null,
   "id": "8c2be5d5",
   "metadata": {},
   "outputs": [],
   "source": []
  },
  {
   "cell_type": "code",
   "execution_count": 35,
   "id": "78f7fc12",
   "metadata": {},
   "outputs": [],
   "source": [
    "mdl_be = grid_search.best_estimator_\n"
   ]
  },
  {
   "cell_type": "code",
   "execution_count": 36,
   "id": "609e2744",
   "metadata": {},
   "outputs": [
    {
     "name": "stdout",
     "output_type": "stream",
     "text": [
      "[[275. 234.]\n",
      " [160. 671.]]\n",
      "recall : 0.8071814786031677\n"
     ]
    }
   ],
   "source": [
    "score_classifier(X,mdl_be,labels)"
   ]
  },
  {
   "cell_type": "markdown",
   "id": "0c794531",
   "metadata": {},
   "source": [
    "The gridsearch resulted in an increase of the average recall of about 2%, but this model is not as performant as the csv model"
   ]
  },
  {
   "cell_type": "markdown",
   "id": "79dcb194",
   "metadata": {},
   "source": [
    "We try a last approach to perform the classification : the use of a neural network"
   ]
  },
  {
   "cell_type": "markdown",
   "id": "b00c92c1",
   "metadata": {},
   "source": [
    "## Neural network "
   ]
  },
  {
   "cell_type": "code",
   "execution_count": 37,
   "id": "20b5db76",
   "metadata": {},
   "outputs": [],
   "source": [
    "from tensorflow.keras.models import Sequential\n",
    "from tensorflow.keras.layers import Dense\n",
    "from tensorflow.keras.layers import Dropout\n",
    "from tensorflow.keras import regularizers"
   ]
  },
  {
   "cell_type": "code",
   "execution_count": 38,
   "id": "83a131ca",
   "metadata": {},
   "outputs": [],
   "source": [
    "\"\"\"\n",
    "Initialize a neural network for binary classification\n",
    ":return model: the model \n",
    "\"\"\"\n",
    "\n",
    "def get_model():\n",
    "    model = Sequential()\n",
    "    model.add(Dropout(0.2))\n",
    "    model.add(Dense(12, activation = \"relu\",bias_regularizer=regularizers.l2(1e-4),))\n",
    "    model.add(Dropout(0.2))\n",
    "    model.add(Dense(1, activation = \"sigmoid\"))\n",
    "    return model\n"
   ]
  },
  {
   "cell_type": "code",
   "execution_count": 39,
   "id": "ef9a391c",
   "metadata": {},
   "outputs": [],
   "source": [
    "mod = get_model()"
   ]
  },
  {
   "cell_type": "code",
   "execution_count": 40,
   "id": "99cc3b0d",
   "metadata": {},
   "outputs": [],
   "source": [
    "\"\"\"\n",
    "We define a scoring function that is specific to neural nets for two reasons:\n",
    "- If we fit several times on a model, it does not forget the previous fits\n",
    "- the NN returns probabilities between 0 and 1, not integers \n",
    "The scoring function works as previously : we split the dataset into 3 folds (the same) and we average the recalls obtained\n",
    "\n",
    ":param model_func: function that calls an initialized model\n",
    ":param epoch: number of epochs\n",
    ":return l_hist: list of the history of the three trainings\n",
    "\n",
    "\"\"\"\n",
    "\n",
    "def score_classifier_nn(model_func=get_model,epochs=100):\n",
    "    kf = KFold(n_splits=3,random_state=50,shuffle=True)\n",
    "    recall = 0\n",
    "    l_hist=[]\n",
    "    for training_ids, test_ids in kf.split(X):\n",
    "        mod = model_func()\n",
    "        mod.compile(optimizer = 'adam',loss='binary_crossentropy',metrics =\"Recall\")\n",
    "        hist = mod.fit(X[training_ids], labels[training_ids], epochs=epochs, validation_data = (X[test_ids], labels[test_ids]))\n",
    "        score = mod.evaluate(X[test_ids], labels[test_ids])\n",
    "        recall += score[1]\n",
    "        l_hist.append(hist)\n",
    "    recall/=3\n",
    "    print()\n",
    "    print(\"Average recall : \",recall)\n",
    "    return l_hist\n"
   ]
  },
  {
   "cell_type": "code",
   "execution_count": 41,
   "id": "e0cd8a8d",
   "metadata": {},
   "outputs": [
    {
     "name": "stdout",
     "output_type": "stream",
     "text": [
      "Epoch 1/100\n",
      "28/28 [==============================] - 1s 7ms/step - loss: 0.7292 - recall: 0.2004 - val_loss: 0.6939 - val_recall: 0.4338\n",
      "Epoch 2/100\n",
      "28/28 [==============================] - 0s 2ms/step - loss: 0.6874 - recall: 0.6619 - val_loss: 0.6686 - val_recall: 1.0000\n",
      "Epoch 3/100\n",
      "28/28 [==============================] - 0s 2ms/step - loss: 0.6581 - recall: 0.9463 - val_loss: 0.6537 - val_recall: 1.0000\n",
      "Epoch 4/100\n",
      "28/28 [==============================] - 0s 2ms/step - loss: 0.6444 - recall: 0.9839 - val_loss: 0.6478 - val_recall: 1.0000\n",
      "Epoch 5/100\n",
      "28/28 [==============================] - 0s 2ms/step - loss: 0.6301 - recall: 0.9982 - val_loss: 0.6463 - val_recall: 1.0000\n",
      "Epoch 6/100\n",
      "28/28 [==============================] - 0s 2ms/step - loss: 0.6329 - recall: 0.9964 - val_loss: 0.6450 - val_recall: 1.0000\n",
      "Epoch 7/100\n",
      "28/28 [==============================] - 0s 2ms/step - loss: 0.6282 - recall: 0.9946 - val_loss: 0.6439 - val_recall: 1.0000\n",
      "Epoch 8/100\n",
      "28/28 [==============================] - 0s 2ms/step - loss: 0.6263 - recall: 0.9964 - val_loss: 0.6420 - val_recall: 1.0000\n",
      "Epoch 9/100\n",
      "28/28 [==============================] - 0s 2ms/step - loss: 0.6221 - recall: 1.0000 - val_loss: 0.6412 - val_recall: 1.0000\n",
      "Epoch 10/100\n",
      "28/28 [==============================] - 0s 2ms/step - loss: 0.6187 - recall: 1.0000 - val_loss: 0.6393 - val_recall: 1.0000\n",
      "Epoch 11/100\n",
      "28/28 [==============================] - 0s 2ms/step - loss: 0.6120 - recall: 0.9946 - val_loss: 0.6375 - val_recall: 1.0000\n",
      "Epoch 12/100\n",
      "28/28 [==============================] - 0s 2ms/step - loss: 0.6144 - recall: 0.9964 - val_loss: 0.6366 - val_recall: 1.0000\n",
      "Epoch 13/100\n",
      "28/28 [==============================] - 0s 2ms/step - loss: 0.6122 - recall: 0.9821 - val_loss: 0.6349 - val_recall: 0.9963\n",
      "Epoch 14/100\n",
      "28/28 [==============================] - 0s 2ms/step - loss: 0.6128 - recall: 0.9857 - val_loss: 0.6339 - val_recall: 0.9963\n",
      "Epoch 15/100\n",
      "28/28 [==============================] - 0s 2ms/step - loss: 0.6147 - recall: 0.9750 - val_loss: 0.6324 - val_recall: 0.9926\n",
      "Epoch 16/100\n",
      "28/28 [==============================] - 0s 2ms/step - loss: 0.6069 - recall: 0.9732 - val_loss: 0.6299 - val_recall: 0.9926\n",
      "Epoch 17/100\n",
      "28/28 [==============================] - 0s 2ms/step - loss: 0.6039 - recall: 0.9553 - val_loss: 0.6285 - val_recall: 0.9890\n",
      "Epoch 18/100\n",
      "28/28 [==============================] - 0s 2ms/step - loss: 0.6142 - recall: 0.9499 - val_loss: 0.6275 - val_recall: 0.9890\n",
      "Epoch 19/100\n",
      "28/28 [==============================] - 0s 2ms/step - loss: 0.5964 - recall: 0.9499 - val_loss: 0.6253 - val_recall: 0.9669\n",
      "Epoch 20/100\n",
      "28/28 [==============================] - 0s 2ms/step - loss: 0.6043 - recall: 0.9284 - val_loss: 0.6228 - val_recall: 0.9559\n",
      "Epoch 21/100\n",
      "28/28 [==============================] - 0s 2ms/step - loss: 0.6023 - recall: 0.9141 - val_loss: 0.6216 - val_recall: 0.9485\n",
      "Epoch 22/100\n",
      "28/28 [==============================] - 0s 2ms/step - loss: 0.5986 - recall: 0.8873 - val_loss: 0.6204 - val_recall: 0.9412\n",
      "Epoch 23/100\n",
      "28/28 [==============================] - 0s 2ms/step - loss: 0.5920 - recall: 0.9177 - val_loss: 0.6202 - val_recall: 0.9338\n",
      "Epoch 24/100\n",
      "28/28 [==============================] - 0s 2ms/step - loss: 0.6011 - recall: 0.8766 - val_loss: 0.6198 - val_recall: 0.9154\n",
      "Epoch 25/100\n",
      "28/28 [==============================] - 0s 2ms/step - loss: 0.5919 - recall: 0.8927 - val_loss: 0.6214 - val_recall: 0.9228\n",
      "Epoch 26/100\n",
      "28/28 [==============================] - 0s 2ms/step - loss: 0.5882 - recall: 0.8927 - val_loss: 0.6198 - val_recall: 0.9118\n",
      "Epoch 27/100\n",
      "28/28 [==============================] - 0s 2ms/step - loss: 0.6069 - recall: 0.8676 - val_loss: 0.6200 - val_recall: 0.9118\n",
      "Epoch 28/100\n",
      "28/28 [==============================] - 0s 2ms/step - loss: 0.5986 - recall: 0.8730 - val_loss: 0.6196 - val_recall: 0.9081\n",
      "Epoch 29/100\n",
      "28/28 [==============================] - 0s 2ms/step - loss: 0.5956 - recall: 0.8658 - val_loss: 0.6187 - val_recall: 0.9044\n",
      "Epoch 30/100\n",
      "28/28 [==============================] - 0s 2ms/step - loss: 0.5961 - recall: 0.8569 - val_loss: 0.6189 - val_recall: 0.9007\n",
      "Epoch 31/100\n",
      "28/28 [==============================] - 0s 2ms/step - loss: 0.5996 - recall: 0.8408 - val_loss: 0.6188 - val_recall: 0.8897\n",
      "Epoch 32/100\n",
      "28/28 [==============================] - 0s 2ms/step - loss: 0.5918 - recall: 0.8569 - val_loss: 0.6206 - val_recall: 0.9007\n",
      "Epoch 33/100\n",
      "28/28 [==============================] - 0s 2ms/step - loss: 0.5970 - recall: 0.8587 - val_loss: 0.6198 - val_recall: 0.8934\n",
      "Epoch 34/100\n",
      "28/28 [==============================] - 0s 2ms/step - loss: 0.5957 - recall: 0.8640 - val_loss: 0.6225 - val_recall: 0.9007\n",
      "Epoch 35/100\n",
      "28/28 [==============================] - 0s 2ms/step - loss: 0.6071 - recall: 0.8497 - val_loss: 0.6194 - val_recall: 0.8787\n",
      "Epoch 36/100\n",
      "28/28 [==============================] - 0s 2ms/step - loss: 0.5947 - recall: 0.8497 - val_loss: 0.6181 - val_recall: 0.8750\n",
      "Epoch 37/100\n",
      "28/28 [==============================] - 0s 2ms/step - loss: 0.6046 - recall: 0.8247 - val_loss: 0.6201 - val_recall: 0.8787\n",
      "Epoch 38/100\n",
      "28/28 [==============================] - 0s 2ms/step - loss: 0.5970 - recall: 0.8408 - val_loss: 0.6191 - val_recall: 0.8750\n",
      "Epoch 39/100\n",
      "28/28 [==============================] - 0s 2ms/step - loss: 0.5987 - recall: 0.8605 - val_loss: 0.6197 - val_recall: 0.8787\n",
      "Epoch 40/100\n",
      "28/28 [==============================] - 0s 2ms/step - loss: 0.5974 - recall: 0.8497 - val_loss: 0.6191 - val_recall: 0.8750\n",
      "Epoch 41/100\n",
      "28/28 [==============================] - 0s 2ms/step - loss: 0.5908 - recall: 0.8336 - val_loss: 0.6184 - val_recall: 0.8529\n",
      "Epoch 42/100\n",
      "28/28 [==============================] - 0s 2ms/step - loss: 0.5954 - recall: 0.8336 - val_loss: 0.6192 - val_recall: 0.8676\n",
      "Epoch 43/100\n",
      "28/28 [==============================] - 0s 2ms/step - loss: 0.5962 - recall: 0.8444 - val_loss: 0.6212 - val_recall: 0.8860\n",
      "Epoch 44/100\n",
      "28/28 [==============================] - 0s 2ms/step - loss: 0.5863 - recall: 0.8658 - val_loss: 0.6199 - val_recall: 0.8676\n",
      "Epoch 45/100\n",
      "28/28 [==============================] - 0s 2ms/step - loss: 0.5891 - recall: 0.8462 - val_loss: 0.6186 - val_recall: 0.8566\n",
      "Epoch 46/100\n",
      "28/28 [==============================] - 0s 2ms/step - loss: 0.5852 - recall: 0.8408 - val_loss: 0.6202 - val_recall: 0.8676\n",
      "Epoch 47/100\n",
      "28/28 [==============================] - 0s 2ms/step - loss: 0.5869 - recall: 0.8730 - val_loss: 0.6190 - val_recall: 0.8456\n",
      "Epoch 48/100\n",
      "28/28 [==============================] - 0s 2ms/step - loss: 0.5879 - recall: 0.8283 - val_loss: 0.6177 - val_recall: 0.8382\n",
      "Epoch 49/100\n",
      "28/28 [==============================] - 0s 2ms/step - loss: 0.5791 - recall: 0.8479 - val_loss: 0.6203 - val_recall: 0.8640\n",
      "Epoch 50/100\n",
      "28/28 [==============================] - 0s 2ms/step - loss: 0.5898 - recall: 0.8408 - val_loss: 0.6176 - val_recall: 0.8456\n",
      "Epoch 51/100\n",
      "28/28 [==============================] - 0s 2ms/step - loss: 0.5934 - recall: 0.8301 - val_loss: 0.6196 - val_recall: 0.8603\n",
      "Epoch 52/100\n",
      "28/28 [==============================] - 0s 2ms/step - loss: 0.5972 - recall: 0.8175 - val_loss: 0.6176 - val_recall: 0.8493\n",
      "Epoch 53/100\n",
      "28/28 [==============================] - 0s 2ms/step - loss: 0.5847 - recall: 0.8140 - val_loss: 0.6184 - val_recall: 0.8493\n",
      "Epoch 54/100\n",
      "28/28 [==============================] - 0s 2ms/step - loss: 0.5871 - recall: 0.8408 - val_loss: 0.6177 - val_recall: 0.8382\n",
      "Epoch 55/100\n",
      "28/28 [==============================] - 0s 2ms/step - loss: 0.5853 - recall: 0.8479 - val_loss: 0.6185 - val_recall: 0.8529\n",
      "Epoch 56/100\n",
      "28/28 [==============================] - 0s 2ms/step - loss: 0.5770 - recall: 0.8354 - val_loss: 0.6176 - val_recall: 0.8346\n",
      "Epoch 57/100\n",
      "28/28 [==============================] - 0s 2ms/step - loss: 0.5954 - recall: 0.8247 - val_loss: 0.6180 - val_recall: 0.8382\n",
      "Epoch 58/100\n",
      "28/28 [==============================] - 0s 2ms/step - loss: 0.5853 - recall: 0.8104 - val_loss: 0.6183 - val_recall: 0.8382\n",
      "Epoch 59/100\n",
      "28/28 [==============================] - 0s 2ms/step - loss: 0.5845 - recall: 0.8336 - val_loss: 0.6178 - val_recall: 0.8346\n",
      "Epoch 60/100\n"
     ]
    },
    {
     "name": "stdout",
     "output_type": "stream",
     "text": [
      "28/28 [==============================] - 0s 2ms/step - loss: 0.5833 - recall: 0.8247 - val_loss: 0.6180 - val_recall: 0.8309\n",
      "Epoch 61/100\n",
      "28/28 [==============================] - 0s 2ms/step - loss: 0.5828 - recall: 0.8068 - val_loss: 0.6184 - val_recall: 0.8346\n",
      "Epoch 62/100\n",
      "28/28 [==============================] - 0s 2ms/step - loss: 0.5806 - recall: 0.8265 - val_loss: 0.6195 - val_recall: 0.8382\n",
      "Epoch 63/100\n",
      "28/28 [==============================] - 0s 2ms/step - loss: 0.5698 - recall: 0.8265 - val_loss: 0.6187 - val_recall: 0.8309\n",
      "Epoch 64/100\n",
      "28/28 [==============================] - 0s 2ms/step - loss: 0.5831 - recall: 0.8372 - val_loss: 0.6189 - val_recall: 0.8309\n",
      "Epoch 65/100\n",
      "28/28 [==============================] - 0s 2ms/step - loss: 0.5801 - recall: 0.8104 - val_loss: 0.6177 - val_recall: 0.8235\n",
      "Epoch 66/100\n",
      "28/28 [==============================] - 0s 2ms/step - loss: 0.5910 - recall: 0.8193 - val_loss: 0.6183 - val_recall: 0.8272\n",
      "Epoch 67/100\n",
      "28/28 [==============================] - 0s 2ms/step - loss: 0.5837 - recall: 0.8301 - val_loss: 0.6200 - val_recall: 0.8456\n",
      "Epoch 68/100\n",
      "28/28 [==============================] - 0s 2ms/step - loss: 0.5826 - recall: 0.8157 - val_loss: 0.6196 - val_recall: 0.8382\n",
      "Epoch 69/100\n",
      "28/28 [==============================] - 0s 2ms/step - loss: 0.5858 - recall: 0.8175 - val_loss: 0.6176 - val_recall: 0.8309\n",
      "Epoch 70/100\n",
      "28/28 [==============================] - 0s 2ms/step - loss: 0.5847 - recall: 0.8247 - val_loss: 0.6173 - val_recall: 0.8199\n",
      "Epoch 71/100\n",
      "28/28 [==============================] - 0s 2ms/step - loss: 0.5813 - recall: 0.8122 - val_loss: 0.6170 - val_recall: 0.8162\n",
      "Epoch 72/100\n",
      "28/28 [==============================] - 0s 2ms/step - loss: 0.5883 - recall: 0.8140 - val_loss: 0.6166 - val_recall: 0.8235\n",
      "Epoch 73/100\n",
      "28/28 [==============================] - 0s 2ms/step - loss: 0.5784 - recall: 0.8283 - val_loss: 0.6171 - val_recall: 0.8346\n",
      "Epoch 74/100\n",
      "28/28 [==============================] - 0s 2ms/step - loss: 0.5907 - recall: 0.8265 - val_loss: 0.6172 - val_recall: 0.8382\n",
      "Epoch 75/100\n",
      "28/28 [==============================] - 0s 2ms/step - loss: 0.5733 - recall: 0.8211 - val_loss: 0.6165 - val_recall: 0.8346\n",
      "Epoch 76/100\n",
      "28/28 [==============================] - 0s 2ms/step - loss: 0.5850 - recall: 0.8229 - val_loss: 0.6163 - val_recall: 0.8309\n",
      "Epoch 77/100\n",
      "28/28 [==============================] - 0s 2ms/step - loss: 0.5711 - recall: 0.8086 - val_loss: 0.6157 - val_recall: 0.8088\n",
      "Epoch 78/100\n",
      "28/28 [==============================] - 0s 2ms/step - loss: 0.5742 - recall: 0.8301 - val_loss: 0.6186 - val_recall: 0.8272\n",
      "Epoch 79/100\n",
      "28/28 [==============================] - 0s 2ms/step - loss: 0.5772 - recall: 0.8211 - val_loss: 0.6166 - val_recall: 0.8088\n",
      "Epoch 80/100\n",
      "28/28 [==============================] - 0s 2ms/step - loss: 0.5831 - recall: 0.8122 - val_loss: 0.6164 - val_recall: 0.8162\n",
      "Epoch 81/100\n",
      "28/28 [==============================] - 0s 2ms/step - loss: 0.5737 - recall: 0.8086 - val_loss: 0.6172 - val_recall: 0.8272\n",
      "Epoch 82/100\n",
      "28/28 [==============================] - 0s 2ms/step - loss: 0.5836 - recall: 0.8444 - val_loss: 0.6178 - val_recall: 0.8309\n",
      "Epoch 83/100\n",
      "28/28 [==============================] - 0s 2ms/step - loss: 0.5819 - recall: 0.8211 - val_loss: 0.6173 - val_recall: 0.8199\n",
      "Epoch 84/100\n",
      "28/28 [==============================] - 0s 2ms/step - loss: 0.5871 - recall: 0.8265 - val_loss: 0.6173 - val_recall: 0.8235\n",
      "Epoch 85/100\n",
      "28/28 [==============================] - 0s 2ms/step - loss: 0.5896 - recall: 0.8265 - val_loss: 0.6150 - val_recall: 0.8088\n",
      "Epoch 86/100\n",
      "28/28 [==============================] - 0s 2ms/step - loss: 0.5806 - recall: 0.8104 - val_loss: 0.6162 - val_recall: 0.8235\n",
      "Epoch 87/100\n",
      "28/28 [==============================] - 0s 2ms/step - loss: 0.5853 - recall: 0.8336 - val_loss: 0.6173 - val_recall: 0.8309\n",
      "Epoch 88/100\n",
      "28/28 [==============================] - 0s 2ms/step - loss: 0.5889 - recall: 0.8247 - val_loss: 0.6158 - val_recall: 0.8088\n",
      "Epoch 89/100\n",
      "28/28 [==============================] - 0s 2ms/step - loss: 0.5718 - recall: 0.8193 - val_loss: 0.6156 - val_recall: 0.8088\n",
      "Epoch 90/100\n",
      "28/28 [==============================] - 0s 2ms/step - loss: 0.5902 - recall: 0.8318 - val_loss: 0.6175 - val_recall: 0.8309\n",
      "Epoch 91/100\n",
      "28/28 [==============================] - 0s 2ms/step - loss: 0.5773 - recall: 0.8140 - val_loss: 0.6155 - val_recall: 0.8162\n",
      "Epoch 92/100\n",
      "28/28 [==============================] - 0s 2ms/step - loss: 0.5682 - recall: 0.8140 - val_loss: 0.6150 - val_recall: 0.8051\n",
      "Epoch 93/100\n",
      "28/28 [==============================] - 0s 2ms/step - loss: 0.5837 - recall: 0.7943 - val_loss: 0.6161 - val_recall: 0.8199\n",
      "Epoch 94/100\n",
      "28/28 [==============================] - 0s 2ms/step - loss: 0.5826 - recall: 0.8193 - val_loss: 0.6170 - val_recall: 0.8272\n",
      "Epoch 95/100\n",
      "28/28 [==============================] - 0s 2ms/step - loss: 0.5877 - recall: 0.8175 - val_loss: 0.6157 - val_recall: 0.8125\n",
      "Epoch 96/100\n",
      "28/28 [==============================] - 0s 2ms/step - loss: 0.5906 - recall: 0.7943 - val_loss: 0.6150 - val_recall: 0.8125\n",
      "Epoch 97/100\n",
      "28/28 [==============================] - 0s 2ms/step - loss: 0.5801 - recall: 0.8265 - val_loss: 0.6145 - val_recall: 0.8125\n",
      "Epoch 98/100\n",
      "28/28 [==============================] - 0s 2ms/step - loss: 0.5714 - recall: 0.8390 - val_loss: 0.6148 - val_recall: 0.8125\n",
      "Epoch 99/100\n",
      "28/28 [==============================] - 0s 2ms/step - loss: 0.5695 - recall: 0.8104 - val_loss: 0.6148 - val_recall: 0.8015\n",
      "Epoch 100/100\n",
      "28/28 [==============================] - 0s 2ms/step - loss: 0.5883 - recall: 0.7979 - val_loss: 0.6159 - val_recall: 0.8051\n",
      "14/14 [==============================] - 0s 769us/step - loss: 0.6159 - recall: 0.8051\n",
      "Epoch 1/100\n",
      "28/28 [==============================] - 1s 7ms/step - loss: 0.8063 - recall: 0.0776 - val_loss: 0.7374 - val_recall: 0.0000e+00\n",
      "Epoch 2/100\n",
      "28/28 [==============================] - 0s 1ms/step - loss: 0.7126 - recall: 0.3502 - val_loss: 0.6733 - val_recall: 0.8051\n",
      "Epoch 3/100\n",
      "28/28 [==============================] - 0s 1ms/step - loss: 0.6731 - recall: 0.7310 - val_loss: 0.6417 - val_recall: 0.9928\n",
      "Epoch 4/100\n",
      "28/28 [==============================] - 0s 1ms/step - loss: 0.6489 - recall: 0.9152 - val_loss: 0.6303 - val_recall: 0.9964\n",
      "Epoch 5/100\n",
      "28/28 [==============================] - 0s 1ms/step - loss: 0.6376 - recall: 0.9458 - val_loss: 0.6256 - val_recall: 0.9964\n",
      "Epoch 6/100\n",
      "28/28 [==============================] - 0s 1ms/step - loss: 0.6288 - recall: 0.9603 - val_loss: 0.6226 - val_recall: 0.9964\n",
      "Epoch 7/100\n",
      "28/28 [==============================] - 0s 1ms/step - loss: 0.6339 - recall: 0.9531 - val_loss: 0.6205 - val_recall: 0.9928\n",
      "Epoch 8/100\n",
      "28/28 [==============================] - 0s 1ms/step - loss: 0.6352 - recall: 0.9639 - val_loss: 0.6174 - val_recall: 0.9928\n",
      "Epoch 9/100\n",
      "28/28 [==============================] - 0s 1ms/step - loss: 0.6267 - recall: 0.9513 - val_loss: 0.6137 - val_recall: 0.9892\n",
      "Epoch 10/100\n",
      "28/28 [==============================] - 0s 1ms/step - loss: 0.6321 - recall: 0.9368 - val_loss: 0.6112 - val_recall: 0.9856\n",
      "Epoch 11/100\n",
      "28/28 [==============================] - 0s 1ms/step - loss: 0.6262 - recall: 0.9314 - val_loss: 0.6091 - val_recall: 0.9747\n",
      "Epoch 12/100\n",
      "28/28 [==============================] - 0s 1ms/step - loss: 0.6137 - recall: 0.9404 - val_loss: 0.6067 - val_recall: 0.9747\n",
      "Epoch 13/100\n",
      "28/28 [==============================] - 0s 2ms/step - loss: 0.6240 - recall: 0.8971 - val_loss: 0.6046 - val_recall: 0.9711\n",
      "Epoch 14/100\n",
      "28/28 [==============================] - 0s 1ms/step - loss: 0.6186 - recall: 0.9134 - val_loss: 0.6038 - val_recall: 0.9747\n",
      "Epoch 15/100\n",
      "28/28 [==============================] - 0s 1ms/step - loss: 0.6173 - recall: 0.9025 - val_loss: 0.6012 - val_recall: 0.9711\n",
      "Epoch 16/100\n",
      "28/28 [==============================] - 0s 1ms/step - loss: 0.6146 - recall: 0.9061 - val_loss: 0.6001 - val_recall: 0.9711\n",
      "Epoch 17/100\n",
      "28/28 [==============================] - 0s 1ms/step - loss: 0.6182 - recall: 0.9043 - val_loss: 0.5987 - val_recall: 0.9639\n",
      "Epoch 18/100\n",
      "28/28 [==============================] - 0s 1ms/step - loss: 0.6159 - recall: 0.8989 - val_loss: 0.5976 - val_recall: 0.9458\n"
     ]
    },
    {
     "name": "stdout",
     "output_type": "stream",
     "text": [
      "Epoch 19/100\n",
      "28/28 [==============================] - 0s 1ms/step - loss: 0.6167 - recall: 0.8953 - val_loss: 0.5973 - val_recall: 0.9422\n",
      "Epoch 20/100\n",
      "28/28 [==============================] - 0s 1ms/step - loss: 0.6089 - recall: 0.9007 - val_loss: 0.5969 - val_recall: 0.9386\n",
      "Epoch 21/100\n",
      "28/28 [==============================] - 0s 1ms/step - loss: 0.6133 - recall: 0.8646 - val_loss: 0.5959 - val_recall: 0.9242\n",
      "Epoch 22/100\n",
      "28/28 [==============================] - 0s 1ms/step - loss: 0.6070 - recall: 0.8809 - val_loss: 0.5953 - val_recall: 0.9206\n",
      "Epoch 23/100\n",
      "28/28 [==============================] - 0s 1ms/step - loss: 0.6017 - recall: 0.8881 - val_loss: 0.5951 - val_recall: 0.9278\n",
      "Epoch 24/100\n",
      "28/28 [==============================] - 0s 1ms/step - loss: 0.6057 - recall: 0.8682 - val_loss: 0.5947 - val_recall: 0.9206\n",
      "Epoch 25/100\n",
      "28/28 [==============================] - 0s 2ms/step - loss: 0.6038 - recall: 0.8664 - val_loss: 0.5943 - val_recall: 0.9025\n",
      "Epoch 26/100\n",
      "28/28 [==============================] - 0s 2ms/step - loss: 0.6054 - recall: 0.8718 - val_loss: 0.5932 - val_recall: 0.9061\n",
      "Epoch 27/100\n",
      "28/28 [==============================] - 0s 2ms/step - loss: 0.6045 - recall: 0.8646 - val_loss: 0.5924 - val_recall: 0.8953\n",
      "Epoch 28/100\n",
      "28/28 [==============================] - 0s 1ms/step - loss: 0.6126 - recall: 0.8700 - val_loss: 0.5921 - val_recall: 0.8953\n",
      "Epoch 29/100\n",
      "28/28 [==============================] - 0s 1ms/step - loss: 0.6081 - recall: 0.8664 - val_loss: 0.5914 - val_recall: 0.8773\n",
      "Epoch 30/100\n",
      "28/28 [==============================] - 0s 1ms/step - loss: 0.6024 - recall: 0.8646 - val_loss: 0.5917 - val_recall: 0.8917\n",
      "Epoch 31/100\n",
      "28/28 [==============================] - 0s 1ms/step - loss: 0.6085 - recall: 0.8682 - val_loss: 0.5917 - val_recall: 0.8953\n",
      "Epoch 32/100\n",
      "28/28 [==============================] - 0s 1ms/step - loss: 0.6110 - recall: 0.8466 - val_loss: 0.5906 - val_recall: 0.8592\n",
      "Epoch 33/100\n",
      "28/28 [==============================] - 0s 1ms/step - loss: 0.6060 - recall: 0.8628 - val_loss: 0.5906 - val_recall: 0.8592\n",
      "Epoch 34/100\n",
      "28/28 [==============================] - 0s 1ms/step - loss: 0.6055 - recall: 0.8448 - val_loss: 0.5907 - val_recall: 0.8520\n",
      "Epoch 35/100\n",
      "28/28 [==============================] - 0s 1ms/step - loss: 0.6109 - recall: 0.8285 - val_loss: 0.5909 - val_recall: 0.8628\n",
      "Epoch 36/100\n",
      "28/28 [==============================] - 0s 1ms/step - loss: 0.6003 - recall: 0.8809 - val_loss: 0.5904 - val_recall: 0.8628\n",
      "Epoch 37/100\n",
      "28/28 [==============================] - 0s 1ms/step - loss: 0.6025 - recall: 0.8538 - val_loss: 0.5891 - val_recall: 0.8700\n",
      "Epoch 38/100\n",
      "28/28 [==============================] - 0s 1ms/step - loss: 0.6122 - recall: 0.8195 - val_loss: 0.5890 - val_recall: 0.8664\n",
      "Epoch 39/100\n",
      "28/28 [==============================] - 0s 1ms/step - loss: 0.6108 - recall: 0.8646 - val_loss: 0.5894 - val_recall: 0.8700\n",
      "Epoch 40/100\n",
      "28/28 [==============================] - 0s 1ms/step - loss: 0.6037 - recall: 0.8538 - val_loss: 0.5894 - val_recall: 0.8556\n",
      "Epoch 41/100\n",
      "28/28 [==============================] - 0s 1ms/step - loss: 0.6021 - recall: 0.8755 - val_loss: 0.5882 - val_recall: 0.8556\n",
      "Epoch 42/100\n",
      "28/28 [==============================] - 0s 1ms/step - loss: 0.5971 - recall: 0.8574 - val_loss: 0.5876 - val_recall: 0.8556\n",
      "Epoch 43/100\n",
      "28/28 [==============================] - 0s 1ms/step - loss: 0.6004 - recall: 0.8231 - val_loss: 0.5870 - val_recall: 0.8556\n",
      "Epoch 44/100\n",
      "28/28 [==============================] - 0s 1ms/step - loss: 0.5965 - recall: 0.8375 - val_loss: 0.5875 - val_recall: 0.8592\n",
      "Epoch 45/100\n",
      "28/28 [==============================] - 0s 1ms/step - loss: 0.6093 - recall: 0.8538 - val_loss: 0.5870 - val_recall: 0.8556\n",
      "Epoch 46/100\n",
      "28/28 [==============================] - 0s 1ms/step - loss: 0.6082 - recall: 0.8321 - val_loss: 0.5874 - val_recall: 0.8556\n",
      "Epoch 47/100\n",
      "28/28 [==============================] - 0s 1ms/step - loss: 0.6108 - recall: 0.8321 - val_loss: 0.5878 - val_recall: 0.8556\n",
      "Epoch 48/100\n",
      "28/28 [==============================] - 0s 1ms/step - loss: 0.5999 - recall: 0.8502 - val_loss: 0.5883 - val_recall: 0.8520\n",
      "Epoch 49/100\n",
      "28/28 [==============================] - 0s 1ms/step - loss: 0.5973 - recall: 0.8375 - val_loss: 0.5873 - val_recall: 0.8520\n",
      "Epoch 50/100\n",
      "28/28 [==============================] - 0s 1ms/step - loss: 0.6011 - recall: 0.8394 - val_loss: 0.5870 - val_recall: 0.8520\n",
      "Epoch 51/100\n",
      "28/28 [==============================] - 0s 1ms/step - loss: 0.5952 - recall: 0.8466 - val_loss: 0.5873 - val_recall: 0.8628\n",
      "Epoch 52/100\n",
      "28/28 [==============================] - 0s 2ms/step - loss: 0.5937 - recall: 0.8357 - val_loss: 0.5871 - val_recall: 0.8592\n",
      "Epoch 53/100\n",
      "28/28 [==============================] - 0s 2ms/step - loss: 0.6070 - recall: 0.8285 - val_loss: 0.5874 - val_recall: 0.8520\n",
      "Epoch 54/100\n",
      "28/28 [==============================] - 0s 2ms/step - loss: 0.6016 - recall: 0.8484 - val_loss: 0.5880 - val_recall: 0.8592\n",
      "Epoch 55/100\n",
      "28/28 [==============================] - 0s 1ms/step - loss: 0.5997 - recall: 0.8520 - val_loss: 0.5868 - val_recall: 0.8520\n",
      "Epoch 56/100\n",
      "28/28 [==============================] - 0s 1ms/step - loss: 0.5961 - recall: 0.8303 - val_loss: 0.5864 - val_recall: 0.8556\n",
      "Epoch 57/100\n",
      "28/28 [==============================] - 0s 1ms/step - loss: 0.6014 - recall: 0.8357 - val_loss: 0.5866 - val_recall: 0.8484\n",
      "Epoch 58/100\n",
      "28/28 [==============================] - 0s 1ms/step - loss: 0.5985 - recall: 0.8321 - val_loss: 0.5867 - val_recall: 0.8592\n",
      "Epoch 59/100\n",
      "28/28 [==============================] - 0s 1ms/step - loss: 0.6061 - recall: 0.8321 - val_loss: 0.5871 - val_recall: 0.8448\n",
      "Epoch 60/100\n",
      "28/28 [==============================] - 0s 1ms/step - loss: 0.6064 - recall: 0.8357 - val_loss: 0.5881 - val_recall: 0.8592\n",
      "Epoch 61/100\n",
      "28/28 [==============================] - 0s 1ms/step - loss: 0.5979 - recall: 0.8628 - val_loss: 0.5884 - val_recall: 0.8592\n",
      "Epoch 62/100\n",
      "28/28 [==============================] - 0s 1ms/step - loss: 0.5976 - recall: 0.8466 - val_loss: 0.5873 - val_recall: 0.8484\n",
      "Epoch 63/100\n",
      "28/28 [==============================] - 0s 1ms/step - loss: 0.5959 - recall: 0.8267 - val_loss: 0.5871 - val_recall: 0.8339\n",
      "Epoch 64/100\n",
      "28/28 [==============================] - 0s 1ms/step - loss: 0.5921 - recall: 0.8448 - val_loss: 0.5873 - val_recall: 0.8520\n",
      "Epoch 65/100\n",
      "28/28 [==============================] - 0s 1ms/step - loss: 0.6080 - recall: 0.8177 - val_loss: 0.5878 - val_recall: 0.8339\n",
      "Epoch 66/100\n",
      "28/28 [==============================] - 0s 1ms/step - loss: 0.6081 - recall: 0.8177 - val_loss: 0.5882 - val_recall: 0.8484\n",
      "Epoch 67/100\n",
      "28/28 [==============================] - 0s 1ms/step - loss: 0.6029 - recall: 0.8267 - val_loss: 0.5885 - val_recall: 0.8484\n",
      "Epoch 68/100\n",
      "28/28 [==============================] - 0s 1ms/step - loss: 0.6058 - recall: 0.8321 - val_loss: 0.5881 - val_recall: 0.8556\n",
      "Epoch 69/100\n",
      "28/28 [==============================] - 0s 1ms/step - loss: 0.6000 - recall: 0.8466 - val_loss: 0.5882 - val_recall: 0.8484\n",
      "Epoch 70/100\n",
      "28/28 [==============================] - 0s 1ms/step - loss: 0.5955 - recall: 0.8375 - val_loss: 0.5870 - val_recall: 0.8412\n",
      "Epoch 71/100\n",
      "28/28 [==============================] - 0s 1ms/step - loss: 0.5954 - recall: 0.8285 - val_loss: 0.5862 - val_recall: 0.8339\n",
      "Epoch 72/100\n",
      "28/28 [==============================] - 0s 1ms/step - loss: 0.5940 - recall: 0.8357 - val_loss: 0.5867 - val_recall: 0.8375\n",
      "Epoch 73/100\n",
      "28/28 [==============================] - 0s 1ms/step - loss: 0.6015 - recall: 0.8430 - val_loss: 0.5866 - val_recall: 0.8375\n",
      "Epoch 74/100\n",
      "28/28 [==============================] - 0s 1ms/step - loss: 0.6012 - recall: 0.8032 - val_loss: 0.5860 - val_recall: 0.8448\n",
      "Epoch 75/100\n",
      "28/28 [==============================] - 0s 2ms/step - loss: 0.5882 - recall: 0.8357 - val_loss: 0.5863 - val_recall: 0.8484\n",
      "Epoch 76/100\n",
      "28/28 [==============================] - 0s 2ms/step - loss: 0.5994 - recall: 0.8267 - val_loss: 0.5868 - val_recall: 0.8303\n",
      "Epoch 77/100\n",
      "28/28 [==============================] - 0s 2ms/step - loss: 0.5983 - recall: 0.8375 - val_loss: 0.5868 - val_recall: 0.8339\n",
      "Epoch 78/100\n"
     ]
    },
    {
     "name": "stdout",
     "output_type": "stream",
     "text": [
      "28/28 [==============================] - 0s 2ms/step - loss: 0.6054 - recall: 0.8231 - val_loss: 0.5864 - val_recall: 0.8339\n",
      "Epoch 79/100\n",
      "28/28 [==============================] - 0s 2ms/step - loss: 0.6061 - recall: 0.8375 - val_loss: 0.5873 - val_recall: 0.8339\n",
      "Epoch 80/100\n",
      "28/28 [==============================] - 0s 2ms/step - loss: 0.5938 - recall: 0.8177 - val_loss: 0.5866 - val_recall: 0.8159\n",
      "Epoch 81/100\n",
      "28/28 [==============================] - 0s 2ms/step - loss: 0.5911 - recall: 0.8303 - val_loss: 0.5852 - val_recall: 0.8267\n",
      "Epoch 82/100\n",
      "28/28 [==============================] - 0s 2ms/step - loss: 0.6072 - recall: 0.8285 - val_loss: 0.5857 - val_recall: 0.8303\n",
      "Epoch 83/100\n",
      "28/28 [==============================] - 0s 2ms/step - loss: 0.5946 - recall: 0.8267 - val_loss: 0.5852 - val_recall: 0.8267\n",
      "Epoch 84/100\n",
      "28/28 [==============================] - 0s 2ms/step - loss: 0.5955 - recall: 0.8177 - val_loss: 0.5846 - val_recall: 0.8303\n",
      "Epoch 85/100\n",
      "28/28 [==============================] - 0s 2ms/step - loss: 0.5911 - recall: 0.8303 - val_loss: 0.5839 - val_recall: 0.8231\n",
      "Epoch 86/100\n",
      "28/28 [==============================] - 0s 2ms/step - loss: 0.5968 - recall: 0.8375 - val_loss: 0.5838 - val_recall: 0.8267\n",
      "Epoch 87/100\n",
      "28/28 [==============================] - 0s 2ms/step - loss: 0.5919 - recall: 0.8321 - val_loss: 0.5835 - val_recall: 0.8303\n",
      "Epoch 88/100\n",
      "28/28 [==============================] - 0s 2ms/step - loss: 0.5967 - recall: 0.8195 - val_loss: 0.5830 - val_recall: 0.8267\n",
      "Epoch 89/100\n",
      "28/28 [==============================] - 0s 2ms/step - loss: 0.6040 - recall: 0.8195 - val_loss: 0.5829 - val_recall: 0.8267\n",
      "Epoch 90/100\n",
      "28/28 [==============================] - 0s 2ms/step - loss: 0.5982 - recall: 0.8303 - val_loss: 0.5836 - val_recall: 0.8231\n",
      "Epoch 91/100\n",
      "28/28 [==============================] - 0s 2ms/step - loss: 0.5949 - recall: 0.8195 - val_loss: 0.5836 - val_recall: 0.8231\n",
      "Epoch 92/100\n",
      "28/28 [==============================] - 0s 2ms/step - loss: 0.5910 - recall: 0.8321 - val_loss: 0.5825 - val_recall: 0.8267\n",
      "Epoch 93/100\n",
      "28/28 [==============================] - 0s 2ms/step - loss: 0.5963 - recall: 0.8231 - val_loss: 0.5827 - val_recall: 0.8375\n",
      "Epoch 94/100\n",
      "28/28 [==============================] - 0s 2ms/step - loss: 0.5987 - recall: 0.8375 - val_loss: 0.5833 - val_recall: 0.8231\n",
      "Epoch 95/100\n",
      "28/28 [==============================] - 0s 2ms/step - loss: 0.5910 - recall: 0.8069 - val_loss: 0.5842 - val_recall: 0.8195\n",
      "Epoch 96/100\n",
      "28/28 [==============================] - 0s 2ms/step - loss: 0.5806 - recall: 0.8394 - val_loss: 0.5833 - val_recall: 0.8267\n",
      "Epoch 97/100\n",
      "28/28 [==============================] - 0s 2ms/step - loss: 0.5931 - recall: 0.8051 - val_loss: 0.5826 - val_recall: 0.8123\n",
      "Epoch 98/100\n",
      "28/28 [==============================] - 0s 2ms/step - loss: 0.5955 - recall: 0.8014 - val_loss: 0.5821 - val_recall: 0.8087\n",
      "Epoch 99/100\n",
      "28/28 [==============================] - 0s 2ms/step - loss: 0.5915 - recall: 0.8069 - val_loss: 0.5827 - val_recall: 0.8267\n",
      "Epoch 100/100\n",
      "28/28 [==============================] - 0s 2ms/step - loss: 0.6021 - recall: 0.8412 - val_loss: 0.5833 - val_recall: 0.8231\n",
      "14/14 [==============================] - 0s 616us/step - loss: 0.5833 - recall: 0.8231\n",
      "Epoch 1/100\n",
      "28/28 [==============================] - 1s 6ms/step - loss: 0.6680 - recall: 0.5756 - val_loss: 0.6360 - val_recall: 0.8156\n",
      "Epoch 2/100\n",
      "28/28 [==============================] - 0s 2ms/step - loss: 0.6508 - recall: 0.8142 - val_loss: 0.6144 - val_recall: 0.9574\n",
      "Epoch 3/100\n",
      "28/28 [==============================] - 0s 1ms/step - loss: 0.6406 - recall: 0.8834 - val_loss: 0.6077 - val_recall: 0.9716\n",
      "Epoch 4/100\n",
      "28/28 [==============================] - 0s 1ms/step - loss: 0.6296 - recall: 0.9053 - val_loss: 0.6015 - val_recall: 0.9823\n",
      "Epoch 5/100\n",
      "28/28 [==============================] - 0s 1ms/step - loss: 0.6326 - recall: 0.9035 - val_loss: 0.5996 - val_recall: 0.9681\n",
      "Epoch 6/100\n",
      "28/28 [==============================] - 0s 1ms/step - loss: 0.6271 - recall: 0.8852 - val_loss: 0.5982 - val_recall: 0.9681\n",
      "Epoch 7/100\n",
      "28/28 [==============================] - 0s 1ms/step - loss: 0.6402 - recall: 0.8816 - val_loss: 0.5976 - val_recall: 0.9504\n",
      "Epoch 8/100\n",
      "28/28 [==============================] - 0s 1ms/step - loss: 0.6309 - recall: 0.8652 - val_loss: 0.5943 - val_recall: 0.9539\n",
      "Epoch 9/100\n",
      "28/28 [==============================] - 0s 1ms/step - loss: 0.6301 - recall: 0.8725 - val_loss: 0.5922 - val_recall: 0.9539\n",
      "Epoch 10/100\n",
      "28/28 [==============================] - 0s 1ms/step - loss: 0.6376 - recall: 0.8780 - val_loss: 0.5921 - val_recall: 0.9326\n",
      "Epoch 11/100\n",
      "28/28 [==============================] - 0s 1ms/step - loss: 0.6269 - recall: 0.8816 - val_loss: 0.5894 - val_recall: 0.9574\n",
      "Epoch 12/100\n",
      "28/28 [==============================] - 0s 1ms/step - loss: 0.6235 - recall: 0.8871 - val_loss: 0.5914 - val_recall: 0.9291\n",
      "Epoch 13/100\n",
      "28/28 [==============================] - 0s 1ms/step - loss: 0.6291 - recall: 0.8543 - val_loss: 0.5890 - val_recall: 0.9362\n",
      "Epoch 14/100\n",
      "28/28 [==============================] - 0s 2ms/step - loss: 0.6288 - recall: 0.8798 - val_loss: 0.5890 - val_recall: 0.9291\n",
      "Epoch 15/100\n",
      "28/28 [==============================] - 0s 2ms/step - loss: 0.6214 - recall: 0.8834 - val_loss: 0.5872 - val_recall: 0.9291\n",
      "Epoch 16/100\n",
      "28/28 [==============================] - 0s 2ms/step - loss: 0.6255 - recall: 0.8470 - val_loss: 0.5864 - val_recall: 0.9291\n",
      "Epoch 17/100\n",
      "28/28 [==============================] - 0s 1ms/step - loss: 0.6228 - recall: 0.8543 - val_loss: 0.5859 - val_recall: 0.9255\n",
      "Epoch 18/100\n",
      "28/28 [==============================] - 0s 1ms/step - loss: 0.6197 - recall: 0.8743 - val_loss: 0.5850 - val_recall: 0.9291\n",
      "Epoch 19/100\n",
      "28/28 [==============================] - 0s 1ms/step - loss: 0.6136 - recall: 0.8470 - val_loss: 0.5833 - val_recall: 0.9255\n",
      "Epoch 20/100\n",
      "28/28 [==============================] - 0s 1ms/step - loss: 0.6204 - recall: 0.8834 - val_loss: 0.5839 - val_recall: 0.9255\n",
      "Epoch 21/100\n",
      "28/28 [==============================] - 0s 1ms/step - loss: 0.6241 - recall: 0.8452 - val_loss: 0.5851 - val_recall: 0.8972\n",
      "Epoch 22/100\n",
      "28/28 [==============================] - 0s 1ms/step - loss: 0.6186 - recall: 0.8488 - val_loss: 0.5857 - val_recall: 0.8865\n",
      "Epoch 23/100\n",
      "28/28 [==============================] - 0s 1ms/step - loss: 0.6168 - recall: 0.8324 - val_loss: 0.5838 - val_recall: 0.9043\n",
      "Epoch 24/100\n",
      "28/28 [==============================] - 0s 1ms/step - loss: 0.6218 - recall: 0.8761 - val_loss: 0.5820 - val_recall: 0.9184\n",
      "Epoch 25/100\n",
      "28/28 [==============================] - 0s 1ms/step - loss: 0.6159 - recall: 0.8488 - val_loss: 0.5812 - val_recall: 0.9113\n",
      "Epoch 26/100\n",
      "28/28 [==============================] - 0s 1ms/step - loss: 0.6158 - recall: 0.8506 - val_loss: 0.5825 - val_recall: 0.8972\n",
      "Epoch 27/100\n",
      "28/28 [==============================] - 0s 1ms/step - loss: 0.6118 - recall: 0.8470 - val_loss: 0.5789 - val_recall: 0.9149\n",
      "Epoch 28/100\n",
      "28/28 [==============================] - 0s 2ms/step - loss: 0.6081 - recall: 0.8488 - val_loss: 0.5784 - val_recall: 0.9007\n",
      "Epoch 29/100\n",
      "28/28 [==============================] - 0s 1ms/step - loss: 0.6094 - recall: 0.8288 - val_loss: 0.5774 - val_recall: 0.8901\n",
      "Epoch 30/100\n",
      "28/28 [==============================] - 0s 1ms/step - loss: 0.6127 - recall: 0.8634 - val_loss: 0.5752 - val_recall: 0.9043\n",
      "Epoch 31/100\n",
      "28/28 [==============================] - 0s 1ms/step - loss: 0.6145 - recall: 0.8142 - val_loss: 0.5757 - val_recall: 0.8901\n",
      "Epoch 32/100\n",
      "28/28 [==============================] - 0s 1ms/step - loss: 0.6098 - recall: 0.8470 - val_loss: 0.5764 - val_recall: 0.8723\n",
      "Epoch 33/100\n",
      "28/28 [==============================] - 0s 2ms/step - loss: 0.6126 - recall: 0.8288 - val_loss: 0.5762 - val_recall: 0.8723\n",
      "Epoch 34/100\n",
      "28/28 [==============================] - 0s 1ms/step - loss: 0.6199 - recall: 0.8087 - val_loss: 0.5754 - val_recall: 0.8759\n",
      "Epoch 35/100\n",
      "28/28 [==============================] - 0s 1ms/step - loss: 0.6125 - recall: 0.8361 - val_loss: 0.5747 - val_recall: 0.8901\n",
      "Epoch 36/100\n",
      "28/28 [==============================] - 0s 1ms/step - loss: 0.6193 - recall: 0.8324 - val_loss: 0.5753 - val_recall: 0.8901\n"
     ]
    },
    {
     "name": "stdout",
     "output_type": "stream",
     "text": [
      "Epoch 37/100\n",
      "28/28 [==============================] - 0s 1ms/step - loss: 0.6189 - recall: 0.8215 - val_loss: 0.5757 - val_recall: 0.8830\n",
      "Epoch 38/100\n",
      "28/28 [==============================] - 0s 1ms/step - loss: 0.6203 - recall: 0.8142 - val_loss: 0.5757 - val_recall: 0.8794\n",
      "Epoch 39/100\n",
      "28/28 [==============================] - 0s 1ms/step - loss: 0.6126 - recall: 0.8379 - val_loss: 0.5745 - val_recall: 0.8794\n",
      "Epoch 40/100\n",
      "28/28 [==============================] - 0s 1ms/step - loss: 0.6210 - recall: 0.8434 - val_loss: 0.5755 - val_recall: 0.8723\n",
      "Epoch 41/100\n",
      "28/28 [==============================] - 0s 2ms/step - loss: 0.6206 - recall: 0.8142 - val_loss: 0.5796 - val_recall: 0.8546\n",
      "Epoch 42/100\n",
      "28/28 [==============================] - 0s 2ms/step - loss: 0.6113 - recall: 0.8215 - val_loss: 0.5757 - val_recall: 0.8723\n",
      "Epoch 43/100\n",
      "28/28 [==============================] - 0s 1ms/step - loss: 0.6155 - recall: 0.8488 - val_loss: 0.5760 - val_recall: 0.8688\n",
      "Epoch 44/100\n",
      "28/28 [==============================] - 0s 1ms/step - loss: 0.6125 - recall: 0.8233 - val_loss: 0.5745 - val_recall: 0.8723\n",
      "Epoch 45/100\n",
      "28/28 [==============================] - 0s 1ms/step - loss: 0.6042 - recall: 0.8324 - val_loss: 0.5729 - val_recall: 0.8759\n",
      "Epoch 46/100\n",
      "28/28 [==============================] - 0s 1ms/step - loss: 0.6090 - recall: 0.8306 - val_loss: 0.5712 - val_recall: 0.8936\n",
      "Epoch 47/100\n",
      "28/28 [==============================] - 0s 1ms/step - loss: 0.6095 - recall: 0.8452 - val_loss: 0.5709 - val_recall: 0.8759\n",
      "Epoch 48/100\n",
      "28/28 [==============================] - 0s 1ms/step - loss: 0.6133 - recall: 0.8197 - val_loss: 0.5684 - val_recall: 0.8830\n",
      "Epoch 49/100\n",
      "28/28 [==============================] - 0s 1ms/step - loss: 0.6050 - recall: 0.8324 - val_loss: 0.5699 - val_recall: 0.8688\n",
      "Epoch 50/100\n",
      "28/28 [==============================] - 0s 1ms/step - loss: 0.6090 - recall: 0.8087 - val_loss: 0.5689 - val_recall: 0.8723\n",
      "Epoch 51/100\n",
      "28/28 [==============================] - 0s 1ms/step - loss: 0.6102 - recall: 0.7996 - val_loss: 0.5708 - val_recall: 0.8688\n",
      "Epoch 52/100\n",
      "28/28 [==============================] - 0s 1ms/step - loss: 0.5990 - recall: 0.8379 - val_loss: 0.5673 - val_recall: 0.8830\n",
      "Epoch 53/100\n",
      "28/28 [==============================] - 0s 1ms/step - loss: 0.6105 - recall: 0.8452 - val_loss: 0.5673 - val_recall: 0.8830\n",
      "Epoch 54/100\n",
      "28/28 [==============================] - 0s 1ms/step - loss: 0.6078 - recall: 0.8197 - val_loss: 0.5689 - val_recall: 0.8582\n",
      "Epoch 55/100\n",
      "28/28 [==============================] - 0s 1ms/step - loss: 0.6168 - recall: 0.8379 - val_loss: 0.5688 - val_recall: 0.8830\n",
      "Epoch 56/100\n",
      "28/28 [==============================] - 0s 1ms/step - loss: 0.6133 - recall: 0.8288 - val_loss: 0.5711 - val_recall: 0.8652\n",
      "Epoch 57/100\n",
      "28/28 [==============================] - 0s 1ms/step - loss: 0.6093 - recall: 0.8397 - val_loss: 0.5695 - val_recall: 0.8652\n",
      "Epoch 58/100\n",
      "28/28 [==============================] - 0s 1ms/step - loss: 0.6077 - recall: 0.8233 - val_loss: 0.5693 - val_recall: 0.8617\n",
      "Epoch 59/100\n",
      "28/28 [==============================] - 0s 1ms/step - loss: 0.6103 - recall: 0.8361 - val_loss: 0.5684 - val_recall: 0.8582\n",
      "Epoch 60/100\n",
      "28/28 [==============================] - 0s 1ms/step - loss: 0.6142 - recall: 0.8106 - val_loss: 0.5696 - val_recall: 0.8511\n",
      "Epoch 61/100\n",
      "28/28 [==============================] - 0s 1ms/step - loss: 0.6092 - recall: 0.8306 - val_loss: 0.5701 - val_recall: 0.8582\n",
      "Epoch 62/100\n",
      "28/28 [==============================] - 0s 1ms/step - loss: 0.6100 - recall: 0.8051 - val_loss: 0.5702 - val_recall: 0.8617\n",
      "Epoch 63/100\n",
      "28/28 [==============================] - 0s 1ms/step - loss: 0.6100 - recall: 0.8270 - val_loss: 0.5704 - val_recall: 0.8617\n",
      "Epoch 64/100\n",
      "28/28 [==============================] - 0s 1ms/step - loss: 0.5964 - recall: 0.8270 - val_loss: 0.5695 - val_recall: 0.8759\n",
      "Epoch 65/100\n",
      "28/28 [==============================] - 0s 1ms/step - loss: 0.6138 - recall: 0.8087 - val_loss: 0.5706 - val_recall: 0.8546\n",
      "Epoch 66/100\n",
      "28/28 [==============================] - 0s 1ms/step - loss: 0.6124 - recall: 0.8288 - val_loss: 0.5697 - val_recall: 0.8688\n",
      "Epoch 67/100\n",
      "28/28 [==============================] - 0s 2ms/step - loss: 0.6050 - recall: 0.8634 - val_loss: 0.5690 - val_recall: 0.8759\n",
      "Epoch 68/100\n",
      "28/28 [==============================] - 0s 2ms/step - loss: 0.6088 - recall: 0.8179 - val_loss: 0.5697 - val_recall: 0.8511\n",
      "Epoch 69/100\n",
      "28/28 [==============================] - 0s 2ms/step - loss: 0.5970 - recall: 0.8215 - val_loss: 0.5661 - val_recall: 0.8688\n",
      "Epoch 70/100\n",
      "28/28 [==============================] - 0s 1ms/step - loss: 0.6106 - recall: 0.8087 - val_loss: 0.5652 - val_recall: 0.8723\n",
      "Epoch 71/100\n",
      "28/28 [==============================] - 0s 1ms/step - loss: 0.6135 - recall: 0.8543 - val_loss: 0.5657 - val_recall: 0.8723\n",
      "Epoch 72/100\n",
      "28/28 [==============================] - 0s 1ms/step - loss: 0.6029 - recall: 0.8288 - val_loss: 0.5689 - val_recall: 0.8475\n",
      "Epoch 73/100\n",
      "28/28 [==============================] - 0s 1ms/step - loss: 0.6075 - recall: 0.8160 - val_loss: 0.5639 - val_recall: 0.8830\n",
      "Epoch 74/100\n",
      "28/28 [==============================] - 0s 1ms/step - loss: 0.6096 - recall: 0.8179 - val_loss: 0.5643 - val_recall: 0.8617\n",
      "Epoch 75/100\n",
      "28/28 [==============================] - 0s 1ms/step - loss: 0.6037 - recall: 0.8251 - val_loss: 0.5649 - val_recall: 0.8582\n",
      "Epoch 76/100\n",
      "28/28 [==============================] - 0s 1ms/step - loss: 0.6059 - recall: 0.8069 - val_loss: 0.5676 - val_recall: 0.8475\n",
      "Epoch 77/100\n",
      "28/28 [==============================] - 0s 1ms/step - loss: 0.6086 - recall: 0.8233 - val_loss: 0.5672 - val_recall: 0.8582\n",
      "Epoch 78/100\n",
      "28/28 [==============================] - 0s 1ms/step - loss: 0.6125 - recall: 0.8215 - val_loss: 0.5682 - val_recall: 0.8546\n",
      "Epoch 79/100\n",
      "28/28 [==============================] - 0s 1ms/step - loss: 0.6091 - recall: 0.8342 - val_loss: 0.5675 - val_recall: 0.8546\n",
      "Epoch 80/100\n",
      "28/28 [==============================] - 0s 1ms/step - loss: 0.6212 - recall: 0.8106 - val_loss: 0.5686 - val_recall: 0.8617\n",
      "Epoch 81/100\n",
      "28/28 [==============================] - 0s 1ms/step - loss: 0.6189 - recall: 0.8124 - val_loss: 0.5699 - val_recall: 0.8511\n",
      "Epoch 82/100\n",
      "28/28 [==============================] - 0s 1ms/step - loss: 0.6040 - recall: 0.8251 - val_loss: 0.5681 - val_recall: 0.8511\n",
      "Epoch 83/100\n",
      "28/28 [==============================] - 0s 1ms/step - loss: 0.6098 - recall: 0.8142 - val_loss: 0.5669 - val_recall: 0.8723\n",
      "Epoch 84/100\n",
      "28/28 [==============================] - 0s 1ms/step - loss: 0.5931 - recall: 0.8397 - val_loss: 0.5653 - val_recall: 0.8688\n",
      "Epoch 85/100\n",
      "28/28 [==============================] - 0s 1ms/step - loss: 0.6040 - recall: 0.8342 - val_loss: 0.5651 - val_recall: 0.8759\n",
      "Epoch 86/100\n",
      "28/28 [==============================] - 0s 2ms/step - loss: 0.6084 - recall: 0.8233 - val_loss: 0.5683 - val_recall: 0.8440\n",
      "Epoch 87/100\n",
      "28/28 [==============================] - 0s 1ms/step - loss: 0.6052 - recall: 0.8197 - val_loss: 0.5645 - val_recall: 0.8546\n",
      "Epoch 88/100\n",
      "28/28 [==============================] - 0s 1ms/step - loss: 0.6150 - recall: 0.8160 - val_loss: 0.5660 - val_recall: 0.8475\n",
      "Epoch 89/100\n",
      "28/28 [==============================] - 0s 1ms/step - loss: 0.6113 - recall: 0.8197 - val_loss: 0.5662 - val_recall: 0.8546\n",
      "Epoch 90/100\n",
      "28/28 [==============================] - 0s 1ms/step - loss: 0.6104 - recall: 0.8160 - val_loss: 0.5666 - val_recall: 0.8546\n",
      "Epoch 91/100\n",
      "28/28 [==============================] - 0s 1ms/step - loss: 0.6026 - recall: 0.8197 - val_loss: 0.5683 - val_recall: 0.8511\n",
      "Epoch 92/100\n",
      "28/28 [==============================] - 0s 1ms/step - loss: 0.6024 - recall: 0.8233 - val_loss: 0.5666 - val_recall: 0.8652\n",
      "Epoch 93/100\n",
      "28/28 [==============================] - 0s 1ms/step - loss: 0.6064 - recall: 0.8324 - val_loss: 0.5654 - val_recall: 0.8546\n",
      "Epoch 94/100\n",
      "28/28 [==============================] - 0s 2ms/step - loss: 0.6079 - recall: 0.8106 - val_loss: 0.5664 - val_recall: 0.8440\n",
      "Epoch 95/100\n",
      "28/28 [==============================] - 0s 2ms/step - loss: 0.6096 - recall: 0.7996 - val_loss: 0.5678 - val_recall: 0.8333\n",
      "Epoch 96/100\n"
     ]
    },
    {
     "name": "stdout",
     "output_type": "stream",
     "text": [
      "28/28 [==============================] - 0s 2ms/step - loss: 0.6142 - recall: 0.7960 - val_loss: 0.5664 - val_recall: 0.8404\n",
      "Epoch 97/100\n",
      "28/28 [==============================] - 0s 1ms/step - loss: 0.6071 - recall: 0.8233 - val_loss: 0.5661 - val_recall: 0.8475\n",
      "Epoch 98/100\n",
      "28/28 [==============================] - 0s 1ms/step - loss: 0.6093 - recall: 0.8015 - val_loss: 0.5677 - val_recall: 0.8404\n",
      "Epoch 99/100\n",
      "28/28 [==============================] - 0s 1ms/step - loss: 0.6072 - recall: 0.7996 - val_loss: 0.5660 - val_recall: 0.8688\n",
      "Epoch 100/100\n",
      "28/28 [==============================] - 0s 1ms/step - loss: 0.6023 - recall: 0.8215 - val_loss: 0.5674 - val_recall: 0.8475\n",
      "14/14 [==============================] - 0s 539us/step - loss: 0.5674 - recall: 0.8475\n",
      "\n",
      "Average recall :  0.8252564867337545\n"
     ]
    }
   ],
   "source": [
    "#test of the model with 100 epochs\n",
    "l_hist = score_classifier_nn(epochs=100)"
   ]
  },
  {
   "cell_type": "markdown",
   "id": "a7b3493d",
   "metadata": {},
   "source": [
    "Choice of the optimal number of epochs"
   ]
  },
  {
   "cell_type": "code",
   "execution_count": 42,
   "id": "3dc572e7",
   "metadata": {},
   "outputs": [],
   "source": [
    "hist1, hist2, hist3 = l_hist"
   ]
  },
  {
   "cell_type": "code",
   "execution_count": 43,
   "id": "a7bba371",
   "metadata": {},
   "outputs": [
    {
     "data": {
      "text/plain": [
       "dict_keys(['loss', 'recall', 'val_loss', 'val_recall'])"
      ]
     },
     "execution_count": 43,
     "metadata": {},
     "output_type": "execute_result"
    }
   ],
   "source": [
    "hist1.history.keys()"
   ]
  },
  {
   "cell_type": "code",
   "execution_count": 44,
   "id": "65d13ef7",
   "metadata": {},
   "outputs": [
    {
     "data": {
      "image/png": "[encoded data removed]",
      "text/plain": [
       "<Figure size 432x288 with 1 Axes>"
      ]
     },
     "metadata": {
      "needs_background": "light"
     },
     "output_type": "display_data"
    },
    {
     "data": {
      "image/png": "[encoded data removed]",
      "text/plain": [
       "<Figure size 432x288 with 1 Axes>"
      ]
     },
     "metadata": {
      "needs_background": "light"
     },
     "output_type": "display_data"
    },
    {
     "data": {
      "image/png": "[encoded data removed]",
      "text/plain": [
       "<Figure size 432x288 with 1 Axes>"
      ]
     },
     "metadata": {
      "needs_background": "light"
     },
     "output_type": "display_data"
    }
   ],
   "source": [
    "import matplotlib.pyplot as plt\n",
    "\n",
    "for i in range(len(l_hist)):\n",
    "    fig = plt.figure()\n",
    "    ax = fig.add_subplot(111)\n",
    "    plt.plot(hist1.history[\"loss\"], c=\"blue\", label = \"training_loss_\"+str(i))\n",
    "    plt.plot(hist1.history[\"val_loss\"], c=\"green\", label = \"test_loss_\"+str(i))\n",
    "    ax.set_title(\"Evolution of the training and test loss with the number of epoch, for the training n°{}\".format(i+1))\n",
    "    plt.show(fig)\n"
   ]
  },
  {
   "cell_type": "markdown",
   "id": "15bf2198",
   "metadata": {},
   "source": [
    "In every case, the test_loss stops decreasing from the 20th epoch.\n",
    "Thus, we start another training with only 20 epochs in order not to overfit."
   ]
  },
  {
   "cell_type": "code",
   "execution_count": 45,
   "id": "b20dc052",
   "metadata": {},
   "outputs": [
    {
     "name": "stdout",
     "output_type": "stream",
     "text": [
      "Epoch 1/20\n",
      "28/28 [==============================] - 0s 6ms/step - loss: 0.6724 - recall: 0.8444 - val_loss: 0.6665 - val_recall: 1.0000\n",
      "Epoch 2/20\n",
      "28/28 [==============================] - 0s 2ms/step - loss: 0.6461 - recall: 0.9589 - val_loss: 0.6536 - val_recall: 1.0000\n",
      "Epoch 3/20\n",
      "28/28 [==============================] - 0s 2ms/step - loss: 0.6415 - recall: 0.9911 - val_loss: 0.6491 - val_recall: 1.0000\n",
      "Epoch 4/20\n",
      "28/28 [==============================] - 0s 5ms/step - loss: 0.6326 - recall: 0.9946 - val_loss: 0.6434 - val_recall: 1.0000\n",
      "Epoch 5/20\n",
      "28/28 [==============================] - 0s 1ms/step - loss: 0.6376 - recall: 0.9911 - val_loss: 0.6391 - val_recall: 1.0000\n",
      "Epoch 6/20\n",
      "28/28 [==============================] - 0s 1ms/step - loss: 0.6159 - recall: 0.9964 - val_loss: 0.6356 - val_recall: 1.0000\n",
      "Epoch 7/20\n",
      "28/28 [==============================] - 0s 2ms/step - loss: 0.6080 - recall: 0.9946 - val_loss: 0.6335 - val_recall: 1.0000\n",
      "Epoch 8/20\n",
      "28/28 [==============================] - 0s 1ms/step - loss: 0.6098 - recall: 0.9946 - val_loss: 0.6318 - val_recall: 1.0000\n",
      "Epoch 9/20\n",
      "28/28 [==============================] - 0s 2ms/step - loss: 0.6145 - recall: 0.9911 - val_loss: 0.6309 - val_recall: 1.0000\n",
      "Epoch 10/20\n",
      "28/28 [==============================] - 0s 1ms/step - loss: 0.6016 - recall: 0.9911 - val_loss: 0.6287 - val_recall: 1.0000\n",
      "Epoch 11/20\n",
      "28/28 [==============================] - 0s 2ms/step - loss: 0.6026 - recall: 0.9893 - val_loss: 0.6270 - val_recall: 0.9963\n",
      "Epoch 12/20\n",
      "28/28 [==============================] - 0s 2ms/step - loss: 0.6105 - recall: 0.9857 - val_loss: 0.6244 - val_recall: 0.9963\n",
      "Epoch 13/20\n",
      "28/28 [==============================] - 0s 2ms/step - loss: 0.6103 - recall: 0.9678 - val_loss: 0.6224 - val_recall: 0.9853\n",
      "Epoch 14/20\n",
      "28/28 [==============================] - 0s 2ms/step - loss: 0.6005 - recall: 0.9660 - val_loss: 0.6208 - val_recall: 0.9706\n",
      "Epoch 15/20\n",
      "28/28 [==============================] - 0s 2ms/step - loss: 0.6002 - recall: 0.9678 - val_loss: 0.6230 - val_recall: 0.9816\n",
      "Epoch 16/20\n",
      "28/28 [==============================] - 0s 2ms/step - loss: 0.5983 - recall: 0.9678 - val_loss: 0.6201 - val_recall: 0.9596\n",
      "Epoch 17/20\n",
      "28/28 [==============================] - 0s 2ms/step - loss: 0.5950 - recall: 0.9535 - val_loss: 0.6202 - val_recall: 0.9485\n",
      "Epoch 18/20\n",
      "28/28 [==============================] - 0s 2ms/step - loss: 0.5920 - recall: 0.9392 - val_loss: 0.6192 - val_recall: 0.9301\n",
      "Epoch 19/20\n",
      "28/28 [==============================] - 0s 2ms/step - loss: 0.5926 - recall: 0.9284 - val_loss: 0.6186 - val_recall: 0.9228\n",
      "Epoch 20/20\n",
      "28/28 [==============================] - 0s 2ms/step - loss: 0.5912 - recall: 0.9302 - val_loss: 0.6179 - val_recall: 0.9191\n",
      "14/14 [==============================] - 0s 616us/step - loss: 0.6179 - recall: 0.9191\n",
      "Epoch 1/20\n",
      "28/28 [==============================] - 0s 6ms/step - loss: 0.6650 - recall: 0.7888 - val_loss: 0.6362 - val_recall: 0.9964\n",
      "Epoch 2/20\n",
      "28/28 [==============================] - 0s 2ms/step - loss: 0.6488 - recall: 0.9079 - val_loss: 0.6283 - val_recall: 0.9964\n",
      "Epoch 3/20\n",
      "28/28 [==============================] - 0s 1ms/step - loss: 0.6379 - recall: 0.9513 - val_loss: 0.6248 - val_recall: 1.0000\n",
      "Epoch 4/20\n",
      "28/28 [==============================] - 0s 2ms/step - loss: 0.6431 - recall: 0.9458 - val_loss: 0.6221 - val_recall: 0.9964\n",
      "Epoch 5/20\n",
      "28/28 [==============================] - 0s 2ms/step - loss: 0.6418 - recall: 0.9278 - val_loss: 0.6190 - val_recall: 0.9964\n",
      "Epoch 6/20\n",
      "28/28 [==============================] - 0s 2ms/step - loss: 0.6316 - recall: 0.9368 - val_loss: 0.6166 - val_recall: 0.9964\n",
      "Epoch 7/20\n",
      "28/28 [==============================] - 0s 2ms/step - loss: 0.6209 - recall: 0.9603 - val_loss: 0.6145 - val_recall: 1.0000\n",
      "Epoch 8/20\n",
      "28/28 [==============================] - 0s 2ms/step - loss: 0.6258 - recall: 0.9639 - val_loss: 0.6124 - val_recall: 0.9964\n",
      "Epoch 9/20\n",
      "28/28 [==============================] - 0s 2ms/step - loss: 0.6302 - recall: 0.9675 - val_loss: 0.6105 - val_recall: 0.9928\n",
      "Epoch 10/20\n",
      "28/28 [==============================] - 0s 2ms/step - loss: 0.6187 - recall: 0.9440 - val_loss: 0.6082 - val_recall: 0.9892\n",
      "Epoch 11/20\n",
      "28/28 [==============================] - 0s 2ms/step - loss: 0.6225 - recall: 0.9531 - val_loss: 0.6064 - val_recall: 0.9819\n",
      "Epoch 12/20\n",
      "28/28 [==============================] - 0s 2ms/step - loss: 0.6175 - recall: 0.9170 - val_loss: 0.6043 - val_recall: 0.9711\n",
      "Epoch 13/20\n",
      "28/28 [==============================] - 0s 2ms/step - loss: 0.6057 - recall: 0.9495 - val_loss: 0.6025 - val_recall: 0.9711\n",
      "Epoch 14/20\n",
      "28/28 [==============================] - 0s 2ms/step - loss: 0.6226 - recall: 0.9007 - val_loss: 0.6012 - val_recall: 0.9639\n",
      "Epoch 15/20\n",
      "28/28 [==============================] - 0s 2ms/step - loss: 0.6175 - recall: 0.9043 - val_loss: 0.5999 - val_recall: 0.9422\n",
      "Epoch 16/20\n",
      "28/28 [==============================] - 0s 2ms/step - loss: 0.6165 - recall: 0.8863 - val_loss: 0.5989 - val_recall: 0.9422\n",
      "Epoch 17/20\n",
      "28/28 [==============================] - 0s 2ms/step - loss: 0.6105 - recall: 0.8881 - val_loss: 0.5980 - val_recall: 0.9350\n",
      "Epoch 18/20\n",
      "28/28 [==============================] - 0s 2ms/step - loss: 0.6010 - recall: 0.8809 - val_loss: 0.5970 - val_recall: 0.9314\n",
      "Epoch 19/20\n",
      "28/28 [==============================] - 0s 2ms/step - loss: 0.6155 - recall: 0.8791 - val_loss: 0.5961 - val_recall: 0.9134\n",
      "Epoch 20/20\n",
      "28/28 [==============================] - 0s 2ms/step - loss: 0.6062 - recall: 0.8809 - val_loss: 0.5953 - val_recall: 0.8989\n",
      "14/14 [==============================] - 0s 539us/step - loss: 0.5953 - recall: 0.8989\n",
      "Epoch 1/20\n",
      "28/28 [==============================] - 0s 6ms/step - loss: 0.7137 - recall: 0.4372 - val_loss: 0.6733 - val_recall: 0.9149\n",
      "Epoch 2/20\n",
      "28/28 [==============================] - 0s 2ms/step - loss: 0.6703 - recall: 0.8342 - val_loss: 0.6378 - val_recall: 1.0000\n",
      "Epoch 3/20\n",
      "28/28 [==============================] - 0s 2ms/step - loss: 0.6489 - recall: 0.9508 - val_loss: 0.6259 - val_recall: 1.0000\n",
      "Epoch 4/20\n",
      "28/28 [==============================] - 0s 2ms/step - loss: 0.6460 - recall: 0.9781 - val_loss: 0.6190 - val_recall: 1.0000\n",
      "Epoch 5/20\n",
      "28/28 [==============================] - 0s 2ms/step - loss: 0.6428 - recall: 0.9654 - val_loss: 0.6165 - val_recall: 1.0000\n",
      "Epoch 6/20\n",
      "28/28 [==============================] - 0s 2ms/step - loss: 0.6326 - recall: 0.9872 - val_loss: 0.6130 - val_recall: 1.0000\n",
      "Epoch 7/20\n",
      "28/28 [==============================] - 0s 2ms/step - loss: 0.6391 - recall: 0.9836 - val_loss: 0.6089 - val_recall: 1.0000\n",
      "Epoch 8/20\n",
      "28/28 [==============================] - 0s 2ms/step - loss: 0.6343 - recall: 0.9763 - val_loss: 0.6068 - val_recall: 1.0000\n",
      "Epoch 9/20\n",
      "28/28 [==============================] - 0s 2ms/step - loss: 0.6354 - recall: 0.9727 - val_loss: 0.6052 - val_recall: 1.0000\n",
      "Epoch 10/20\n",
      "28/28 [==============================] - 0s 2ms/step - loss: 0.6276 - recall: 0.9617 - val_loss: 0.6031 - val_recall: 1.0000\n",
      "Epoch 11/20\n",
      "28/28 [==============================] - 0s 2ms/step - loss: 0.6253 - recall: 0.9381 - val_loss: 0.6007 - val_recall: 1.0000\n",
      "Epoch 12/20\n",
      "28/28 [==============================] - 0s 2ms/step - loss: 0.6339 - recall: 0.9472 - val_loss: 0.5977 - val_recall: 0.9965\n",
      "Epoch 13/20\n",
      "28/28 [==============================] - 0s 2ms/step - loss: 0.6235 - recall: 0.9526 - val_loss: 0.5959 - val_recall: 0.9929\n",
      "Epoch 14/20\n",
      "28/28 [==============================] - 0s 1ms/step - loss: 0.6265 - recall: 0.9399 - val_loss: 0.5942 - val_recall: 0.9894\n",
      "Epoch 15/20\n",
      "28/28 [==============================] - 0s 2ms/step - loss: 0.6241 - recall: 0.9235 - val_loss: 0.5930 - val_recall: 0.9894\n",
      "Epoch 16/20\n",
      "28/28 [==============================] - 0s 1ms/step - loss: 0.6397 - recall: 0.9308 - val_loss: 0.5915 - val_recall: 0.9858\n",
      "Epoch 17/20\n",
      "28/28 [==============================] - 0s 2ms/step - loss: 0.6240 - recall: 0.9399 - val_loss: 0.5906 - val_recall: 0.9752\n",
      "Epoch 18/20\n",
      "28/28 [==============================] - 0s 1ms/step - loss: 0.6278 - recall: 0.8980 - val_loss: 0.5913 - val_recall: 0.9539\n",
      "Epoch 19/20\n",
      "28/28 [==============================] - 0s 2ms/step - loss: 0.6250 - recall: 0.9180 - val_loss: 0.5896 - val_recall: 0.9468\n"
     ]
    },
    {
     "name": "stdout",
     "output_type": "stream",
     "text": [
      "Epoch 20/20\n",
      "28/28 [==============================] - 0s 1ms/step - loss: 0.6223 - recall: 0.8962 - val_loss: 0.5872 - val_recall: 0.9539\n",
      "14/14 [==============================] - 0s 616us/step - loss: 0.5872 - recall: 0.9539\n",
      "\n",
      "Average recall :  0.9239784280459086\n"
     ]
    }
   ],
   "source": [
    "l_hist = score_classifier_nn(epochs=20)"
   ]
  },
  {
   "cell_type": "markdown",
   "id": "133b4318",
   "metadata": {},
   "source": [
    "The recall is about 92%.\n",
    "We will thus retain this model"
   ]
  },
  {
   "cell_type": "code",
   "execution_count": 46,
   "id": "d9850364",
   "metadata": {},
   "outputs": [
    {
     "name": "stdout",
     "output_type": "stream",
     "text": [
      "Epoch 1/20\n",
      "42/42 [==============================] - 0s 789us/step - loss: 0.6585 - recall: 0.9483\n",
      "Epoch 2/20\n",
      "42/42 [==============================] - 0s 805us/step - loss: 0.6579 - recall: 0.9759\n",
      "Epoch 3/20\n",
      "42/42 [==============================] - 0s 829us/step - loss: 0.6407 - recall: 0.9892\n",
      "Epoch 4/20\n",
      "42/42 [==============================] - 0s 903us/step - loss: 0.6344 - recall: 0.9892\n",
      "Epoch 5/20\n",
      "42/42 [==============================] - 0s 854us/step - loss: 0.6329 - recall: 0.9844\n",
      "Epoch 6/20\n",
      "42/42 [==============================] - 0s 829us/step - loss: 0.6277 - recall: 0.9819\n",
      "Epoch 7/20\n",
      "42/42 [==============================] - 0s 878us/step - loss: 0.6171 - recall: 0.9675\n",
      "Epoch 8/20\n",
      "42/42 [==============================] - 0s 805us/step - loss: 0.6202 - recall: 0.9639\n",
      "Epoch 9/20\n",
      "42/42 [==============================] - 0s 805us/step - loss: 0.6139 - recall: 0.9398\n",
      "Epoch 10/20\n",
      "42/42 [==============================] - 0s 829us/step - loss: 0.6167 - recall: 0.9386\n",
      "Epoch 11/20\n",
      "42/42 [==============================] - 0s 805us/step - loss: 0.6134 - recall: 0.9266\n",
      "Epoch 12/20\n",
      "42/42 [==============================] - 0s 829us/step - loss: 0.6093 - recall: 0.9122\n",
      "Epoch 13/20\n",
      "42/42 [==============================] - 0s 781us/step - loss: 0.6070 - recall: 0.8833\n",
      "Epoch 14/20\n",
      "42/42 [==============================] - 0s 756us/step - loss: 0.6111 - recall: 0.8761\n",
      "Epoch 15/20\n",
      "42/42 [==============================] - 0s 854us/step - loss: 0.6077 - recall: 0.8857\n",
      "Epoch 16/20\n",
      "42/42 [==============================] - 0s 854us/step - loss: 0.6074 - recall: 0.8688\n",
      "Epoch 17/20\n",
      "42/42 [==============================] - 0s 829us/step - loss: 0.5893 - recall: 0.8797\n",
      "Epoch 18/20\n",
      "42/42 [==============================] - 0s 805us/step - loss: 0.5976 - recall: 0.8544\n",
      "Epoch 19/20\n",
      "42/42 [==============================] - 0s 805us/step - loss: 0.6030 - recall: 0.8436\n",
      "Epoch 20/20\n",
      "42/42 [==============================] - 0s 829us/step - loss: 0.6017 - recall: 0.8436\n",
      "INFO:tensorflow:Assets written to: ./nba_nn.mdl\\assets\n"
     ]
    }
   ],
   "source": [
    "#we train the model on all the data and export it\n",
    "\n",
    "mdl = get_model()\n",
    "mdl.compile(optimizer = 'adam',loss='binary_crossentropy',metrics =\"Recall\")\n",
    "mdl.fit(X, labels, epochs=20)\n",
    "mdl.save(\"./nba_nn.mdl\")"
   ]
  },
  {
   "cell_type": "code",
   "execution_count": 47,
   "id": "956e8339",
   "metadata": {},
   "outputs": [],
   "source": [
    "from keras.models import load_model\n",
    "NBA_MODEL = load_model('./nba_nn.mdl')\n"
   ]
  }
 ],
 "metadata": {
  "kernelspec": {
   "display_name": "Python 3 (ipykernel)",
   "language": "python",
   "name": "python3"
  },
  "language_info": {
   "codemirror_mode": {
    "name": "ipython",
    "version": 3
   },
   "file_extension": ".py",
   "mimetype": "text/x-python",
   "name": "python",
   "nbconvert_exporter": "python",
   "pygments_lexer": "ipython3",
   "version": "3.8.12"
  }
 },
 "nbformat": 4,
 "nbformat_minor": 5
}
